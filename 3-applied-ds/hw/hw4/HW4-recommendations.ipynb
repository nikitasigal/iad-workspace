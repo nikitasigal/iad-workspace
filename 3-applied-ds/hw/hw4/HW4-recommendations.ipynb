{
 "cells": [
  {
   "attachments": {},
   "cell_type": "markdown",
   "id": "ee35127e",
   "metadata": {
    "id": "ee35127e"
   },
   "source": [
    "# Прикладные задачи анализа данных\n",
    "\n",
    "## Домашнее задание 4\n",
    "\n",
    "В этой работе мы будем решать задачу рекомендаций музыки. Для этого мы реализуем метод коллаборативной фильтрации и модель со скрытыми переменными, сравним их между собой и попытаемся сделать выводы. Во всех заданиях разрешается переписывать код по своему усмотрению, предложенные шаблоны несут лишь рекомендательный характер. За дополнительные эксперименты с методами и их анализ можно получить бонусные баллы."
   ]
  },
  {
   "cell_type": "code",
   "execution_count": 1,
   "id": "75f6503b",
   "metadata": {
    "id": "75f6503b"
   },
   "outputs": [
    {
     "name": "stderr",
     "output_type": "stream",
     "text": [
      "<frozen importlib._bootstrap>:228: RuntimeWarning: scipy._lib.messagestream.MessageStream size changed, may indicate binary incompatibility. Expected 56 from C header, got 64 from PyObject\n"
     ]
    }
   ],
   "source": [
    "from sklearn.preprocessing import LabelEncoder\n",
    "\n",
    "import pandas as pd\n",
    "import numpy as np\n",
    "from tqdm.notebook import tqdm\n",
    "from typing import Callable, List\n",
    "\n",
    "import matplotlib.pyplot as plt\n",
    "import seaborn as sns\n",
    "import scipy.sparse as scs"
   ]
  },
  {
   "cell_type": "code",
   "execution_count": 2,
   "id": "ff7f753a",
   "metadata": {},
   "outputs": [],
   "source": [
    "plt.style.use('~/.config/matplotlib/stylelib/dracula.mplstyle')"
   ]
  },
  {
   "cell_type": "code",
   "execution_count": 3,
   "id": "q39kPlJ6jsQc",
   "metadata": {
    "colab": {
     "base_uri": "https://localhost:8080/",
     "height": 204
    },
    "id": "q39kPlJ6jsQc",
    "outputId": "67fc7d37-90b0-4c9a-fb3d-f75ad031ed81"
   },
   "outputs": [
    {
     "data": {
      "text/html": [
       "<div>\n",
       "<style scoped>\n",
       "    .dataframe tbody tr th:only-of-type {\n",
       "        vertical-align: middle;\n",
       "    }\n",
       "\n",
       "    .dataframe tbody tr th {\n",
       "        vertical-align: top;\n",
       "    }\n",
       "\n",
       "    .dataframe thead th {\n",
       "        text-align: right;\n",
       "    }\n",
       "</style>\n",
       "<table border=\"1\" class=\"dataframe\">\n",
       "  <thead>\n",
       "    <tr style=\"text-align: right;\">\n",
       "      <th></th>\n",
       "      <th>userId</th>\n",
       "      <th>trackId</th>\n",
       "    </tr>\n",
       "  </thead>\n",
       "  <tbody>\n",
       "    <tr>\n",
       "      <th>0</th>\n",
       "      <td>0</td>\n",
       "      <td>14</td>\n",
       "    </tr>\n",
       "    <tr>\n",
       "      <th>1</th>\n",
       "      <td>0</td>\n",
       "      <td>95</td>\n",
       "    </tr>\n",
       "    <tr>\n",
       "      <th>2</th>\n",
       "      <td>0</td>\n",
       "      <td>219</td>\n",
       "    </tr>\n",
       "    <tr>\n",
       "      <th>3</th>\n",
       "      <td>0</td>\n",
       "      <td>220</td>\n",
       "    </tr>\n",
       "    <tr>\n",
       "      <th>4</th>\n",
       "      <td>0</td>\n",
       "      <td>404</td>\n",
       "    </tr>\n",
       "  </tbody>\n",
       "</table>\n",
       "</div>"
      ],
      "text/plain": [
       "   userId  trackId\n",
       "0       0       14\n",
       "1       0       95\n",
       "2       0      219\n",
       "3       0      220\n",
       "4       0      404"
      ]
     },
     "execution_count": 3,
     "metadata": {},
     "output_type": "execute_result"
    }
   ],
   "source": [
    "ratings = pd.read_csv('music_dataset.csv')\n",
    "ratings.head()"
   ]
  },
  {
   "cell_type": "code",
   "execution_count": 4,
   "id": "PgGrUf6TSvHC",
   "metadata": {
    "colab": {
     "base_uri": "https://localhost:8080/",
     "height": 204
    },
    "id": "PgGrUf6TSvHC",
    "outputId": "2bdd725a-c737-4f08-f520-4fcd94dca36b"
   },
   "outputs": [
    {
     "data": {
      "text/html": [
       "<div>\n",
       "<style scoped>\n",
       "    .dataframe tbody tr th:only-of-type {\n",
       "        vertical-align: middle;\n",
       "    }\n",
       "\n",
       "    .dataframe tbody tr th {\n",
       "        vertical-align: top;\n",
       "    }\n",
       "\n",
       "    .dataframe thead th {\n",
       "        text-align: right;\n",
       "    }\n",
       "</style>\n",
       "<table border=\"1\" class=\"dataframe\">\n",
       "  <thead>\n",
       "    <tr style=\"text-align: right;\">\n",
       "      <th></th>\n",
       "      <th>id</th>\n",
       "      <th>name</th>\n",
       "      <th>artists</th>\n",
       "    </tr>\n",
       "  </thead>\n",
       "  <tbody>\n",
       "    <tr>\n",
       "      <th>0</th>\n",
       "      <td>0</td>\n",
       "      <td>What There Is</td>\n",
       "      <td>['a-ha']</td>\n",
       "    </tr>\n",
       "    <tr>\n",
       "      <th>1</th>\n",
       "      <td>1</td>\n",
       "      <td>I'll Play The Blues For You</td>\n",
       "      <td>['Albert King']</td>\n",
       "    </tr>\n",
       "    <tr>\n",
       "      <th>2</th>\n",
       "      <td>2</td>\n",
       "      <td>Breaking Up Somebody's Home</td>\n",
       "      <td>['Albert King']</td>\n",
       "    </tr>\n",
       "    <tr>\n",
       "      <th>3</th>\n",
       "      <td>3</td>\n",
       "      <td>Imma Be</td>\n",
       "      <td>['Black Eyed Peas']</td>\n",
       "    </tr>\n",
       "    <tr>\n",
       "      <th>4</th>\n",
       "      <td>4</td>\n",
       "      <td>Boom Boom Pow</td>\n",
       "      <td>['Black Eyed Peas']</td>\n",
       "    </tr>\n",
       "  </tbody>\n",
       "</table>\n",
       "</div>"
      ],
      "text/plain": [
       "   id                         name              artists\n",
       "0   0                What There Is             ['a-ha']\n",
       "1   1  I'll Play The Blues For You      ['Albert King']\n",
       "2   2  Breaking Up Somebody's Home      ['Albert King']\n",
       "3   3                      Imma Be  ['Black Eyed Peas']\n",
       "4   4                Boom Boom Pow  ['Black Eyed Peas']"
      ]
     },
     "execution_count": 4,
     "metadata": {},
     "output_type": "execute_result"
    }
   ],
   "source": [
    "tracks_info = pd.read_csv('tracks_info.csv')\n",
    "tracks_info.head()"
   ]
  },
  {
   "attachments": {},
   "cell_type": "markdown",
   "id": "SSvgStZZIEdz",
   "metadata": {
    "id": "SSvgStZZIEdz"
   },
   "source": [
    "Для оценки качества рекомендаций мы будем использовать метрику $MAP@k$.\n",
    "\n",
    "$$\n",
    "MAP@k = \\frac{1}{N} \\sum_{u = 1}^N AP_u@k\n",
    "$$\n",
    "$$\n",
    "AP_u@k = \\frac{1}{\\min(k, n_u)} \\sum_{i=1}^k r_u(i) p_u@i\n",
    "$$\n",
    "$$p_u@k = \\dfrac{1}{k}\\sum_{j=1}^k r_u(j)$$\n",
    "\n",
    "\n",
    "*   $N$ - количество пользователей.\n",
    "*   $n_u$ - число релевантных треков пользователя $u$ на тестовом промежутке.\n",
    "*   $r_u(i)$ - бинарная величина: относится ли трек на позиции $i$ к релевантным."
   ]
  },
  {
   "attachments": {},
   "cell_type": "markdown",
   "id": "UDTWQLoKS3nA",
   "metadata": {
    "id": "UDTWQLoKS3nA"
   },
   "source": [
    "**Задание 1 (0.5 балла).** Реализуйте метрику $MAP@k$."
   ]
  },
  {
   "cell_type": "code",
   "execution_count": 5,
   "id": "8YW8fMfnQY08",
   "metadata": {
    "id": "8YW8fMfnQY08",
    "scrolled": true
   },
   "outputs": [],
   "source": [
    "def mapk(relevant: List[List[int]], predicted: List[List[int]], k: int = 20):\n",
    "    r = lambda u, i: predicted[u - 1][i - 1] in relevant[u - 1]   \n",
    "    p = lambda u, k: 1 / k * sum([r(u, i) for i in range(1, 1 + k)])\n",
    "    ap = lambda u, k: 1 / min(k, len(relevant[u - 1])) * sum([r(u, i) * p(u, i) for i in range(1, 1 + k)])\n",
    "    \n",
    "    return 1 / len(relevant) * sum([ap(u, k) for u in range(1, 1 + len(relevant))])  "
   ]
  },
  {
   "cell_type": "code",
   "execution_count": 6,
   "id": "JbKyNPk8TaIG",
   "metadata": {
    "id": "JbKyNPk8TaIG"
   },
   "outputs": [],
   "source": [
    "relevant = [\n",
    "    [1, 7, 6, 2, 8],\n",
    "    [1, 5, 4, 8],\n",
    "    [8, 2, 5]\n",
    "]\n",
    "\n",
    "pred = [\n",
    "    [8, 1, 5, 0, 7, 2, 9, 4],\n",
    "    [0, 1, 8, 5, 3, 4, 7, 9],\n",
    "    [9, 2, 0, 6, 8, 5, 3, 7]\n",
    "]\n",
    "\n",
    "assert round(mapk(relevant, pred, k=5), 4) == 0.4331"
   ]
  },
  {
   "attachments": {},
   "cell_type": "markdown",
   "id": "WFYR-X49HlMl",
   "metadata": {
    "id": "WFYR-X49HlMl"
   },
   "source": [
    "Разделим данные на тренировочные и тестовые так, чтобы в теcтовый датасет попали 50 последних треков каждого пользователя."
   ]
  },
  {
   "cell_type": "code",
   "execution_count": 7,
   "id": "TEzz_ym8Go_L",
   "metadata": {
    "id": "TEzz_ym8Go_L"
   },
   "outputs": [],
   "source": [
    "def train_test_split(ratings):\n",
    "    train_ratings, test_ratings = [], []\n",
    "    num_test_samples = 50\n",
    "\n",
    "    # getting train samples\n",
    "    for userId, user_data in tqdm(ratings.groupby('userId')):\n",
    "        train_ratings += [user_data[:-num_test_samples]]\n",
    "\n",
    "    train_ratings = pd.concat(train_ratings).reset_index(drop=True)\n",
    "    all_train_items = train_ratings['trackId'].unique()\n",
    "\n",
    "    # getting train samples\n",
    "    # we drop all tracks that are not presented it the training samples,\n",
    "    # because we won't be able to learn representations for them\n",
    "    for userId, user_data in tqdm(ratings.groupby('userId')):\n",
    "        test_items = user_data[-num_test_samples:]\n",
    "        test_items = test_items[np.isin(test_items['trackId'], all_train_items)]\n",
    "        test_ratings += [test_items]\n",
    "\n",
    "    test_ratings = pd.concat(test_ratings).reset_index(drop=True)\n",
    "\n",
    "    return train_ratings, test_ratings"
   ]
  },
  {
   "cell_type": "code",
   "execution_count": 8,
   "id": "vuyiM1Lk4L-e",
   "metadata": {
    "colab": {
     "base_uri": "https://localhost:8080/",
     "height": 81,
     "referenced_widgets": [
      "1b31eda686b54f7ca8c66aef18c987f3",
      "c8a26ff7a9504ca7b9982a1fdc958364",
      "55a177c209e6414d8daae0aae25ab569",
      "5696660af0a04fbbb0743796bdd5f9b3",
      "35c5904b82544e9cac71cf7b0b67cc1e",
      "eac1572340b3491b987713ddf4fef228",
      "bc2f4104184749dbb7dcd2b5c6235238",
      "2943eba3c235416b809e23186d5625ef",
      "2ded17a125a44376abbe87ef29f2aa17",
      "0b2d687ab70343a999f3a37dfe030a9c",
      "2571c66c254d4a6c9ae5a20812e41641",
      "b1c919ee0c85468a89413d98d9926b50",
      "09367b7a291f4c81a93f79ac3bf09e9b",
      "3339a154ce00450b8d07b45eda2e887c",
      "41b564f7d67b4422abcd5ac9925eb1f2",
      "bfd4906b7ffc4ade9650aa96d140860a",
      "57bc2e2902994e799d4378888bdb342a",
      "4631243cc4dd4d1a8e3ffe3a8da29cf7",
      "a0cfdce0ec8544c49332cc831f67e777",
      "c5b91a082e7d40879f66b6685fdfcfe0",
      "f0fbd1b9ea074c1b9969417c02b32348",
      "7935cc6e74c14372a82276f0a28e4559"
     ]
    },
    "id": "vuyiM1Lk4L-e",
    "outputId": "5e4220b9-9c9e-4dba-b85d-c12ebb3a2f7a"
   },
   "outputs": [
    {
     "data": {
      "application/vnd.jupyter.widget-view+json": {
       "model_id": "565cfc7972a941048b03dbdf58a15cd5",
       "version_major": 2,
       "version_minor": 0
      },
      "text/plain": [
       "  0%|          | 0/241 [00:00<?, ?it/s]"
      ]
     },
     "metadata": {},
     "output_type": "display_data"
    },
    {
     "data": {
      "application/vnd.jupyter.widget-view+json": {
       "model_id": "3be9ecf076164fd69ec438f87e62b4f7",
       "version_major": 2,
       "version_minor": 0
      },
      "text/plain": [
       "  0%|          | 0/241 [00:00<?, ?it/s]"
      ]
     },
     "metadata": {},
     "output_type": "display_data"
    }
   ],
   "source": [
    "train_ratings, test_ratings = train_test_split(ratings)"
   ]
  },
  {
   "attachments": {},
   "cell_type": "markdown",
   "id": "P3ZVqBMjBqfe",
   "metadata": {
    "id": "P3ZVqBMjBqfe"
   },
   "source": [
    "Почистим табличку с информацией о треках и закодируем id треков так, чтобы они соответствовали их порядковому номеру."
   ]
  },
  {
   "cell_type": "code",
   "execution_count": 9,
   "id": "-SCTsxeYwCO-",
   "metadata": {
    "id": "-SCTsxeYwCO-"
   },
   "outputs": [],
   "source": [
    "redundant_rows = np.where(~np.isin(tracks_info['id'], train_ratings['trackId'].unique()))[0]\n",
    "tracks_info.drop(redundant_rows, inplace=True)\n",
    "tracks_info = tracks_info.reset_index(drop=True)"
   ]
  },
  {
   "cell_type": "code",
   "execution_count": 10,
   "id": "cVfC-rfU3J49",
   "metadata": {
    "id": "cVfC-rfU3J49"
   },
   "outputs": [],
   "source": [
    "def ids_encoder(ratings):\n",
    "    users = sorted(ratings['userId'].unique())\n",
    "    items = sorted(ratings['trackId'].unique())\n",
    "\n",
    "    # create users and items encoders\n",
    "    uencoder = LabelEncoder()\n",
    "    iencoder = LabelEncoder()\n",
    "\n",
    "    # fit users and items ids to the corresponding encoder\n",
    "    uencoder.fit(users)\n",
    "    iencoder.fit(items)\n",
    "\n",
    "    return uencoder, iencoder"
   ]
  },
  {
   "cell_type": "code",
   "execution_count": 11,
   "id": "xw2VDBz9v6LT",
   "metadata": {
    "id": "xw2VDBz9v6LT"
   },
   "outputs": [],
   "source": [
    "uencoder, iencoder = ids_encoder(train_ratings)\n",
    "train_ratings['trackId'] = iencoder.transform(train_ratings['trackId'].tolist())\n",
    "test_ratings['trackId'] = iencoder.transform(test_ratings['trackId'].tolist())\n",
    "tracks_info['id'] = iencoder.transform(tracks_info['id'].tolist())"
   ]
  },
  {
   "cell_type": "code",
   "execution_count": 12,
   "id": "GfjwnUWTuhRD",
   "metadata": {
    "colab": {
     "base_uri": "https://localhost:8080/",
     "height": 204
    },
    "id": "GfjwnUWTuhRD",
    "outputId": "a68791ba-ee61-4485-f6d6-d38bf7671393"
   },
   "outputs": [
    {
     "data": {
      "text/html": [
       "<div>\n",
       "<style scoped>\n",
       "    .dataframe tbody tr th:only-of-type {\n",
       "        vertical-align: middle;\n",
       "    }\n",
       "\n",
       "    .dataframe tbody tr th {\n",
       "        vertical-align: top;\n",
       "    }\n",
       "\n",
       "    .dataframe thead th {\n",
       "        text-align: right;\n",
       "    }\n",
       "</style>\n",
       "<table border=\"1\" class=\"dataframe\">\n",
       "  <thead>\n",
       "    <tr style=\"text-align: right;\">\n",
       "      <th></th>\n",
       "      <th>userId</th>\n",
       "      <th>trackId</th>\n",
       "    </tr>\n",
       "  </thead>\n",
       "  <tbody>\n",
       "    <tr>\n",
       "      <th>0</th>\n",
       "      <td>0</td>\n",
       "      <td>14</td>\n",
       "    </tr>\n",
       "    <tr>\n",
       "      <th>1</th>\n",
       "      <td>0</td>\n",
       "      <td>95</td>\n",
       "    </tr>\n",
       "    <tr>\n",
       "      <th>2</th>\n",
       "      <td>0</td>\n",
       "      <td>219</td>\n",
       "    </tr>\n",
       "    <tr>\n",
       "      <th>3</th>\n",
       "      <td>0</td>\n",
       "      <td>220</td>\n",
       "    </tr>\n",
       "    <tr>\n",
       "      <th>4</th>\n",
       "      <td>0</td>\n",
       "      <td>404</td>\n",
       "    </tr>\n",
       "  </tbody>\n",
       "</table>\n",
       "</div>"
      ],
      "text/plain": [
       "   userId  trackId\n",
       "0       0       14\n",
       "1       0       95\n",
       "2       0      219\n",
       "3       0      220\n",
       "4       0      404"
      ]
     },
     "execution_count": 12,
     "metadata": {},
     "output_type": "execute_result"
    }
   ],
   "source": [
    "train_ratings.head()"
   ]
  },
  {
   "cell_type": "code",
   "execution_count": 13,
   "id": "rtV91NkmuizE",
   "metadata": {
    "colab": {
     "base_uri": "https://localhost:8080/",
     "height": 204
    },
    "id": "rtV91NkmuizE",
    "outputId": "4de6e82c-4ab0-43ff-c70a-dcabe5c9bd74"
   },
   "outputs": [
    {
     "data": {
      "text/html": [
       "<div>\n",
       "<style scoped>\n",
       "    .dataframe tbody tr th:only-of-type {\n",
       "        vertical-align: middle;\n",
       "    }\n",
       "\n",
       "    .dataframe tbody tr th {\n",
       "        vertical-align: top;\n",
       "    }\n",
       "\n",
       "    .dataframe thead th {\n",
       "        text-align: right;\n",
       "    }\n",
       "</style>\n",
       "<table border=\"1\" class=\"dataframe\">\n",
       "  <thead>\n",
       "    <tr style=\"text-align: right;\">\n",
       "      <th></th>\n",
       "      <th>userId</th>\n",
       "      <th>trackId</th>\n",
       "    </tr>\n",
       "  </thead>\n",
       "  <tbody>\n",
       "    <tr>\n",
       "      <th>0</th>\n",
       "      <td>0</td>\n",
       "      <td>57582</td>\n",
       "    </tr>\n",
       "    <tr>\n",
       "      <th>1</th>\n",
       "      <td>0</td>\n",
       "      <td>57802</td>\n",
       "    </tr>\n",
       "    <tr>\n",
       "      <th>2</th>\n",
       "      <td>0</td>\n",
       "      <td>57957</td>\n",
       "    </tr>\n",
       "    <tr>\n",
       "      <th>3</th>\n",
       "      <td>0</td>\n",
       "      <td>58174</td>\n",
       "    </tr>\n",
       "    <tr>\n",
       "      <th>4</th>\n",
       "      <td>0</td>\n",
       "      <td>59168</td>\n",
       "    </tr>\n",
       "  </tbody>\n",
       "</table>\n",
       "</div>"
      ],
      "text/plain": [
       "   userId  trackId\n",
       "0       0    57582\n",
       "1       0    57802\n",
       "2       0    57957\n",
       "3       0    58174\n",
       "4       0    59168"
      ]
     },
     "execution_count": 13,
     "metadata": {},
     "output_type": "execute_result"
    }
   ],
   "source": [
    "test_ratings.head()"
   ]
  },
  {
   "attachments": {},
   "cell_type": "markdown",
   "id": "COtKDquLRrVV",
   "metadata": {
    "id": "COtKDquLRrVV"
   },
   "source": [
    "Соберем все релевантные треки для каждого пользователя в список."
   ]
  },
  {
   "cell_type": "code",
   "execution_count": 14,
   "id": "UOCGl5rpPrDn",
   "metadata": {
    "id": "UOCGl5rpPrDn"
   },
   "outputs": [],
   "source": [
    "test_relevant = []\n",
    "test_users = []\n",
    "for user_id, user_data in test_ratings.groupby('userId'):\n",
    "    test_relevant += [user_data['trackId'].tolist()]\n",
    "    test_users.append(user_id)"
   ]
  },
  {
   "attachments": {},
   "cell_type": "markdown",
   "id": "3UyBjs1SULH9",
   "metadata": {
    "id": "3UyBjs1SULH9"
   },
   "source": [
    "**Задание 2 (0.5 балла).** Реализуйте метод `get_test_recommendations` в классе `BaseModel`. Он принимает на вход параметр `k` и возвращает массив из `k` наиболее подходящих треков для каждого пользователя. Не забывайте удалять уже прослушанные треки из рекомендуемых."
   ]
  },
  {
   "cell_type": "code",
   "execution_count": 15,
   "id": "sXnUGtM3XOp7",
   "metadata": {
    "id": "sXnUGtM3XOp7"
   },
   "outputs": [],
   "source": [
    "class BaseModel:\n",
    "    def __init__(self, ratings: pd.DataFrame):\n",
    "        self.ratings = ratings\n",
    "        self.n_users = len(np.unique(self.ratings['userId']))\n",
    "        self.n_items = len(np.unique(self.ratings['trackId']))\n",
    "\n",
    "        self.R = np.zeros((self.n_users, self.n_items))\n",
    "        self.R[self.ratings['userId'], self.ratings['trackId']] = 1.\n",
    "        \n",
    "    def recommend(self, uid: int):\n",
    "        \"\"\"\n",
    "        param uid: int - user's id\n",
    "        return: [n_items] - vector of recommended items sorted by their scores in descending order\n",
    "        \"\"\"\n",
    "        raise NotImplementedError\n",
    "\n",
    "    def remove_train_items(self, preds: List[List[int]], k: int):\n",
    "        \"\"\"\n",
    "        param preds: [n_users, n_items] - recommended items for each user\n",
    "        param k: int\n",
    "        return: np.array [n_users, k] - recommended items without training examples\n",
    "        \"\"\"\n",
    "        new_preds = np.zeros((len(preds), k), dtype=int)\n",
    "        for user_id, user_data in self.ratings.groupby('userId'):\n",
    "            user_preds = preds[user_id]\n",
    "            new_preds[user_id] = user_preds[~np.in1d(user_preds, user_data['trackId'])][:k]\n",
    "\n",
    "        return new_preds\n",
    "\n",
    "    def get_test_recommendations(self, k: int):\n",
    "        test_preds = []\n",
    "        \n",
    "        test_preds = [self.recommend(id) for id in range(self.n_users)]\n",
    "        test_preds = self.remove_train_items(test_preds, k)\n",
    "\n",
    "        return test_preds[test_users]"
   ]
  },
  {
   "attachments": {},
   "cell_type": "markdown",
   "id": "jMdKX1DZ-o4V",
   "metadata": {
    "id": "jMdKX1DZ-o4V"
   },
   "source": [
    "## Часть 1. Коллаборативная фильтрация (User2User)"
   ]
  },
  {
   "attachments": {},
   "cell_type": "markdown",
   "id": "t_ZLzg_0XxVf",
   "metadata": {
    "id": "t_ZLzg_0XxVf"
   },
   "source": [
    "Идея: чтобы выбрать треки, которые понравятся пользователю, можно набрать несколько похожих на него пользователей (соседей) и посмотреть, какие треки они слушают. После этого остается агрегировать треки этих пользователей и выбрать самые популярные. Соответственно, задача состоит из двух частей: выбора функции похожести двух пользователей и способа агрегации.\n",
    "\n",
    "В качестве функции похожести мы будем использовать две метрики:\n",
    "\n",
    "1. Корреляция Пирсона $$s(u, v) = \\frac{\\sum_{i \\in I_u \\cap I_v} r_{ui}r_{vi}}{\\sqrt{\\sum_{i \\in I_u} r_{ui} ^2}\\sqrt{\\sum_{i \\in I_v} r_{vi}^2}} $$\n",
    "\n",
    "2. Мера Жаккара\n",
    "\n",
    "$$ s(u, v) = \\frac{|I_u \\cap I_v|}{|I_u \\cup I_v|} $$\n",
    "\n",
    "\n",
    "Корреляция Пирсона немного видоизменена, чтобы подходить под нашу задачу.\n",
    "\n",
    "\n",
    "Во всех формулах \n",
    "* $I_u$ - множество треков, прослушанных пользователем $u$.\n",
    "* $r_{ui}$ - прослушал ли пользователь $u$ трек $i$ (0 или 1).\n",
    "\n",
    "Множество соседей определим как $$N(u) = \\{ v \\in U \\setminus \\{u\\} \\mid s(u, v) > \\alpha\\},$$ где $\\alpha \\, - $ гиперпараметр.\n",
    "\n",
    "\n",
    "\n",
    "Для агрегации мы будем пользоваться следующей формулой.\n",
    "$$\n",
    "\\hat{r}_{ui} = \\frac{\\sum_{v \\in N(u)} s(u, v) r_{vi}}{\\sum_{v \\in N(u)} |s(u, v)|}\n",
    "$$"
   ]
  },
  {
   "attachments": {},
   "cell_type": "markdown",
   "id": "YJyD1LVTKK9A",
   "metadata": {
    "id": "YJyD1LVTKK9A"
   },
   "source": [
    "**Задание 3.1 (0.5 балла).** Реализуйте функцию подсчета корреляции Пирсона.\n",
    "\n",
    "**Задание 3.2 (0.5 балла).** Реализуйте функцию подсчета меры Жаккара.\n",
    "\n",
    "Функции принимают матрицу оценок и вектор оценок пользователя $u$ и возвращают вектор со значениями похожести пользователя $u$ на всех пользователей. Старайтесь писать оптимизированный код, за неэффективную реализацию оценка может быть снижена."
   ]
  },
  {
   "cell_type": "code",
   "execution_count": 16,
   "id": "rRvSRm_aWZMR",
   "metadata": {
    "id": "rRvSRm_aWZMR"
   },
   "outputs": [],
   "source": [
    "def pearson(ratings: np.array, user_vector: np.array) -> np.array:\n",
    "    return (ratings @ user_vector) / (ratings.sum(axis=1)**0.5 * user_vector.sum()**0.5)\n",
    "\n",
    "\n",
    "def jaccard(ratings: np.array, user_vector: np.array) -> np.array:\n",
    "    return (ratings @ user_vector) / ((ratings + user_vector) > 0).sum(axis=1)"
   ]
  },
  {
   "attachments": {},
   "cell_type": "markdown",
   "id": "WMLtM7ffNWdx",
   "metadata": {
    "id": "WMLtM7ffNWdx"
   },
   "source": [
    "**Задание 4 (1 балл).** Реализуйте методы `similarity` и `recommend` класса `User2User`. `recommend` возвращает индексы треков, отсортированные в порядке убывания предсказанных оценок.\n"
   ]
  },
  {
   "cell_type": "code",
   "execution_count": 17,
   "id": "5ZIz0G1RJbXl",
   "metadata": {
    "id": "5ZIz0G1RJbXl"
   },
   "outputs": [],
   "source": [
    "class User2User(BaseModel):\n",
    "    def __init__(self, ratings, similarity_func):\n",
    "        super().__init__(ratings)\n",
    "\n",
    "        assert similarity_func in [pearson, jaccard]\n",
    "\n",
    "        self.similarity_func = similarity_func\n",
    "        self.alpha = 0.02\n",
    "\n",
    "    def similarity(self, user_vector: np.array):\n",
    "        \"\"\"\n",
    "        user_vector: [n_items]\n",
    "        \"\"\"\n",
    "        return self.similarity_func(self.R, user_vector)\n",
    "\n",
    "    def recommend(self, uid: int):\n",
    "        s = self.similarity(self.R[uid])        \n",
    "        N = np.setdiff1d(np.argwhere(s > 0.02)[:, 0], [0], assume_unique=True)\n",
    "        pred_r = (s[N] @ self.R[N]) / s[N].sum()\n",
    "        return np.argsort(pred_r)[::-1]"
   ]
  },
  {
   "cell_type": "code",
   "execution_count": 65,
   "id": "2169c46f",
   "metadata": {},
   "outputs": [
    {
     "data": {
      "text/plain": [
       "array([[ 9693,  7533,  6376, ...,  3106,  1666,   780],\n",
       "       [24500,  2814, 33436, ..., 54220, 11950,  1019],\n",
       "       [ 1073,  1019, 11493, ...,  3106,  7780,  6448],\n",
       "       ...,\n",
       "       [ 1019,   805,  9694, ..., 11493, 49577,  6773],\n",
       "       [  805,  7533,  4032, ...,  5653,  6376,  3106],\n",
       "       [18070, 33436,  2814, ..., 22325, 50211, 24290]])"
      ]
     },
     "execution_count": 65,
     "metadata": {},
     "output_type": "execute_result"
    }
   ],
   "source": [
    "model = User2User(train_ratings, similarity_func=pearson)\n",
    "model.get_test_recommendations(15)"
   ]
  },
  {
   "attachments": {},
   "cell_type": "markdown",
   "id": "kqEwJiFOSs2r",
   "metadata": {
    "id": "kqEwJiFOSs2r"
   },
   "source": [
    "**Задание 5 (1 балл).** Постройте графики зависимости значений $MAP@k$ от разных $k$ для обоих функций похожести, сравните их между собой, а также с предсказаниями случайного алгоритма и сделайте выводы."
   ]
  },
  {
   "cell_type": "code",
   "execution_count": 19,
   "id": "bae02325",
   "metadata": {},
   "outputs": [],
   "source": [
    "pearson_model = User2User(train_ratings, similarity_func=pearson)\n",
    "jaccard_model = User2User(train_ratings, similarity_func=jaccard)"
   ]
  },
  {
   "cell_type": "code",
   "execution_count": 20,
   "id": "6c6a1a26",
   "metadata": {},
   "outputs": [],
   "source": [
    "pearosn_rec = pearson_model.get_test_recommendations(50)\n",
    "jaccard_rec = jaccard_model.get_test_recommendations(50)\n",
    "random_rec = np.asarray([tracks_info.sample(50)['id'] for _ in range(model.n_users)])"
   ]
  },
  {
   "cell_type": "code",
   "execution_count": 21,
   "id": "tyswL-dlNpy7",
   "metadata": {
    "id": "tyswL-dlNpy7"
   },
   "outputs": [
    {
     "data": {
      "image/png": "[encoded data removed]",
      "text/plain": [
       "<Figure size 1500x1000 with 1 Axes>"
      ]
     },
     "metadata": {},
     "output_type": "display_data"
    }
   ],
   "source": [
    "plt.figure(figsize=(15, 10))\n",
    "\n",
    "k_values = range(1, 31)\n",
    "mapk_pearson = [mapk(test_relevant, pearosn_rec, k) for k in k_values]\n",
    "mapk_jaccard = [mapk(test_relevant, jaccard_rec, k) for k in k_values]\n",
    "mapk_random = [mapk(test_relevant, random_rec, k) for k in k_values]\n",
    "\n",
    "plt.plot(k_values, mapk_pearson, label='Pearson')\n",
    "plt.plot(k_values, mapk_jaccard, label='Jaccard')\n",
    "plt.plot(k_values, mapk_random, label='Random')\n",
    "plt.legend()\n",
    "plt.show()"
   ]
  },
  {
   "attachments": {},
   "cell_type": "markdown",
   "id": "fe56333b",
   "metadata": {},
   "source": [
    "> По какой-то непонятной причине при использовании меры Жаккара первый трек не попадает в релевантные и метрека зануляется, в то время как у Пирсона все хорошо. В остальном же алгоритм на обоих метриках работает практически одинаково."
   ]
  },
  {
   "attachments": {},
   "cell_type": "markdown",
   "id": "0Fy7v-b-WDQE",
   "metadata": {
    "id": "0Fy7v-b-WDQE"
   },
   "source": [
    "**Задание 6 (1.5 балла).** Как вы могли заметить, матрица оценок получается очень разреженной, но мы работаем с ней как с обычной, это не дело. Перепишите код так, чтобы все методы могли работать с разреженными матрицами и сравните скорость работы такого подхода с оригинальным."
   ]
  },
  {
   "cell_type": "code",
   "execution_count": 22,
   "id": "4jQiwrTbW_DL",
   "metadata": {
    "id": "4jQiwrTbW_DL"
   },
   "outputs": [],
   "source": [
    "def pearson_sparse(ratings: scs.csr_matrix, user_vector: scs.csr_matrix) -> np.array:\n",
    "    return np.asarray((ratings @ user_vector.T) / (np.asarray(ratings.sum(axis=1))**0.5 * user_vector.sum()**0.5))[:, 0]\n",
    "\n",
    "\n",
    "def jaccard_sparse(ratings: scs.csr_matrix, user_vector: scs.csr_matrix) -> np.array:\n",
    "    return (ratings @ user_vector.T).toarray()[:, 0] / ((ratings.toarray() + user_vector.toarray()[0]) > 0).sum(axis=1)"
   ]
  },
  {
   "cell_type": "code",
   "execution_count": 23,
   "id": "a4323eb2",
   "metadata": {},
   "outputs": [],
   "source": [
    "class User2UserSparse(BaseModel):\n",
    "    def __init__(self, ratings, similarity_func):\n",
    "        super().__init__(ratings)\n",
    "\n",
    "        assert similarity_func in [pearson_sparse, jaccard_sparse]\n",
    "\n",
    "        self.similarity_func = similarity_func\n",
    "        self.alpha = 0.02\n",
    "        \n",
    "        self.R = scs.csr_matrix(self.R)\n",
    "\n",
    "    def similarity(self, user_vector: scs.csr_matrix):\n",
    "        \"\"\"\n",
    "        user_vector: [n_items]\n",
    "        \"\"\"\n",
    "        return self.similarity_func(self.R, user_vector)\n",
    "\n",
    "    def recommend(self, uid: int):\n",
    "        s = self.similarity(self.R[uid])      \n",
    "        N = np.setdiff1d(np.argwhere(s > 0.02)[:, 0], [0], assume_unique=True)\n",
    "        pred_r = (s[N].T @ self.R[N]) / s[N].sum()\n",
    "        return np.argsort(pred_r)[::-1]"
   ]
  },
  {
   "cell_type": "code",
   "execution_count": 24,
   "id": "210dda44",
   "metadata": {},
   "outputs": [
    {
     "data": {
      "text/plain": [
       "array([[ 9693,  7533,  6376, ...,  3106,  1666,   780],\n",
       "       [24500,  2814, 33436, ..., 54220, 11950,  1019],\n",
       "       [ 1073,  1019, 11493, ...,  3106,  7780,  6448],\n",
       "       ...,\n",
       "       [ 1019,   805,  9694, ..., 11493, 49577,  6773],\n",
       "       [  805,  7533,  4032, ...,  5653,  6376,  3106],\n",
       "       [18070, 33436,  2814, ..., 22325, 50211, 24290]])"
      ]
     },
     "execution_count": 24,
     "metadata": {},
     "output_type": "execute_result"
    }
   ],
   "source": [
    "sparse_model = User2UserSparse(train_ratings, similarity_func=pearson_sparse)\n",
    "sparse_model.get_test_recommendations(15)"
   ]
  },
  {
   "cell_type": "code",
   "execution_count": 25,
   "id": "5cb348bd",
   "metadata": {},
   "outputs": [],
   "source": [
    "import time\n",
    "times = pd.DataFrame({'np.array': [0, 0], 'scs.csr_matrix': [0, 0]}, index=['Pearson', 'Jaccard'])"
   ]
  },
  {
   "cell_type": "code",
   "execution_count": 26,
   "id": "92158c17",
   "metadata": {},
   "outputs": [],
   "source": [
    "for f in [pearson, jaccard]:\n",
    "    st = time.time()\n",
    "    _ = User2User(train_ratings, similarity_func=f).get_test_recommendations(15)\n",
    "    en = time.time()\n",
    "    times.at['Pearson' if f.__name__.__contains__('pearson') else 'Jaccard', 'np.array'] = en - st"
   ]
  },
  {
   "cell_type": "code",
   "execution_count": 27,
   "id": "f42f6044",
   "metadata": {},
   "outputs": [],
   "source": [
    "for f in [pearson_sparse, jaccard_sparse]:\n",
    "    st = time.time()\n",
    "    _ = User2UserSparse(train_ratings, similarity_func=f).get_test_recommendations(15)\n",
    "    en = time.time()\n",
    "    times.at['Pearson' if f.__name__.__contains__('pearson') else 'Jaccard', 'scs.csr_matrix'] = en - st"
   ]
  },
  {
   "cell_type": "code",
   "execution_count": 28,
   "id": "d70ea757",
   "metadata": {},
   "outputs": [],
   "source": [
    "times['improvement'] = times['scs.csr_matrix'] / times['np.array']"
   ]
  },
  {
   "cell_type": "code",
   "execution_count": 29,
   "id": "9ea1d99e",
   "metadata": {},
   "outputs": [
    {
     "data": {
      "text/html": [
       "<div>\n",
       "<style scoped>\n",
       "    .dataframe tbody tr th:only-of-type {\n",
       "        vertical-align: middle;\n",
       "    }\n",
       "\n",
       "    .dataframe tbody tr th {\n",
       "        vertical-align: top;\n",
       "    }\n",
       "\n",
       "    .dataframe thead th {\n",
       "        text-align: right;\n",
       "    }\n",
       "</style>\n",
       "<table border=\"1\" class=\"dataframe\">\n",
       "  <thead>\n",
       "    <tr style=\"text-align: right;\">\n",
       "      <th></th>\n",
       "      <th>np.array</th>\n",
       "      <th>scs.csr_matrix</th>\n",
       "      <th>improvement</th>\n",
       "    </tr>\n",
       "  </thead>\n",
       "  <tbody>\n",
       "    <tr>\n",
       "      <th>Pearson</th>\n",
       "      <td>4.923065</td>\n",
       "      <td>1.643552</td>\n",
       "      <td>0.333847</td>\n",
       "    </tr>\n",
       "    <tr>\n",
       "      <th>Jaccard</th>\n",
       "      <td>13.564447</td>\n",
       "      <td>11.480779</td>\n",
       "      <td>0.846388</td>\n",
       "    </tr>\n",
       "  </tbody>\n",
       "</table>\n",
       "</div>"
      ],
      "text/plain": [
       "          np.array  scs.csr_matrix  improvement\n",
       "Pearson   4.923065        1.643552     0.333847\n",
       "Jaccard  13.564447       11.480779     0.846388"
      ]
     },
     "execution_count": 29,
     "metadata": {},
     "output_type": "execute_result"
    }
   ],
   "source": [
    "times"
   ]
  },
  {
   "attachments": {},
   "cell_type": "markdown",
   "id": "c549f297",
   "metadata": {},
   "source": [
    "> Для Пирсона мы получили очень значительные прирост, сократив время работа практически в 3 раза. С мерой Жаккару, к сожалению, удалось ускорить работу только на 15% - из-за самой природы метрики и ограничение scipy.sparse ускоряется только скалярное произведение."
   ]
  },
  {
   "attachments": {},
   "cell_type": "markdown",
   "id": "DmuMhWS4CEFe",
   "metadata": {
    "id": "DmuMhWS4CEFe"
   },
   "source": [
    "Мы можем посмотреть глазами, насколько хорошо модель рекомендует треки. Для этого сравним уже прослушанные треки с рекомендованными и релевантными для случайного пользователя. Хорошо ли у вас получилось?"
   ]
  },
  {
   "cell_type": "code",
   "execution_count": 69,
   "id": "QAHDWgHfkCQh",
   "metadata": {
    "id": "QAHDWgHfkCQh"
   },
   "outputs": [],
   "source": [
    "user_id = np.random.randint(0, model.n_users)"
   ]
  },
  {
   "cell_type": "code",
   "execution_count": 70,
   "id": "_d3tafMuko5O",
   "metadata": {
    "colab": {
     "base_uri": "https://localhost:8080/",
     "height": 531
    },
    "id": "_d3tafMuko5O",
    "outputId": "6c6c53ab-8329-4747-9015-9105a113d7ca"
   },
   "outputs": [
    {
     "name": "stdout",
     "output_type": "stream",
     "text": [
      "Already listened tracks:\n"
     ]
    },
    {
     "data": {
      "text/html": [
       "<div>\n",
       "<style scoped>\n",
       "    .dataframe tbody tr th:only-of-type {\n",
       "        vertical-align: middle;\n",
       "    }\n",
       "\n",
       "    .dataframe tbody tr th {\n",
       "        vertical-align: top;\n",
       "    }\n",
       "\n",
       "    .dataframe thead th {\n",
       "        text-align: right;\n",
       "    }\n",
       "</style>\n",
       "<table border=\"1\" class=\"dataframe\">\n",
       "  <thead>\n",
       "    <tr style=\"text-align: right;\">\n",
       "      <th></th>\n",
       "      <th>name</th>\n",
       "      <th>artists</th>\n",
       "    </tr>\n",
       "  </thead>\n",
       "  <tbody>\n",
       "    <tr>\n",
       "      <th>60</th>\n",
       "      <td>Gives You Hell</td>\n",
       "      <td>['The All-American Rejects']</td>\n",
       "    </tr>\n",
       "    <tr>\n",
       "      <th>220</th>\n",
       "      <td>I Was Made For Lovin' You</td>\n",
       "      <td>['Kiss']</td>\n",
       "    </tr>\n",
       "    <tr>\n",
       "      <th>285</th>\n",
       "      <td>(I Can't Get No) Satisfaction</td>\n",
       "      <td>['The Rolling Stones']</td>\n",
       "    </tr>\n",
       "    <tr>\n",
       "      <th>288</th>\n",
       "      <td>Pump It</td>\n",
       "      <td>['Black Eyed Peas']</td>\n",
       "    </tr>\n",
       "    <tr>\n",
       "      <th>417</th>\n",
       "      <td>Just Lose It</td>\n",
       "      <td>['Eminem']</td>\n",
       "    </tr>\n",
       "    <tr>\n",
       "      <th>418</th>\n",
       "      <td>Without Me</td>\n",
       "      <td>['Eminem']</td>\n",
       "    </tr>\n",
       "    <tr>\n",
       "      <th>419</th>\n",
       "      <td>The Real Slim Shady</td>\n",
       "      <td>['Eminem']</td>\n",
       "    </tr>\n",
       "    <tr>\n",
       "      <th>465</th>\n",
       "      <td>Use Your Fist And Not Your Mouth</td>\n",
       "      <td>['Marilyn Manson']</td>\n",
       "    </tr>\n",
       "    <tr>\n",
       "      <th>504</th>\n",
       "      <td>Smack That</td>\n",
       "      <td>['Akon', 'Eminem']</td>\n",
       "    </tr>\n",
       "    <tr>\n",
       "      <th>508</th>\n",
       "      <td>Ass Like That</td>\n",
       "      <td>['Eminem']</td>\n",
       "    </tr>\n",
       "    <tr>\n",
       "      <th>529</th>\n",
       "      <td>One Shot 2 Shot</td>\n",
       "      <td>['Eminem', 'D12']</td>\n",
       "    </tr>\n",
       "    <tr>\n",
       "      <th>706</th>\n",
       "      <td>The Reflecting God</td>\n",
       "      <td>['Marilyn Manson']</td>\n",
       "    </tr>\n",
       "    <tr>\n",
       "      <th>710</th>\n",
       "      <td>The Nobodies</td>\n",
       "      <td>['Marilyn Manson']</td>\n",
       "    </tr>\n",
       "    <tr>\n",
       "      <th>711</th>\n",
       "      <td>The Fight Song</td>\n",
       "      <td>['Marilyn Manson']</td>\n",
       "    </tr>\n",
       "    <tr>\n",
       "      <th>755</th>\n",
       "      <td>Rollin' (Air Raid Vehicle)</td>\n",
       "      <td>['Limp Bizkit']</td>\n",
       "    </tr>\n",
       "  </tbody>\n",
       "</table>\n",
       "</div>"
      ],
      "text/plain": [
       "                                 name                       artists\n",
       "60                     Gives You Hell  ['The All-American Rejects']\n",
       "220         I Was Made For Lovin' You                      ['Kiss']\n",
       "285     (I Can't Get No) Satisfaction        ['The Rolling Stones']\n",
       "288                           Pump It           ['Black Eyed Peas']\n",
       "417                      Just Lose It                    ['Eminem']\n",
       "418                        Without Me                    ['Eminem']\n",
       "419               The Real Slim Shady                    ['Eminem']\n",
       "465  Use Your Fist And Not Your Mouth            ['Marilyn Manson']\n",
       "504                        Smack That            ['Akon', 'Eminem']\n",
       "508                     Ass Like That                    ['Eminem']\n",
       "529                   One Shot 2 Shot             ['Eminem', 'D12']\n",
       "706                The Reflecting God            ['Marilyn Manson']\n",
       "710                      The Nobodies            ['Marilyn Manson']\n",
       "711                    The Fight Song            ['Marilyn Manson']\n",
       "755        Rollin' (Air Raid Vehicle)               ['Limp Bizkit']"
      ]
     },
     "execution_count": 70,
     "metadata": {},
     "output_type": "execute_result"
    }
   ],
   "source": [
    "listened_tracks = train_ratings[train_ratings.userId == user_id].trackId[:15]\n",
    "\n",
    "print('Already listened tracks:')\n",
    "\n",
    "tracks_info.loc[listened_tracks][['name', 'artists']]"
   ]
  },
  {
   "cell_type": "code",
   "execution_count": 71,
   "id": "t0jACzw6ko5P",
   "metadata": {
    "colab": {
     "base_uri": "https://localhost:8080/",
     "height": 563,
     "referenced_widgets": [
      "352dc0a1aa2049da8389d238673e0d74",
      "a1fff232a45c47b4a472b376f4bb786b",
      "cdda2f364c4b4873ba46321cd0980ab2",
      "56340e3947544c43afda403ff222f5a3",
      "05d9c5e3f43f4b7f8b85ed1e3d5a74a3",
      "359731880a5947499c9a5e4be6e91c89",
      "7fd233ee0bf54983acb61485fe779111",
      "927ea86a465d45ae873fc8ae164a9f72",
      "e5fdb05a8acb41368703134ed69d7875",
      "ec6478706bb140c08b20f2ba05a17205",
      "940629cc1c16475cbd2858e55f2f881f"
     ]
    },
    "id": "t0jACzw6ko5P",
    "outputId": "c04b5613-5f4d-4e7a-a502-22aebc7c0637"
   },
   "outputs": [
    {
     "name": "stdout",
     "output_type": "stream",
     "text": [
      "Predicted tracks:\n"
     ]
    },
    {
     "data": {
      "text/html": [
       "<div>\n",
       "<style scoped>\n",
       "    .dataframe tbody tr th:only-of-type {\n",
       "        vertical-align: middle;\n",
       "    }\n",
       "\n",
       "    .dataframe tbody tr th {\n",
       "        vertical-align: top;\n",
       "    }\n",
       "\n",
       "    .dataframe thead th {\n",
       "        text-align: right;\n",
       "    }\n",
       "</style>\n",
       "<table border=\"1\" class=\"dataframe\">\n",
       "  <thead>\n",
       "    <tr style=\"text-align: right;\">\n",
       "      <th></th>\n",
       "      <th>name</th>\n",
       "      <th>artists</th>\n",
       "    </tr>\n",
       "  </thead>\n",
       "  <tbody>\n",
       "    <tr>\n",
       "      <th>59484</th>\n",
       "      <td>Юность</td>\n",
       "      <td>['Dabro']</td>\n",
       "    </tr>\n",
       "    <tr>\n",
       "      <th>62418</th>\n",
       "      <td>Снова я напиваюсь</td>\n",
       "      <td>['SLAVA MARLOW']</td>\n",
       "    </tr>\n",
       "    <tr>\n",
       "      <th>24500</th>\n",
       "      <td>Way Down We Go</td>\n",
       "      <td>['KALEO']</td>\n",
       "    </tr>\n",
       "    <tr>\n",
       "      <th>64683</th>\n",
       "      <td>I WANNA BE YOUR SLAVE</td>\n",
       "      <td>['Måneskin']</td>\n",
       "    </tr>\n",
       "    <tr>\n",
       "      <th>60665</th>\n",
       "      <td>Minor</td>\n",
       "      <td>['Miyagi &amp; Andy Panda']</td>\n",
       "    </tr>\n",
       "    <tr>\n",
       "      <th>64005</th>\n",
       "      <td>Горький вкус</td>\n",
       "      <td>['Султан Лагучев']</td>\n",
       "    </tr>\n",
       "    <tr>\n",
       "      <th>54280</th>\n",
       "      <td>Комета</td>\n",
       "      <td>['JONY']</td>\n",
       "    </tr>\n",
       "    <tr>\n",
       "      <th>37861</th>\n",
       "      <td>Я так соскучился</td>\n",
       "      <td>['Порнофильмы']</td>\n",
       "    </tr>\n",
       "    <tr>\n",
       "      <th>59741</th>\n",
       "      <td>Поболело и прошло</td>\n",
       "      <td>['HENSY']</td>\n",
       "    </tr>\n",
       "    <tr>\n",
       "      <th>39265</th>\n",
       "      <td>Beggin'</td>\n",
       "      <td>['Måneskin']</td>\n",
       "    </tr>\n",
       "    <tr>\n",
       "      <th>62003</th>\n",
       "      <td>СЛЁЗЫ</td>\n",
       "      <td>['Анет Сай']</td>\n",
       "    </tr>\n",
       "    <tr>\n",
       "      <th>35656</th>\n",
       "      <td>I Got Love</td>\n",
       "      <td>['Miyagi &amp; Эндшпиль', 'Рем Дигга']</td>\n",
       "    </tr>\n",
       "    <tr>\n",
       "      <th>42937</th>\n",
       "      <td>Малиновый свет</td>\n",
       "      <td>['Лёша Свик']</td>\n",
       "    </tr>\n",
       "    <tr>\n",
       "      <th>65679</th>\n",
       "      <td>Птичка</td>\n",
       "      <td>['HammAli &amp; Navai']</td>\n",
       "    </tr>\n",
       "    <tr>\n",
       "      <th>28807</th>\n",
       "      <td>Рапапам</td>\n",
       "      <td>['9 грамм', 'Miyagi &amp; Эндшпиль']</td>\n",
       "    </tr>\n",
       "  </tbody>\n",
       "</table>\n",
       "</div>"
      ],
      "text/plain": [
       "                        name                             artists\n",
       "59484                 Юность                           ['Dabro']\n",
       "62418      Снова я напиваюсь                    ['SLAVA MARLOW']\n",
       "24500         Way Down We Go                           ['KALEO']\n",
       "64683  I WANNA BE YOUR SLAVE                        ['Måneskin']\n",
       "60665                  Minor             ['Miyagi & Andy Panda']\n",
       "64005           Горький вкус                  ['Султан Лагучев']\n",
       "54280                 Комета                            ['JONY']\n",
       "37861       Я так соскучился                     ['Порнофильмы']\n",
       "59741      Поболело и прошло                           ['HENSY']\n",
       "39265                Beggin'                        ['Måneskin']\n",
       "62003                  СЛЁЗЫ                       ['Анет Сай']\n",
       "35656             I Got Love  ['Miyagi & Эндшпиль', 'Рем Дигга']\n",
       "42937         Малиновый свет                       ['Лёша Свик']\n",
       "65679                 Птичка                 ['HammAli & Navai']\n",
       "28807                Рапапам    ['9 грамм', 'Miyagi & Эндшпиль']"
      ]
     },
     "execution_count": 71,
     "metadata": {},
     "output_type": "execute_result"
    }
   ],
   "source": [
    "preds = model.get_test_recommendations(15)\n",
    "\n",
    "print('Predicted tracks:')\n",
    "\n",
    "tracks_info.loc[preds[user_id]][['name', 'artists']]"
   ]
  },
  {
   "cell_type": "code",
   "execution_count": 72,
   "id": "8_UZCIxrko5Q",
   "metadata": {
    "colab": {
     "base_uri": "https://localhost:8080/",
     "height": 531
    },
    "id": "8_UZCIxrko5Q",
    "outputId": "1442d3b3-a4a8-42a7-eef6-9ce6cef7aad5"
   },
   "outputs": [
    {
     "name": "stdout",
     "output_type": "stream",
     "text": [
      "Test-time tracks:\n"
     ]
    },
    {
     "data": {
      "text/html": [
       "<div>\n",
       "<style scoped>\n",
       "    .dataframe tbody tr th:only-of-type {\n",
       "        vertical-align: middle;\n",
       "    }\n",
       "\n",
       "    .dataframe tbody tr th {\n",
       "        vertical-align: top;\n",
       "    }\n",
       "\n",
       "    .dataframe thead th {\n",
       "        text-align: right;\n",
       "    }\n",
       "</style>\n",
       "<table border=\"1\" class=\"dataframe\">\n",
       "  <thead>\n",
       "    <tr style=\"text-align: right;\">\n",
       "      <th></th>\n",
       "      <th>name</th>\n",
       "      <th>artists</th>\n",
       "    </tr>\n",
       "  </thead>\n",
       "  <tbody>\n",
       "    <tr>\n",
       "      <th>57541</th>\n",
       "      <td>ТРУБКИ</td>\n",
       "      <td>['104', 'Скриптонит', 'SALUKI']</td>\n",
       "    </tr>\n",
       "    <tr>\n",
       "      <th>57548</th>\n",
       "      <td>Не киряй</td>\n",
       "      <td>['МУККА', 'Три дня дождя']</td>\n",
       "    </tr>\n",
       "    <tr>\n",
       "      <th>57724</th>\n",
       "      <td>Выключили свет</td>\n",
       "      <td>['zavet']</td>\n",
       "    </tr>\n",
       "    <tr>\n",
       "      <th>57771</th>\n",
       "      <td>ПАРИЖ</td>\n",
       "      <td>['КУОК']</td>\n",
       "    </tr>\n",
       "    <tr>\n",
       "      <th>57802</th>\n",
       "      <td>Малолетка</td>\n",
       "      <td>['Макс Корж']</td>\n",
       "    </tr>\n",
       "    <tr>\n",
       "      <th>57932</th>\n",
       "      <td>Savage</td>\n",
       "      <td>['Megan Thee Stallion']</td>\n",
       "    </tr>\n",
       "    <tr>\n",
       "      <th>57994</th>\n",
       "      <td>ЭКИПАЖ</td>\n",
       "      <td>['OFFMi', 'Хаски', 'bollywoodFM']</td>\n",
       "    </tr>\n",
       "    <tr>\n",
       "      <th>58020</th>\n",
       "      <td>Psycho!</td>\n",
       "      <td>['MASN']</td>\n",
       "    </tr>\n",
       "    <tr>\n",
       "      <th>58280</th>\n",
       "      <td>12345SEX</td>\n",
       "      <td>['UPSAHL']</td>\n",
       "    </tr>\n",
       "    <tr>\n",
       "      <th>58327</th>\n",
       "      <td>WTF U MEAN</td>\n",
       "      <td>['Haarper', 'Freddie Dredd']</td>\n",
       "    </tr>\n",
       "    <tr>\n",
       "      <th>58328</th>\n",
       "      <td>Float</td>\n",
       "      <td>['Call Me Karizma']</td>\n",
       "    </tr>\n",
       "    <tr>\n",
       "      <th>58436</th>\n",
       "      <td>On Me</td>\n",
       "      <td>['Freddie Dredd']</td>\n",
       "    </tr>\n",
       "    <tr>\n",
       "      <th>58628</th>\n",
       "      <td>Deep End Freestyle</td>\n",
       "      <td>['Fousheé', 'Sleepy Hallow']</td>\n",
       "    </tr>\n",
       "    <tr>\n",
       "      <th>59222</th>\n",
       "      <td>Ненавижу море</td>\n",
       "      <td>['Never Get Used To People']</td>\n",
       "    </tr>\n",
       "    <tr>\n",
       "      <th>59269</th>\n",
       "      <td>Стресс</td>\n",
       "      <td>['ЛСП', 'SALUKI']</td>\n",
       "    </tr>\n",
       "  </tbody>\n",
       "</table>\n",
       "</div>"
      ],
      "text/plain": [
       "                     name                            artists\n",
       "57541              ТРУБКИ    ['104', 'Скриптонит', 'SALUKI']\n",
       "57548            Не киряй         ['МУККА', 'Три дня дождя']\n",
       "57724      Выключили свет                          ['zavet']\n",
       "57771               ПАРИЖ                           ['КУОК']\n",
       "57802           Малолетка                      ['Макс Корж']\n",
       "57932              Savage            ['Megan Thee Stallion']\n",
       "57994              ЭКИПАЖ  ['OFFMi', 'Хаски', 'bollywoodFM']\n",
       "58020             Psycho!                           ['MASN']\n",
       "58280            12345SEX                         ['UPSAHL']\n",
       "58327          WTF U MEAN       ['Haarper', 'Freddie Dredd']\n",
       "58328               Float                ['Call Me Karizma']\n",
       "58436               On Me                  ['Freddie Dredd']\n",
       "58628  Deep End Freestyle       ['Fousheé', 'Sleepy Hallow']\n",
       "59222       Ненавижу море       ['Never Get Used To People']\n",
       "59269              Стресс                  ['ЛСП', 'SALUKI']"
      ]
     },
     "execution_count": 72,
     "metadata": {},
     "output_type": "execute_result"
    }
   ],
   "source": [
    "test_tracks = test_ratings[test_ratings.userId == user_id].trackId[:15]\n",
    "\n",
    "print('Test-time tracks:')\n",
    "\n",
    "tracks_info.loc[test_tracks][['name', 'artists']]"
   ]
  },
  {
   "attachments": {},
   "cell_type": "markdown",
   "id": "4f7f01bd",
   "metadata": {},
   "source": [
    "> Не берусь называть себя экспертом, но выглядят рекомендации так себе. Некоторые из исполнителей/жанров близки, но в целом хорошими рекомендациями это назвать нельзя. Особенно если сравнивать с уже прослушанными треками."
   ]
  },
  {
   "attachments": {},
   "cell_type": "markdown",
   "id": "3laWojtltEz1",
   "metadata": {
    "id": "3laWojtltEz1"
   },
   "source": [
    "### Часть 2. Модель со скрытыми переменными"
   ]
  },
  {
   "attachments": {},
   "cell_type": "markdown",
   "id": "W63eIwPEYuYG",
   "metadata": {
    "id": "W63eIwPEYuYG"
   },
   "source": [
    "В этой части мы пощупаем метод рекомендаций со скрытыми переменными.\n",
    "Идея: будем предсказывать оценки по формуле\n",
    "$$\n",
    "\\hat{r}_{ui} = \\langle p_u, q_u \\rangle,\n",
    "$$\n",
    "$p_u \\in \\mathbb{R}^d$ и $q_i \\in \\mathbb{R}^d$ - латентные векторы пользователя $u$ и объекта $i$ соответственно. \n",
    "\n",
    "Оптимизировать мы будем MSE между истинной оценкой пользователя и предсказанной с регуляризацией\n",
    "$$\n",
    "L = \\sum_{(u, i) \\in R} (\\hat{r}_{ui} - r_{ui})^2 + \\lambda \\left(\\sum_{u \\in U} \\|p_u\\|^2 + \\sum_{i \\in I} \\|q_i\\|^2\\right)\n",
    "$$"
   ]
  },
  {
   "attachments": {},
   "cell_type": "markdown",
   "id": "jrZjfGb0iLk6",
   "metadata": {
    "id": "jrZjfGb0iLk6"
   },
   "source": [
    "**Задание 7 (1.5 балла).** На лекции рассматривались два подхода к оптимизации параметров. Можно это делать обычным стохастческим градинтным спуском, а можно по очереди обновлять матрицы $P, Q$, и тогда получится метод Alternating Least Squares (ALS). Выведите формулы обновления параметров для обоих методов."
   ]
  },
  {
   "attachments": {},
   "cell_type": "markdown",
   "id": "knT2htHnkTPT",
   "metadata": {
    "id": "knT2htHnkTPT"
   },
   "source": [
    "**LFM:**\n",
    "\n",
    "$$p_{uk} = p_{uk} - \\eta (\\lambda p_{uk} - q_{ik}(r_{ui} - \\langle p_{u},q_{i} \\rangle))$$\n",
    "\n",
    "$$q_{ik} = q_{ik} - \\eta (\\lambda q_{ik} - p_{uk}(r_{ui} - \\langle p_{u},q_{i} \\rangle))$$\n",
    "\n",
    "> Source: [trust me bro](https://etd.ohiolink.edu/apexprod/rws_etd/send_file/send?accession=osu1491255524283942&disposition=inline),\n",
    "[trust me bro 2: electric boogaloo](https://youtu.be/Olk1aR8dVho?t=378)\n",
    "\n",
    "**ALS:** \n",
    "\n",
    "$$p_{u} = \\left(\\sum_{i: \\exists r_{ui}} q_i q_i^T \\right)^{-1} \\sum_{i: \\exists r_{ui}}r_{ui} q_i$$\n",
    "\n",
    "$$q_{i} = \\left(\\sum_{u: \\exists r_{ui}} p_u p_u^T \\right)^{-1} \\sum_{u: \\exists r_{ui}}r_{ui} p_u$$\n",
    "\n",
    "> Source: [trust me bro 3: the prequel](https://github.com/esokolov/ml-course-hse/blob/master/2020-spring/lecture-notes/lecture23-recommender.pdf)"
   ]
  },
  {
   "attachments": {},
   "cell_type": "markdown",
   "id": "T5PXIItDkiDc",
   "metadata": {
    "id": "T5PXIItDkiDc"
   },
   "source": [
    "**Задание 8 (2 балла).** Реализуйте методы оптимизации параметров для обоих алгоритмов."
   ]
  },
  {
   "cell_type": "code",
   "execution_count": 73,
   "id": "vTui-yTptFIo",
   "metadata": {
    "id": "vTui-yTptFIo"
   },
   "outputs": [],
   "source": [
    "import itertools as it\n",
    "\n",
    "\n",
    "class HiddenVars(BaseModel):\n",
    "    def __init__(self, ratings, dim=128, mode=\"sgd\", lr=0.003, lamb=0.01):\n",
    "        super().__init__(ratings)\n",
    "        self.dim = dim\n",
    "\n",
    "        assert mode in [\"sgd\", \"als\"]\n",
    "        self.mode = mode\n",
    "\n",
    "        self.P = np.random.normal(size=(self.n_users, dim))\n",
    "        self.Q = np.random.normal(size=(self.n_items, dim))\n",
    "\n",
    "        self.lr = lr\n",
    "        self.lamb = lamb\n",
    "\n",
    "    def fit(self, num_iters=5):\n",
    "        for epoch in tqdm(range(num_iters)):\n",
    "            \n",
    "            if self.mode == \"sgd\":\n",
    "                for _ in range(10_000_000):\n",
    "                    pix = np.random.randint(self.n_users)\n",
    "                    qix = np.random.randint(self.n_items)\n",
    "                    \n",
    "                    if self.R[pix][qix] == 1:\n",
    "                        e = self.R[pix][qix] - self.P[pix] @ self.Q[qix]\n",
    "                        p = self.P[pix]\n",
    "\n",
    "                        self.P[pix] -= self.lr * (self.lamb * self.P[pix] - self.Q[qix] * e)\n",
    "                        self.Q[qix] -= self.lr * (self.lamb * self.Q[qix] - p * e)\n",
    "\n",
    "            elif self.mode == \"als\":\n",
    "                ### Source: http://ethen8181.github.io/machine-learning/recsys/1_ALSWR.html\n",
    "                \n",
    "                A = (self.Q.T @ self.Q) + np.eye(self.dim)\n",
    "                b = self.R @ self.Q\n",
    "                self.P = b @ np.linalg.inv(A)\n",
    "                \n",
    "                A = (self.P.T @ self.P) + np.eye(self.dim)\n",
    "                b = self.R.T @ self.P\n",
    "                self.Q = b @ np.linalg.inv(A)\n",
    "\n",
    "\n",
    "            loss = ((self.R - self.P @ self.Q.T) ** 2).sum(axis=None) + self.lamb * (\n",
    "                (self.P**2).sum(axis=None) + (self.Q**2).sum(axis=None)\n",
    "            )\n",
    "            acc = mapk(test_relevant, self.get_test_recommendations(15), 15)\n",
    "            print(f\"Loss: {loss}, MAP@15: {acc}\")\n",
    "\n",
    "    def recommend(self, uid):\n",
    "        pred_rating = self.P[uid] @ self.Q.T\n",
    "\n",
    "        return np.argsort(pred_rating)[::-1]"
   ]
  },
  {
   "attachments": {},
   "cell_type": "markdown",
   "id": "N0P3-ZcYuY3t",
   "metadata": {
    "id": "N0P3-ZcYuY3t"
   },
   "source": [
    "**Задание 9 (1 балл).** Для обоих алгоритмов подберите оптимальные значения размерности скрытого пространства $d$ и размера предсказания $k$. Как изменяется качество предсказаний с числом итераций обучения? Постройте соответствующие графики, сравните со случайным подхом и User2User, сделайте выводы. Какой алгоритм вам кажется более подходящим для данной задачи и почему?\n",
    "\n",
    "P.S. Хотя бы один из методов обучения должен приводить к лучшим результатам в сравнении с User2User подходом.\n",
    "\n",
    "P.P.S. Методу LFM свойственно переобучаться, поэтому при подборе параметров полезно смотреть на значения ошибки и оптимизируемой метрики на тренировочном датасете. Вы также можете менять начальную инициализацию и прочие параметры, за исключением архитектуры, на ваш вкус."
   ]
  },
  {
   "cell_type": "code",
   "execution_count": 49,
   "id": "0D62IgV2OjDF",
   "metadata": {
    "id": "0D62IgV2OjDF"
   },
   "outputs": [
    {
     "data": {
      "application/vnd.jupyter.widget-view+json": {
       "model_id": "8ea198c5fa6c4bd5b577c306e11f735a",
       "version_major": 2,
       "version_minor": 0
      },
      "text/plain": [
       "  0%|          | 0/15 [00:00<?, ?it/s]"
      ]
     },
     "metadata": {},
     "output_type": "display_data"
    },
    {
     "name": "stdout",
     "output_type": "stream",
     "text": [
      "Loss: 908364377.3412213, MAPK: 9.45626477541371e-05\n",
      "Loss: 626461232.106968, MAPK: 0.0\n",
      "Loss: 499296504.4156913, MAPK: 4.8355899419729206e-05\n",
      "Loss: 430185719.3923807, MAPK: 0.0\n",
      "Loss: 386100896.0400264, MAPK: 0.0\n",
      "Loss: 356765434.4520481, MAPK: 0.0\n",
      "Loss: 335289967.2031817, MAPK: 0.0\n",
      "Loss: 319343061.9443912, MAPK: 0.0\n",
      "Loss: 306513749.0355056, MAPK: 0.0\n",
      "Loss: 296539755.867436, MAPK: 8.510638297872342e-05\n",
      "Loss: 288225669.72503614, MAPK: 0.0\n",
      "Loss: 281474955.1083375, MAPK: 0.00021276595744680854\n",
      "Loss: 275450007.8166302, MAPK: 0.0\n",
      "Loss: 270517290.82015526, MAPK: 0.0\n",
      "Loss: 266091449.5693198, MAPK: 0.0\n"
     ]
    }
   ],
   "source": [
    "sgd_model = HiddenVars(train_ratings)\n",
    "sgd_model.fit(15)"
   ]
  },
  {
   "cell_type": "code",
   "execution_count": 48,
   "id": "57ad20aa",
   "metadata": {},
   "outputs": [
    {
     "data": {
      "application/vnd.jupyter.widget-view+json": {
       "model_id": "b6bbac7e4a7341d1af732ff5714506a0",
       "version_major": 2,
       "version_minor": 0
      },
      "text/plain": [
       "  0%|          | 0/15 [00:00<?, ?it/s]"
      ]
     },
     "metadata": {},
     "output_type": "display_data"
    },
    {
     "name": "stdout",
     "output_type": "stream",
     "text": [
      "Loss: 129393.26343254495, MAPK: 0.0016313442270889076\n",
      "Loss: 32770.863435019906, MAPK: 0.0017936507936507937\n",
      "Loss: 22120.82370810019, MAPK: 0.001614527316654976\n",
      "Loss: 20834.05708509295, MAPK: 0.0011600220110858411\n",
      "Loss: 20288.21451035496, MAPK: 0.0010472222812648343\n",
      "Loss: 20011.524861344657, MAPK: 0.0012081535485790806\n",
      "Loss: 19854.330560212507, MAPK: 0.001164143972654611\n",
      "Loss: 19756.974700333532, MAPK: 0.0012253947785862678\n",
      "Loss: 19692.41414413601, MAPK: 0.0012792660452234917\n",
      "Loss: 19647.26416345611, MAPK: 0.0012403120913759209\n",
      "Loss: 19614.381000952686, MAPK: 0.0011920451494919577\n",
      "Loss: 19589.6786445701, MAPK: 0.0012435192860724776\n",
      "Loss: 19570.669606892723, MAPK: 0.001088278939342769\n",
      "Loss: 19555.755688513353, MAPK: 0.0010312988823627123\n",
      "Loss: 19543.863325256243, MAPK: 0.0010130791194620983\n"
     ]
    }
   ],
   "source": [
    "als_model = HiddenVars(train_ratings, mode='als')\n",
    "als_model.fit(15)"
   ]
  },
  {
   "cell_type": "code",
   "execution_count": 50,
   "id": "966ac145",
   "metadata": {},
   "outputs": [
    {
     "data": {
      "image/png": "[encoded data removed]",
      "text/plain": [
       "<Figure size 1500x1000 with 1 Axes>"
      ]
     },
     "metadata": {},
     "output_type": "display_data"
    }
   ],
   "source": [
    "plt.figure(figsize=(15, 10))\n",
    "\n",
    "sgd_rec = sgd_model.get_test_recommendations(50)\n",
    "mapk_sgd = [mapk(test_relevant, sgd_rec, k) for k in k_values]\n",
    "\n",
    "als_rec = als_model.get_test_recommendations(50)\n",
    "mapk_als = [mapk(test_relevant, als_rec, k) for k in k_values]\n",
    "\n",
    "plt.plot(k_values, mapk_pearson, label='Pearson')\n",
    "plt.plot(k_values, mapk_jaccard, label='Jaccard')\n",
    "plt.plot(k_values, mapk_random, label='Random')\n",
    "plt.plot(k_values, mapk_sgd, label='SGD')\n",
    "plt.plot(k_values, mapk_als, label='ALS')\n",
    "plt.legend()\n",
    "plt.show()"
   ]
  },
  {
   "attachments": {},
   "cell_type": "markdown",
   "id": "dd7900e5",
   "metadata": {},
   "source": [
    "> Времени на подбор параметров к сожалению не хватило, но уже с базовой версией ALS заметен большой прорыв. С увеличением `k` он все же сходится к остальным алгоритмам, но для `k=3` разница почти в 2 раза.\n",
    "\n",
    "> С алгоритмом SGD, однако, определнно что-то не так, так как он почти не обучается и даже дает результаты хуже случайного."
   ]
  },
  {
   "attachments": {},
   "cell_type": "markdown",
   "id": "Gx4EMj0HwVlR",
   "metadata": {
    "id": "Gx4EMj0HwVlR"
   },
   "source": [
    "Если у вас получилось достаточно хорошее качество, то при оптимизации параметров марицы $Q$ похожим трекам стали соответствовать похожие векторы. Поэтому мы можем для любого трека найти наиболее близкие к нему в латентном пространстве и проверить степерь обученности модели вручную."
   ]
  },
  {
   "cell_type": "code",
   "execution_count": 61,
   "id": "VFYy92Ls-53S",
   "metadata": {
    "id": "VFYy92Ls-53S"
   },
   "outputs": [],
   "source": [
    "example_trackId = tracks_info[tracks_info.name == 'Выхода нет'].iloc[0].id\n",
    "\n",
    "model = als_model\n",
    "preds = model.Q @ model.Q[example_trackId]\n",
    "preds = preds / np.sqrt((model.Q**2).sum(axis=1) + 1e-8)\n",
    "\n",
    "track_idxs = preds.argsort()[::-1][:20]"
   ]
  },
  {
   "cell_type": "code",
   "execution_count": 62,
   "id": "DzewG5rw5SQo",
   "metadata": {
    "colab": {
     "base_uri": "https://localhost:8080/",
     "height": 669
    },
    "id": "DzewG5rw5SQo",
    "outputId": "b49d9730-dab4-451a-943f-b26f2e4f4a23"
   },
   "outputs": [
    {
     "data": {
      "text/html": [
       "<div>\n",
       "<style scoped>\n",
       "    .dataframe tbody tr th:only-of-type {\n",
       "        vertical-align: middle;\n",
       "    }\n",
       "\n",
       "    .dataframe tbody tr th {\n",
       "        vertical-align: top;\n",
       "    }\n",
       "\n",
       "    .dataframe thead th {\n",
       "        text-align: right;\n",
       "    }\n",
       "</style>\n",
       "<table border=\"1\" class=\"dataframe\">\n",
       "  <thead>\n",
       "    <tr style=\"text-align: right;\">\n",
       "      <th></th>\n",
       "      <th>name</th>\n",
       "      <th>artists</th>\n",
       "      <th>similarity</th>\n",
       "    </tr>\n",
       "  </thead>\n",
       "  <tbody>\n",
       "    <tr>\n",
       "      <th>5512</th>\n",
       "      <td>Выхода нет</td>\n",
       "      <td>['Сплин']</td>\n",
       "      <td>1.000000</td>\n",
       "    </tr>\n",
       "    <tr>\n",
       "      <th>2058</th>\n",
       "      <td>Последний герой</td>\n",
       "      <td>['КИНО']</td>\n",
       "      <td>0.541444</td>\n",
       "    </tr>\n",
       "    <tr>\n",
       "      <th>2179</th>\n",
       "      <td>Восьмиклассница</td>\n",
       "      <td>['КИНО']</td>\n",
       "      <td>0.519758</td>\n",
       "    </tr>\n",
       "    <tr>\n",
       "      <th>5230</th>\n",
       "      <td>Call Me When You're Sober</td>\n",
       "      <td>['Evanescence']</td>\n",
       "      <td>0.470006</td>\n",
       "    </tr>\n",
       "    <tr>\n",
       "      <th>2060</th>\n",
       "      <td>Хочу перемен</td>\n",
       "      <td>['КИНО']</td>\n",
       "      <td>0.456554</td>\n",
       "    </tr>\n",
       "    <tr>\n",
       "      <th>5515</th>\n",
       "      <td>Романс</td>\n",
       "      <td>['Сплин']</td>\n",
       "      <td>0.452566</td>\n",
       "    </tr>\n",
       "    <tr>\n",
       "      <th>5513</th>\n",
       "      <td>Орбит без сахара</td>\n",
       "      <td>['Сплин']</td>\n",
       "      <td>0.452267</td>\n",
       "    </tr>\n",
       "    <tr>\n",
       "      <th>18908</th>\n",
       "      <td>Painkiller</td>\n",
       "      <td>['Three Days Grace']</td>\n",
       "      <td>0.432068</td>\n",
       "    </tr>\n",
       "    <tr>\n",
       "      <th>18592</th>\n",
       "      <td>Лондон</td>\n",
       "      <td>['Григорий Лепс', 'Тимати']</td>\n",
       "      <td>0.430499</td>\n",
       "    </tr>\n",
       "    <tr>\n",
       "      <th>26075</th>\n",
       "      <td>Лошадка</td>\n",
       "      <td>['Найк Борзов']</td>\n",
       "      <td>0.423047</td>\n",
       "    </tr>\n",
       "    <tr>\n",
       "      <th>5517</th>\n",
       "      <td>Варвара</td>\n",
       "      <td>['Би-2']</td>\n",
       "      <td>0.418949</td>\n",
       "    </tr>\n",
       "    <tr>\n",
       "      <th>9444</th>\n",
       "      <td>Ветер</td>\n",
       "      <td>['ДДТ']</td>\n",
       "      <td>0.415230</td>\n",
       "    </tr>\n",
       "    <tr>\n",
       "      <th>5514</th>\n",
       "      <td>Весь этот бред</td>\n",
       "      <td>['Сплин']</td>\n",
       "      <td>0.415069</td>\n",
       "    </tr>\n",
       "    <tr>\n",
       "      <th>8541</th>\n",
       "      <td>Alors On Danse</td>\n",
       "      <td>['Stromae', 'Kanye West']</td>\n",
       "      <td>0.413414</td>\n",
       "    </tr>\n",
       "    <tr>\n",
       "      <th>15271</th>\n",
       "      <td>Маршруты московские</td>\n",
       "      <td>['Ва-Банкъ']</td>\n",
       "      <td>0.413081</td>\n",
       "    </tr>\n",
       "    <tr>\n",
       "      <th>19118</th>\n",
       "      <td>Не спеши</td>\n",
       "      <td>['ЧайФ']</td>\n",
       "      <td>0.413081</td>\n",
       "    </tr>\n",
       "    <tr>\n",
       "      <th>31965</th>\n",
       "      <td>You Don't Get Me High Anymore</td>\n",
       "      <td>['Three Days Grace']</td>\n",
       "      <td>0.410585</td>\n",
       "    </tr>\n",
       "    <tr>\n",
       "      <th>2035</th>\n",
       "      <td>Кустурица</td>\n",
       "      <td>['Братья Грим']</td>\n",
       "      <td>0.405776</td>\n",
       "    </tr>\n",
       "    <tr>\n",
       "      <th>9876</th>\n",
       "      <td>Wake Up</td>\n",
       "      <td>['Cheese People']</td>\n",
       "      <td>0.404989</td>\n",
       "    </tr>\n",
       "    <tr>\n",
       "      <th>16786</th>\n",
       "      <td>Previous Crimes</td>\n",
       "      <td>['Devastations']</td>\n",
       "      <td>0.404989</td>\n",
       "    </tr>\n",
       "  </tbody>\n",
       "</table>\n",
       "</div>"
      ],
      "text/plain": [
       "                                name                      artists  similarity\n",
       "5512                      Выхода нет                    ['Сплин']    1.000000\n",
       "2058                 Последний герой                     ['КИНО']    0.541444\n",
       "2179                 Восьмиклассница                     ['КИНО']    0.519758\n",
       "5230       Call Me When You're Sober              ['Evanescence']    0.470006\n",
       "2060                    Хочу перемен                     ['КИНО']    0.456554\n",
       "5515                          Романс                    ['Сплин']    0.452566\n",
       "5513                Орбит без сахара                    ['Сплин']    0.452267\n",
       "18908                     Painkiller         ['Three Days Grace']    0.432068\n",
       "18592                         Лондон  ['Григорий Лепс', 'Тимати']    0.430499\n",
       "26075                        Лошадка              ['Найк Борзов']    0.423047\n",
       "5517                         Варвара                     ['Би-2']    0.418949\n",
       "9444                           Ветер                      ['ДДТ']    0.415230\n",
       "5514                  Весь этот бред                    ['Сплин']    0.415069\n",
       "8541                  Alors On Danse    ['Stromae', 'Kanye West']    0.413414\n",
       "15271            Маршруты московские                 ['Ва-Банкъ']    0.413081\n",
       "19118                       Не спеши                     ['ЧайФ']    0.413081\n",
       "31965  You Don't Get Me High Anymore         ['Three Days Grace']    0.410585\n",
       "2035                       Кустурица              ['Братья Грим']    0.405776\n",
       "9876                         Wake Up            ['Cheese People']    0.404989\n",
       "16786                Previous Crimes             ['Devastations']    0.404989"
      ]
     },
     "execution_count": 62,
     "metadata": {},
     "output_type": "execute_result"
    }
   ],
   "source": [
    "similar_tracks = tracks_info.loc[track_idxs][['name', 'artists']]\n",
    "similar_tracks['similarity'] = preds[track_idxs] / np.linalg.norm(model.Q[example_trackId])\n",
    "similar_tracks"
   ]
  }
 ],
 "metadata": {
  "colab": {
   "collapsed_sections": [],
   "name": "Копия блокнота \"recommendations_hw_solved.ipynb\"",
   "provenance": []
  },
  "kernelspec": {
   "display_name": "Python 3 (ipykernel)",
   "language": "python",
   "name": "python3"
  },
  "language_info": {
   "codemirror_mode": {
    "name": "ipython",
    "version": 3
   },
   "file_extension": ".py",
   "mimetype": "text/x-python",
   "name": "python",
   "nbconvert_exporter": "python",
   "pygments_lexer": "ipython3",
   "version": "3.9.16"
  },
  "widgets": {
   "application/vnd.jupyter.widget-state+json": {
    "09367b7a291f4c81a93f79ac3bf09e9b": {
     "model_module": "@jupyter-widgets/controls",
     "model_module_version": "1.5.0",
     "model_name": "HTMLModel",
     "state": {
      "_dom_classes": [],
      "_model_module": "@jupyter-widgets/controls",
      "_model_module_version": "1.5.0",
      "_model_name": "HTMLModel",
      "_view_count": null,
      "_view_module": "@jupyter-widgets/controls",
      "_view_module_version": "1.5.0",
      "_view_name": "HTMLView",
      "description": "",
      "description_tooltip": null,
      "layout": "IPY_MODEL_57bc2e2902994e799d4378888bdb342a",
      "placeholder": "​",
      "style": "IPY_MODEL_4631243cc4dd4d1a8e3ffe3a8da29cf7",
      "value": "100%"
     }
    },
    "0b2d687ab70343a999f3a37dfe030a9c": {
     "model_module": "@jupyter-widgets/base",
     "model_module_version": "1.2.0",
     "model_name": "LayoutModel",
     "state": {
      "_model_module": "@jupyter-widgets/base",
      "_model_module_version": "1.2.0",
      "_model_name": "LayoutModel",
      "_view_count": null,
      "_view_module": "@jupyter-widgets/base",
      "_view_module_version": "1.2.0",
      "_view_name": "LayoutView",
      "align_content": null,
      "align_items": null,
      "align_self": null,
      "border": null,
      "bottom": null,
      "display": null,
      "flex": null,
      "flex_flow": null,
      "grid_area": null,
      "grid_auto_columns": null,
      "grid_auto_flow": null,
      "grid_auto_rows": null,
      "grid_column": null,
      "grid_gap": null,
      "grid_row": null,
      "grid_template_areas": null,
      "grid_template_columns": null,
      "grid_template_rows": null,
      "height": null,
      "justify_content": null,
      "justify_items": null,
      "left": null,
      "margin": null,
      "max_height": null,
      "max_width": null,
      "min_height": null,
      "min_width": null,
      "object_fit": null,
      "object_position": null,
      "order": null,
      "overflow": null,
      "overflow_x": null,
      "overflow_y": null,
      "padding": null,
      "right": null,
      "top": null,
      "visibility": null,
      "width": null
     }
    },
    "1b31eda686b54f7ca8c66aef18c987f3": {
     "model_module": "@jupyter-widgets/controls",
     "model_module_version": "1.5.0",
     "model_name": "HBoxModel",
     "state": {
      "_dom_classes": [],
      "_model_module": "@jupyter-widgets/controls",
      "_model_module_version": "1.5.0",
      "_model_name": "HBoxModel",
      "_view_count": null,
      "_view_module": "@jupyter-widgets/controls",
      "_view_module_version": "1.5.0",
      "_view_name": "HBoxView",
      "box_style": "",
      "children": [
       "IPY_MODEL_c8a26ff7a9504ca7b9982a1fdc958364",
       "IPY_MODEL_55a177c209e6414d8daae0aae25ab569",
       "IPY_MODEL_5696660af0a04fbbb0743796bdd5f9b3"
      ],
      "layout": "IPY_MODEL_35c5904b82544e9cac71cf7b0b67cc1e"
     }
    },
    "2571c66c254d4a6c9ae5a20812e41641": {
     "model_module": "@jupyter-widgets/controls",
     "model_module_version": "1.5.0",
     "model_name": "DescriptionStyleModel",
     "state": {
      "_model_module": "@jupyter-widgets/controls",
      "_model_module_version": "1.5.0",
      "_model_name": "DescriptionStyleModel",
      "_view_count": null,
      "_view_module": "@jupyter-widgets/base",
      "_view_module_version": "1.2.0",
      "_view_name": "StyleView",
      "description_width": ""
     }
    },
    "2943eba3c235416b809e23186d5625ef": {
     "model_module": "@jupyter-widgets/base",
     "model_module_version": "1.2.0",
     "model_name": "LayoutModel",
     "state": {
      "_model_module": "@jupyter-widgets/base",
      "_model_module_version": "1.2.0",
      "_model_name": "LayoutModel",
      "_view_count": null,
      "_view_module": "@jupyter-widgets/base",
      "_view_module_version": "1.2.0",
      "_view_name": "LayoutView",
      "align_content": null,
      "align_items": null,
      "align_self": null,
      "border": null,
      "bottom": null,
      "display": null,
      "flex": null,
      "flex_flow": null,
      "grid_area": null,
      "grid_auto_columns": null,
      "grid_auto_flow": null,
      "grid_auto_rows": null,
      "grid_column": null,
      "grid_gap": null,
      "grid_row": null,
      "grid_template_areas": null,
      "grid_template_columns": null,
      "grid_template_rows": null,
      "height": null,
      "justify_content": null,
      "justify_items": null,
      "left": null,
      "margin": null,
      "max_height": null,
      "max_width": null,
      "min_height": null,
      "min_width": null,
      "object_fit": null,
      "object_position": null,
      "order": null,
      "overflow": null,
      "overflow_x": null,
      "overflow_y": null,
      "padding": null,
      "right": null,
      "top": null,
      "visibility": null,
      "width": null
     }
    },
    "2ded17a125a44376abbe87ef29f2aa17": {
     "model_module": "@jupyter-widgets/controls",
     "model_module_version": "1.5.0",
     "model_name": "ProgressStyleModel",
     "state": {
      "_model_module": "@jupyter-widgets/controls",
      "_model_module_version": "1.5.0",
      "_model_name": "ProgressStyleModel",
      "_view_count": null,
      "_view_module": "@jupyter-widgets/base",
      "_view_module_version": "1.2.0",
      "_view_name": "StyleView",
      "bar_color": null,
      "description_width": ""
     }
    },
    "3339a154ce00450b8d07b45eda2e887c": {
     "model_module": "@jupyter-widgets/controls",
     "model_module_version": "1.5.0",
     "model_name": "FloatProgressModel",
     "state": {
      "_dom_classes": [],
      "_model_module": "@jupyter-widgets/controls",
      "_model_module_version": "1.5.0",
      "_model_name": "FloatProgressModel",
      "_view_count": null,
      "_view_module": "@jupyter-widgets/controls",
      "_view_module_version": "1.5.0",
      "_view_name": "ProgressView",
      "bar_style": "success",
      "description": "",
      "description_tooltip": null,
      "layout": "IPY_MODEL_a0cfdce0ec8544c49332cc831f67e777",
      "max": 241,
      "min": 0,
      "orientation": "horizontal",
      "style": "IPY_MODEL_c5b91a082e7d40879f66b6685fdfcfe0",
      "value": 241
     }
    },
    "35c5904b82544e9cac71cf7b0b67cc1e": {
     "model_module": "@jupyter-widgets/base",
     "model_module_version": "1.2.0",
     "model_name": "LayoutModel",
     "state": {
      "_model_module": "@jupyter-widgets/base",
      "_model_module_version": "1.2.0",
      "_model_name": "LayoutModel",
      "_view_count": null,
      "_view_module": "@jupyter-widgets/base",
      "_view_module_version": "1.2.0",
      "_view_name": "LayoutView",
      "align_content": null,
      "align_items": null,
      "align_self": null,
      "border": null,
      "bottom": null,
      "display": null,
      "flex": null,
      "flex_flow": null,
      "grid_area": null,
      "grid_auto_columns": null,
      "grid_auto_flow": null,
      "grid_auto_rows": null,
      "grid_column": null,
      "grid_gap": null,
      "grid_row": null,
      "grid_template_areas": null,
      "grid_template_columns": null,
      "grid_template_rows": null,
      "height": null,
      "justify_content": null,
      "justify_items": null,
      "left": null,
      "margin": null,
      "max_height": null,
      "max_width": null,
      "min_height": null,
      "min_width": null,
      "object_fit": null,
      "object_position": null,
      "order": null,
      "overflow": null,
      "overflow_x": null,
      "overflow_y": null,
      "padding": null,
      "right": null,
      "top": null,
      "visibility": null,
      "width": null
     }
    },
    "41b564f7d67b4422abcd5ac9925eb1f2": {
     "model_module": "@jupyter-widgets/controls",
     "model_module_version": "1.5.0",
     "model_name": "HTMLModel",
     "state": {
      "_dom_classes": [],
      "_model_module": "@jupyter-widgets/controls",
      "_model_module_version": "1.5.0",
      "_model_name": "HTMLModel",
      "_view_count": null,
      "_view_module": "@jupyter-widgets/controls",
      "_view_module_version": "1.5.0",
      "_view_name": "HTMLView",
      "description": "",
      "description_tooltip": null,
      "layout": "IPY_MODEL_f0fbd1b9ea074c1b9969417c02b32348",
      "placeholder": "​",
      "style": "IPY_MODEL_7935cc6e74c14372a82276f0a28e4559",
      "value": " 241/241 [00:01&lt;00:00, 158.21it/s]"
     }
    },
    "4631243cc4dd4d1a8e3ffe3a8da29cf7": {
     "model_module": "@jupyter-widgets/controls",
     "model_module_version": "1.5.0",
     "model_name": "DescriptionStyleModel",
     "state": {
      "_model_module": "@jupyter-widgets/controls",
      "_model_module_version": "1.5.0",
      "_model_name": "DescriptionStyleModel",
      "_view_count": null,
      "_view_module": "@jupyter-widgets/base",
      "_view_module_version": "1.2.0",
      "_view_name": "StyleView",
      "description_width": ""
     }
    },
    "55a177c209e6414d8daae0aae25ab569": {
     "model_module": "@jupyter-widgets/controls",
     "model_module_version": "1.5.0",
     "model_name": "FloatProgressModel",
     "state": {
      "_dom_classes": [],
      "_model_module": "@jupyter-widgets/controls",
      "_model_module_version": "1.5.0",
      "_model_name": "FloatProgressModel",
      "_view_count": null,
      "_view_module": "@jupyter-widgets/controls",
      "_view_module_version": "1.5.0",
      "_view_name": "ProgressView",
      "bar_style": "success",
      "description": "",
      "description_tooltip": null,
      "layout": "IPY_MODEL_2943eba3c235416b809e23186d5625ef",
      "max": 241,
      "min": 0,
      "orientation": "horizontal",
      "style": "IPY_MODEL_2ded17a125a44376abbe87ef29f2aa17",
      "value": 241
     }
    },
    "5696660af0a04fbbb0743796bdd5f9b3": {
     "model_module": "@jupyter-widgets/controls",
     "model_module_version": "1.5.0",
     "model_name": "HTMLModel",
     "state": {
      "_dom_classes": [],
      "_model_module": "@jupyter-widgets/controls",
      "_model_module_version": "1.5.0",
      "_model_name": "HTMLModel",
      "_view_count": null,
      "_view_module": "@jupyter-widgets/controls",
      "_view_module_version": "1.5.0",
      "_view_name": "HTMLView",
      "description": "",
      "description_tooltip": null,
      "layout": "IPY_MODEL_0b2d687ab70343a999f3a37dfe030a9c",
      "placeholder": "​",
      "style": "IPY_MODEL_2571c66c254d4a6c9ae5a20812e41641",
      "value": " 241/241 [00:00&lt;00:00, 515.87it/s]"
     }
    },
    "57bc2e2902994e799d4378888bdb342a": {
     "model_module": "@jupyter-widgets/base",
     "model_module_version": "1.2.0",
     "model_name": "LayoutModel",
     "state": {
      "_model_module": "@jupyter-widgets/base",
      "_model_module_version": "1.2.0",
      "_model_name": "LayoutModel",
      "_view_count": null,
      "_view_module": "@jupyter-widgets/base",
      "_view_module_version": "1.2.0",
      "_view_name": "LayoutView",
      "align_content": null,
      "align_items": null,
      "align_self": null,
      "border": null,
      "bottom": null,
      "display": null,
      "flex": null,
      "flex_flow": null,
      "grid_area": null,
      "grid_auto_columns": null,
      "grid_auto_flow": null,
      "grid_auto_rows": null,
      "grid_column": null,
      "grid_gap": null,
      "grid_row": null,
      "grid_template_areas": null,
      "grid_template_columns": null,
      "grid_template_rows": null,
      "height": null,
      "justify_content": null,
      "justify_items": null,
      "left": null,
      "margin": null,
      "max_height": null,
      "max_width": null,
      "min_height": null,
      "min_width": null,
      "object_fit": null,
      "object_position": null,
      "order": null,
      "overflow": null,
      "overflow_x": null,
      "overflow_y": null,
      "padding": null,
      "right": null,
      "top": null,
      "visibility": null,
      "width": null
     }
    },
    "7935cc6e74c14372a82276f0a28e4559": {
     "model_module": "@jupyter-widgets/controls",
     "model_module_version": "1.5.0",
     "model_name": "DescriptionStyleModel",
     "state": {
      "_model_module": "@jupyter-widgets/controls",
      "_model_module_version": "1.5.0",
      "_model_name": "DescriptionStyleModel",
      "_view_count": null,
      "_view_module": "@jupyter-widgets/base",
      "_view_module_version": "1.2.0",
      "_view_name": "StyleView",
      "description_width": ""
     }
    },
    "a0cfdce0ec8544c49332cc831f67e777": {
     "model_module": "@jupyter-widgets/base",
     "model_module_version": "1.2.0",
     "model_name": "LayoutModel",
     "state": {
      "_model_module": "@jupyter-widgets/base",
      "_model_module_version": "1.2.0",
      "_model_name": "LayoutModel",
      "_view_count": null,
      "_view_module": "@jupyter-widgets/base",
      "_view_module_version": "1.2.0",
      "_view_name": "LayoutView",
      "align_content": null,
      "align_items": null,
      "align_self": null,
      "border": null,
      "bottom": null,
      "display": null,
      "flex": null,
      "flex_flow": null,
      "grid_area": null,
      "grid_auto_columns": null,
      "grid_auto_flow": null,
      "grid_auto_rows": null,
      "grid_column": null,
      "grid_gap": null,
      "grid_row": null,
      "grid_template_areas": null,
      "grid_template_columns": null,
      "grid_template_rows": null,
      "height": null,
      "justify_content": null,
      "justify_items": null,
      "left": null,
      "margin": null,
      "max_height": null,
      "max_width": null,
      "min_height": null,
      "min_width": null,
      "object_fit": null,
      "object_position": null,
      "order": null,
      "overflow": null,
      "overflow_x": null,
      "overflow_y": null,
      "padding": null,
      "right": null,
      "top": null,
      "visibility": null,
      "width": null
     }
    },
    "b1c919ee0c85468a89413d98d9926b50": {
     "model_module": "@jupyter-widgets/controls",
     "model_module_version": "1.5.0",
     "model_name": "HBoxModel",
     "state": {
      "_dom_classes": [],
      "_model_module": "@jupyter-widgets/controls",
      "_model_module_version": "1.5.0",
      "_model_name": "HBoxModel",
      "_view_count": null,
      "_view_module": "@jupyter-widgets/controls",
      "_view_module_version": "1.5.0",
      "_view_name": "HBoxView",
      "box_style": "",
      "children": [
       "IPY_MODEL_09367b7a291f4c81a93f79ac3bf09e9b",
       "IPY_MODEL_3339a154ce00450b8d07b45eda2e887c",
       "IPY_MODEL_41b564f7d67b4422abcd5ac9925eb1f2"
      ],
      "layout": "IPY_MODEL_bfd4906b7ffc4ade9650aa96d140860a"
     }
    },
    "bc2f4104184749dbb7dcd2b5c6235238": {
     "model_module": "@jupyter-widgets/controls",
     "model_module_version": "1.5.0",
     "model_name": "DescriptionStyleModel",
     "state": {
      "_model_module": "@jupyter-widgets/controls",
      "_model_module_version": "1.5.0",
      "_model_name": "DescriptionStyleModel",
      "_view_count": null,
      "_view_module": "@jupyter-widgets/base",
      "_view_module_version": "1.2.0",
      "_view_name": "StyleView",
      "description_width": ""
     }
    },
    "bfd4906b7ffc4ade9650aa96d140860a": {
     "model_module": "@jupyter-widgets/base",
     "model_module_version": "1.2.0",
     "model_name": "LayoutModel",
     "state": {
      "_model_module": "@jupyter-widgets/base",
      "_model_module_version": "1.2.0",
      "_model_name": "LayoutModel",
      "_view_count": null,
      "_view_module": "@jupyter-widgets/base",
      "_view_module_version": "1.2.0",
      "_view_name": "LayoutView",
      "align_content": null,
      "align_items": null,
      "align_self": null,
      "border": null,
      "bottom": null,
      "display": null,
      "flex": null,
      "flex_flow": null,
      "grid_area": null,
      "grid_auto_columns": null,
      "grid_auto_flow": null,
      "grid_auto_rows": null,
      "grid_column": null,
      "grid_gap": null,
      "grid_row": null,
      "grid_template_areas": null,
      "grid_template_columns": null,
      "grid_template_rows": null,
      "height": null,
      "justify_content": null,
      "justify_items": null,
      "left": null,
      "margin": null,
      "max_height": null,
      "max_width": null,
      "min_height": null,
      "min_width": null,
      "object_fit": null,
      "object_position": null,
      "order": null,
      "overflow": null,
      "overflow_x": null,
      "overflow_y": null,
      "padding": null,
      "right": null,
      "top": null,
      "visibility": null,
      "width": null
     }
    },
    "c5b91a082e7d40879f66b6685fdfcfe0": {
     "model_module": "@jupyter-widgets/controls",
     "model_module_version": "1.5.0",
     "model_name": "ProgressStyleModel",
     "state": {
      "_model_module": "@jupyter-widgets/controls",
      "_model_module_version": "1.5.0",
      "_model_name": "ProgressStyleModel",
      "_view_count": null,
      "_view_module": "@jupyter-widgets/base",
      "_view_module_version": "1.2.0",
      "_view_name": "StyleView",
      "bar_color": null,
      "description_width": ""
     }
    },
    "c8a26ff7a9504ca7b9982a1fdc958364": {
     "model_module": "@jupyter-widgets/controls",
     "model_module_version": "1.5.0",
     "model_name": "HTMLModel",
     "state": {
      "_dom_classes": [],
      "_model_module": "@jupyter-widgets/controls",
      "_model_module_version": "1.5.0",
      "_model_name": "HTMLModel",
      "_view_count": null,
      "_view_module": "@jupyter-widgets/controls",
      "_view_module_version": "1.5.0",
      "_view_name": "HTMLView",
      "description": "",
      "description_tooltip": null,
      "layout": "IPY_MODEL_eac1572340b3491b987713ddf4fef228",
      "placeholder": "​",
      "style": "IPY_MODEL_bc2f4104184749dbb7dcd2b5c6235238",
      "value": "100%"
     }
    },
    "eac1572340b3491b987713ddf4fef228": {
     "model_module": "@jupyter-widgets/base",
     "model_module_version": "1.2.0",
     "model_name": "LayoutModel",
     "state": {
      "_model_module": "@jupyter-widgets/base",
      "_model_module_version": "1.2.0",
      "_model_name": "LayoutModel",
      "_view_count": null,
      "_view_module": "@jupyter-widgets/base",
      "_view_module_version": "1.2.0",
      "_view_name": "LayoutView",
      "align_content": null,
      "align_items": null,
      "align_self": null,
      "border": null,
      "bottom": null,
      "display": null,
      "flex": null,
      "flex_flow": null,
      "grid_area": null,
      "grid_auto_columns": null,
      "grid_auto_flow": null,
      "grid_auto_rows": null,
      "grid_column": null,
      "grid_gap": null,
      "grid_row": null,
      "grid_template_areas": null,
      "grid_template_columns": null,
      "grid_template_rows": null,
      "height": null,
      "justify_content": null,
      "justify_items": null,
      "left": null,
      "margin": null,
      "max_height": null,
      "max_width": null,
      "min_height": null,
      "min_width": null,
      "object_fit": null,
      "object_position": null,
      "order": null,
      "overflow": null,
      "overflow_x": null,
      "overflow_y": null,
      "padding": null,
      "right": null,
      "top": null,
      "visibility": null,
      "width": null
     }
    },
    "f0fbd1b9ea074c1b9969417c02b32348": {
     "model_module": "@jupyter-widgets/base",
     "model_module_version": "1.2.0",
     "model_name": "LayoutModel",
     "state": {
      "_model_module": "@jupyter-widgets/base",
      "_model_module_version": "1.2.0",
      "_model_name": "LayoutModel",
      "_view_count": null,
      "_view_module": "@jupyter-widgets/base",
      "_view_module_version": "1.2.0",
      "_view_name": "LayoutView",
      "align_content": null,
      "align_items": null,
      "align_self": null,
      "border": null,
      "bottom": null,
      "display": null,
      "flex": null,
      "flex_flow": null,
      "grid_area": null,
      "grid_auto_columns": null,
      "grid_auto_flow": null,
      "grid_auto_rows": null,
      "grid_column": null,
      "grid_gap": null,
      "grid_row": null,
      "grid_template_areas": null,
      "grid_template_columns": null,
      "grid_template_rows": null,
      "height": null,
      "justify_content": null,
      "justify_items": null,
      "left": null,
      "margin": null,
      "max_height": null,
      "max_width": null,
      "min_height": null,
      "min_width": null,
      "object_fit": null,
      "object_position": null,
      "order": null,
      "overflow": null,
      "overflow_x": null,
      "overflow_y": null,
      "padding": null,
      "right": null,
      "top": null,
      "visibility": null,
      "width": null
     }
    }
   }
  }
 },
 "nbformat": 4,
 "nbformat_minor": 5
}
