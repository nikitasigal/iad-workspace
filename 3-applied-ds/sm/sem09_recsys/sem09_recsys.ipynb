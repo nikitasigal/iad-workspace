{
 "cells": [
  {
   "cell_type": "markdown",
   "id": "c7af04bc",
   "metadata": {},
   "source": [
    "# Семинар 9: рекомендательные системы\n",
    "\n",
    "## Вступление\n",
    "Рекомендательные системы встречаются нам часто в повседневной жизни: плейлисты Spotify, главная страница Netflix, реклама в Instagram и так далее. Сегодня мы разберёмся с некоторыми методами, которые позволяют решить задачу рекомендаций.\n",
    "\n",
    "### План семинара\n",
    "1. Скачиваем данные\n",
    "2. EDA\n",
    "3. Чистим данные\n",
    "4. Обучаем модели\n",
    "5. Evaluation\n",
    "\n",
    "Перед началом работы установим небольшую библиотеку [animus](github.com/Scitator/animusgithub.com/Scitator/animus), которая предоставляет интерфейс для запуска экспериментов."
   ]
  },
  {
   "cell_type": "code",
   "execution_count": 1,
   "id": "_7UJzb7JY0OG",
   "metadata": {
    "ExecuteTime": {
     "end_time": "2023-04-19T12:28:39.153730Z",
     "start_time": "2023-04-19T12:28:39.057747Z"
    },
    "colab": {
     "base_uri": "https://localhost:8080/"
    },
    "id": "_7UJzb7JY0OG",
    "outputId": "8b2e0aab-b7c6-43df-ccdc-c9ae141b3fd7"
   },
   "outputs": [],
   "source": [
    "# !pip install animus"
   ]
  },
  {
   "cell_type": "code",
   "execution_count": 2,
   "id": "f17f03f3-e355-46cf-84c0-13af9796d297",
   "metadata": {
    "ExecuteTime": {
     "end_time": "2023-04-19T13:28:36.394744Z",
     "start_time": "2023-04-19T13:28:35.905330Z"
    },
    "id": "f17f03f3-e355-46cf-84c0-13af9796d297"
   },
   "outputs": [
    {
     "name": "stderr",
     "output_type": "stream",
     "text": [
      "<frozen importlib._bootstrap>:228: RuntimeWarning: scipy._lib.messagestream.MessageStream size changed, may indicate binary incompatibility. Expected 56 from C header, got 64 from PyObject\n"
     ]
    }
   ],
   "source": [
    "from abc import ABC, abstractmethod\n",
    "from collections import defaultdict\n",
    "from dataclasses import dataclass, field\n",
    "from pprint import pprint\n",
    "from typing import Any, Callable, Iterable, NamedTuple, Set, Tuple, Union\n",
    "\n",
    "import matplotlib.pyplot as plt\n",
    "import numpy as np\n",
    "import pandas as pd\n",
    "import scipy.sparse as sps\n",
    "import seaborn as sns\n",
    "import torch\n",
    "from animus import ICallback, IExperiment\n",
    "from torch.utils.data import DataLoader, Dataset\n",
    "from tqdm import tqdm\n",
    "\n",
    "sns.set(rc={\"figure.figsize\": (15, 5)})"
   ]
  },
  {
   "cell_type": "code",
   "execution_count": 3,
   "id": "85559d91",
   "metadata": {
    "ExecuteTime": {
     "end_time": "2023-04-19T13:28:37.239109Z",
     "start_time": "2023-04-19T13:28:37.221403Z"
    }
   },
   "outputs": [],
   "source": [
    "# uncomment code below if you are Mac user\n",
    "\n",
    "import multiprocessing\n",
    "import os\n",
    "\n",
    "os.environ[\"OMP_NUM_THREADS\"] = \"1\"\n",
    "multiprocessing.set_start_method(\"fork\")"
   ]
  },
  {
   "cell_type": "markdown",
   "id": "a77a14e7-4c22-4073-84cb-06607e73e413",
   "metadata": {
    "id": "a77a14e7-4c22-4073-84cb-06607e73e413"
   },
   "source": [
    "## 1. Скачиваем данные\n",
    "\n",
    "Что по данным?\n",
    "\n",
    "В этом семинаре мы будем экспериментировать с датасетом MovieLens 10M. Это один из самых известных датасетов для исследования рекомендательных моделей, поэтому вы можете часто встречать в статьях. Датасет, на самом деле очень простой. У нас есть `user`, `item` и рейтинг `user` для `item`. Рейтинг — explicit величина, которая принимает значения от 0 до 5. Кроме того, есть ещё метадата для фильмов, если мы захотим обучить что-то на основе контента. Однако последнее нам не понадобится :)"
   ]
  },
  {
   "cell_type": "code",
   "execution_count": 9,
   "id": "4ee473ef-a62f-41a9-9b5d-fcb38de953f0",
   "metadata": {
    "ExecuteTime": {
     "end_time": "2023-04-19T13:28:39.411888Z",
     "start_time": "2023-04-19T13:28:39.401091Z"
    },
    "colab": {
     "base_uri": "https://localhost:8080/"
    },
    "id": "4ee473ef-a62f-41a9-9b5d-fcb38de953f0",
    "outputId": "f9f84885-af4b-4fbf-9b36-942072b71d29"
   },
   "outputs": [
    {
     "name": "stdout",
     "output_type": "stream",
     "text": [
      "  % Total    % Received % Xferd  Average Speed   Time    Time     Time  Current\n",
      "                                 Dload  Upload   Total   Spent    Left  Speed\n",
      "100 62.5M  100 62.5M    0     0  3238k      0  0:00:19  0:00:19 --:--:-- 3319k\n",
      "Archive:  ml-10m.zip\n",
      "   creating: data/ml-10M100K/\n",
      "  inflating: data/ml-10M100K/allbut.pl  \n",
      "  inflating: data/ml-10M100K/movies.dat  \n",
      "  inflating: data/ml-10M100K/ratings.dat  \n",
      "  inflating: data/ml-10M100K/README.html  \n",
      "  inflating: data/ml-10M100K/split_ratings.sh  \n",
      "  inflating: data/ml-10M100K/tags.dat  \n"
     ]
    }
   ],
   "source": [
    "!curl https://files.grouplens.org/datasets/movielens/ml-10m.zip --output ml-10m.zip\n",
    "!unzip -uo ml-10m.zip -d data\n",
    "# Приведем к формату csv ratings\n",
    "!awk 'BEGIN { print \"user,item,values,timestamp\" } { gsub(/::/, \",\", $0); print $0 }' data/ml-10M100K/ratings.dat > data/ml-10M100K/ratings.csv\n",
    "# Приведем к формату csv movies\n",
    "!awk 'BEGIN { print \"item,title,genres\" } { gsub(/::/, \",\", $0); print $0 }' data/ml-10M100K/movies.dat > data/ml-10M100K/movies.csv"
   ]
  },
  {
   "cell_type": "markdown",
   "id": "b6679bb9-3bf8-4457-a8e3-979a1b1cdbbe",
   "metadata": {
    "id": "b6679bb9-3bf8-4457-a8e3-979a1b1cdbbe"
   },
   "source": [
    "Looks good!"
   ]
  },
  {
   "cell_type": "markdown",
   "id": "utE7hbo_Zas3",
   "metadata": {
    "id": "utE7hbo_Zas3"
   },
   "source": [
    "Иногда bash команды — отличный инструмент, чтобы проверить, что с данными все хорошо :)"
   ]
  },
  {
   "cell_type": "code",
   "execution_count": 10,
   "id": "0560d3d2-9a24-4670-82b0-04da25ca59c7",
   "metadata": {
    "ExecuteTime": {
     "end_time": "2023-04-19T13:28:40.656791Z",
     "start_time": "2023-04-19T13:28:40.528312Z"
    },
    "colab": {
     "base_uri": "https://localhost:8080/"
    },
    "id": "0560d3d2-9a24-4670-82b0-04da25ca59c7",
    "outputId": "282ca30a-c734-40bd-a68a-8b3a632effd5"
   },
   "outputs": [
    {
     "name": "stdout",
     "output_type": "stream",
     "text": [
      "==> data/ml-10M100K/ratings.csv <==\n",
      "user,item,values,timestamp\n",
      "1,122,5,838985046\n",
      "1,185,5,838983525\n",
      "1,231,5,838983392\n",
      "1,292,5,838983421\n",
      "1,316,5,838983392\n",
      "1,329,5,838983392\n",
      "1,355,5,838984474\n",
      "1,356,5,838983653\n",
      "1,362,5,838984885\n",
      "\n",
      "==> data/ml-10M100K/movies.csv <==\n",
      "item,title,genres\n",
      "1,Toy Story (1995),Adventure|Animation|Children|Comedy|Fantasy\n",
      "2,Jumanji (1995),Adventure|Children|Fantasy\n",
      "3,Grumpier Old Men (1995),Comedy|Romance\n",
      "4,Waiting to Exhale (1995),Comedy|Drama|Romance\n",
      "5,Father of the Bride Part II (1995),Comedy\n",
      "6,Heat (1995),Action|Crime|Thriller\n",
      "7,Sabrina (1995),Comedy|Romance\n",
      "8,Tom and Huck (1995),Adventure|Children\n",
      "9,Sudden Death (1995),Action\n"
     ]
    }
   ],
   "source": [
    "!head data/ml-10M100K/ratings.csv data/ml-10M100K/movies.csv"
   ]
  },
  {
   "cell_type": "markdown",
   "id": "8155de5c-b223-426b-9c45-23559363a949",
   "metadata": {
    "id": "8155de5c-b223-426b-9c45-23559363a949"
   },
   "source": [
    "## 2. EDA\n",
    "Посмотрим на данные... Короче, EDA!\n",
    "\n",
    "### 2.1 Распарсим данные из csv в pandas DataFrame"
   ]
  },
  {
   "cell_type": "code",
   "execution_count": 12,
   "id": "740b68db-9281-4aca-be02-4cd2c107f302",
   "metadata": {
    "ExecuteTime": {
     "end_time": "2023-04-19T13:28:43.647570Z",
     "start_time": "2023-04-19T13:28:42.002304Z"
    },
    "colab": {
     "base_uri": "https://localhost:8080/",
     "height": 173
    },
    "id": "740b68db-9281-4aca-be02-4cd2c107f302",
    "outputId": "dcb49951-7dce-4ca6-dba8-5fe6491c33bf"
   },
   "outputs": [
    {
     "data": {
      "text/html": [
       "<div>\n",
       "<style scoped>\n",
       "    .dataframe tbody tr th:only-of-type {\n",
       "        vertical-align: middle;\n",
       "    }\n",
       "\n",
       "    .dataframe tbody tr th {\n",
       "        vertical-align: top;\n",
       "    }\n",
       "\n",
       "    .dataframe thead th {\n",
       "        text-align: right;\n",
       "    }\n",
       "</style>\n",
       "<table border=\"1\" class=\"dataframe\">\n",
       "  <thead>\n",
       "    <tr style=\"text-align: right;\">\n",
       "      <th></th>\n",
       "      <th>0</th>\n",
       "      <th>1</th>\n",
       "      <th>2</th>\n",
       "      <th>3</th>\n",
       "      <th>4</th>\n",
       "    </tr>\n",
       "  </thead>\n",
       "  <tbody>\n",
       "    <tr>\n",
       "      <th>user</th>\n",
       "      <td>1</td>\n",
       "      <td>1</td>\n",
       "      <td>1</td>\n",
       "      <td>1</td>\n",
       "      <td>1</td>\n",
       "    </tr>\n",
       "    <tr>\n",
       "      <th>item</th>\n",
       "      <td>122</td>\n",
       "      <td>185</td>\n",
       "      <td>231</td>\n",
       "      <td>292</td>\n",
       "      <td>316</td>\n",
       "    </tr>\n",
       "    <tr>\n",
       "      <th>values</th>\n",
       "      <td>5.0</td>\n",
       "      <td>5.0</td>\n",
       "      <td>5.0</td>\n",
       "      <td>5.0</td>\n",
       "      <td>5.0</td>\n",
       "    </tr>\n",
       "    <tr>\n",
       "      <th>timestamp</th>\n",
       "      <td>1996-08-02 11:24:06</td>\n",
       "      <td>1996-08-02 10:58:45</td>\n",
       "      <td>1996-08-02 10:56:32</td>\n",
       "      <td>1996-08-02 10:57:01</td>\n",
       "      <td>1996-08-02 10:56:32</td>\n",
       "    </tr>\n",
       "  </tbody>\n",
       "</table>\n",
       "</div>"
      ],
      "text/plain": [
       "                             0                    1                    2  \\\n",
       "user                         1                    1                    1   \n",
       "item                       122                  185                  231   \n",
       "values                     5.0                  5.0                  5.0   \n",
       "timestamp  1996-08-02 11:24:06  1996-08-02 10:58:45  1996-08-02 10:56:32   \n",
       "\n",
       "                             3                    4  \n",
       "user                         1                    1  \n",
       "item                       292                  316  \n",
       "values                     5.0                  5.0  \n",
       "timestamp  1996-08-02 10:57:01  1996-08-02 10:56:32  "
      ]
     },
     "execution_count": 12,
     "metadata": {},
     "output_type": "execute_result"
    }
   ],
   "source": [
    "ratings = pd.read_csv(\"data/ml-10M100K/ratings.csv\")\n",
    "ratings[\"timestamp\"] = pd.to_datetime(ratings[\"timestamp\"], unit=\"s\")\n",
    "ratings.head().T"
   ]
  },
  {
   "cell_type": "code",
   "execution_count": 13,
   "id": "4e54139d-e01f-431d-aba1-cff584d6eec5",
   "metadata": {
    "ExecuteTime": {
     "end_time": "2023-04-19T13:28:43.713222Z",
     "start_time": "2023-04-19T13:28:43.627500Z"
    },
    "colab": {
     "base_uri": "https://localhost:8080/"
    },
    "id": "4e54139d-e01f-431d-aba1-cff584d6eec5",
    "outputId": "e42516e3-a242-4658-c979-a4f69adaff20"
   },
   "outputs": [
    {
     "data": {
      "text/plain": [
       "((10000054, 4), (69878,), (10677,))"
      ]
     },
     "execution_count": 13,
     "metadata": {},
     "output_type": "execute_result"
    }
   ],
   "source": [
    "ratings.shape, ratings.user.unique().shape, ratings.item.unique().shape"
   ]
  },
  {
   "cell_type": "markdown",
   "id": "bd865448-14a1-4329-a363-3c26b64ba23e",
   "metadata": {
    "id": "bd865448-14a1-4329-a363-3c26b64ba23e"
   },
   "source": [
    "### 2.2 Посмотрим на распределение рейтингов в данных"
   ]
  },
  {
   "cell_type": "code",
   "execution_count": 14,
   "id": "48a3402c-30f4-41a1-a9c7-7dbd21372a83",
   "metadata": {
    "ExecuteTime": {
     "end_time": "2023-04-19T13:28:46.791765Z",
     "start_time": "2023-04-19T13:28:43.687043Z"
    },
    "colab": {
     "base_uri": "https://localhost:8080/",
     "height": 489
    },
    "id": "48a3402c-30f4-41a1-a9c7-7dbd21372a83",
    "outputId": "2084cb87-7d87-4fcf-bd39-4ea8eccb8044"
   },
   "outputs": [
    {
     "data": {
      "image/png": "[encoded data removed]",
      "text/plain": [
       "<Figure size 1500x500 with 1 Axes>"
      ]
     },
     "metadata": {},
     "output_type": "display_data"
    }
   ],
   "source": [
    "sns.histplot(data=ratings[\"values\"], binwidth=1)\n",
    "plt.show()"
   ]
  },
  {
   "cell_type": "markdown",
   "id": "6e36ee08-7fe8-409c-a7ca-942b27da24ae",
   "metadata": {
    "id": "6e36ee08-7fe8-409c-a7ca-942b27da24ae"
   },
   "source": [
    "### 2.3 Построим Rating Distribution\n",
    "\n",
    "Вы спросите, а что такое Rating Distribution?\n",
    "\n",
    "Это просто fancy название графика, который, грубо говоря, показывает отношение количества рейтингов к количеству юзеров. Он отлично подходит, чтобы визуализировать popularity-skew в данных. По оси y располагаем количество рейтингов, выраженное в процентах от общего количества. По оси x — айтемы сортированные в порядке убывания по количество рейтингов на них. Ну и также ставим для них в качестве id — процент."
   ]
  },
  {
   "cell_type": "code",
   "execution_count": 15,
   "id": "908cf3a2-01ab-47e3-9751-042289a1bf73",
   "metadata": {
    "ExecuteTime": {
     "end_time": "2023-04-19T13:28:46.795702Z",
     "start_time": "2023-04-19T13:28:46.793889Z"
    },
    "id": "908cf3a2-01ab-47e3-9751-042289a1bf73"
   },
   "outputs": [],
   "source": [
    "def rating_distribution(column: str) -> None:\n",
    "    # Compute\n",
    "    ratings_dist = ratings[column].value_counts(normalize=True).reset_index()\n",
    "    ratings_dist.columns = [column, \"num_ratings_percent\"]\n",
    "    step = 1 / (ratings_dist.shape[0] - 1)\n",
    "    ratings_dist[f\"{column}_percent\"] = np.arange(0, 1 + step, step) * 100\n",
    "    ratings_dist[\"num_ratings_percent\"] = (\n",
    "        np.cumsum(ratings_dist[\"num_ratings_percent\"]) * 100\n",
    "    )\n",
    "    # Plot\n",
    "    fig, ax = plt.subplots()\n",
    "    sns.lineplot(\n",
    "        data=ratings_dist, x=f\"{column}_percent\", y=\"num_ratings_percent\", ax=ax\n",
    "    )\n",
    "    ax.set_xlim(0, 100)\n",
    "    ax.set_xticks(range(0, 101, 2))\n",
    "    ax.set_title(\"Rating Distribution\")\n",
    "    plt.show()"
   ]
  },
  {
   "cell_type": "markdown",
   "id": "2104808b-8e24-4911-9ce0-2be5db53133e",
   "metadata": {
    "id": "2104808b-8e24-4911-9ce0-2be5db53133e"
   },
   "source": [
    "Для `item`:"
   ]
  },
  {
   "cell_type": "code",
   "execution_count": 16,
   "id": "8ed144cb-9750-467d-bdda-5f1570671737",
   "metadata": {
    "ExecuteTime": {
     "end_time": "2023-04-19T13:28:47.078388Z",
     "start_time": "2023-04-19T13:28:46.795464Z"
    },
    "colab": {
     "base_uri": "https://localhost:8080/",
     "height": 496
    },
    "id": "8ed144cb-9750-467d-bdda-5f1570671737",
    "outputId": "a26afb81-913e-491b-c93a-235a8e65d49c"
   },
   "outputs": [
    {
     "data": {
      "image/png": "[encoded data removed]",
      "text/plain": [
       "<Figure size 1500x500 with 1 Axes>"
      ]
     },
     "metadata": {},
     "output_type": "display_data"
    }
   ],
   "source": [
    "rating_distribution(column=\"item\")"
   ]
  },
  {
   "cell_type": "markdown",
   "id": "931dd198-7134-4921-ae8b-91f924cc250c",
   "metadata": {
    "id": "931dd198-7134-4921-ae8b-91f924cc250c"
   },
   "source": [
    "Для `user`:"
   ]
  },
  {
   "cell_type": "code",
   "execution_count": 17,
   "id": "38695887-6fc6-446f-a462-4dda862192f4",
   "metadata": {
    "ExecuteTime": {
     "end_time": "2023-04-19T13:28:47.417795Z",
     "start_time": "2023-04-19T13:28:47.123370Z"
    },
    "colab": {
     "base_uri": "https://localhost:8080/",
     "height": 496
    },
    "id": "38695887-6fc6-446f-a462-4dda862192f4",
    "outputId": "59926dec-31c9-461f-9c58-d1ab1b46bd69"
   },
   "outputs": [
    {
     "data": {
      "image/png": "[encoded data removed]",
      "text/plain": [
       "<Figure size 1500x500 with 1 Axes>"
      ]
     },
     "metadata": {},
     "output_type": "display_data"
    }
   ],
   "source": [
    "rating_distribution(column=\"user\")"
   ]
  },
  {
   "cell_type": "markdown",
   "id": "ce74c09d-09aa-47d0-9e1c-e3cbe0d8a7cf",
   "metadata": {
    "id": "ce74c09d-09aa-47d0-9e1c-e3cbe0d8a7cf"
   },
   "source": [
    "## 3. Чистим данные\n",
    "\n",
    "Мы почистим, мы помоем!\n",
    "\n",
    "### 3.1: Сделаем простенькую фильтрацию\n",
    "\n",
    "Ниже есть несколько удобных функций, с которыми можно поиграться:\n",
    "- **valid_items**\n",
    "    - получим элементы, которые встречаются реже чем threshold. Полезно, чтобы исключить супер популярные айтемы и активных юзеров.\n",
    "- **filter_ratings**\n",
    "    - оставим только рейтинги выше `min_rating` (полезно если хотим сделать implicit датасет)\n",
    "    - оставим users и items, которые встречаются не реже `min_user_count`, `min_item_count` соответственно. "
   ]
  },
  {
   "cell_type": "code",
   "execution_count": 18,
   "id": "5f8aaa41-d1e3-4e63-b556-fef272af0bc6",
   "metadata": {
    "ExecuteTime": {
     "end_time": "2023-04-19T13:28:47.422230Z",
     "start_time": "2023-04-19T13:28:47.420359Z"
    },
    "id": "5f8aaa41-d1e3-4e63-b556-fef272af0bc6"
   },
   "outputs": [],
   "source": [
    "def valid_elements(data: pd.DataFrame, column: str, threshold: float = 0.2) -> Set[int]:\n",
    "    rating_dist = data[column].value_counts().reset_index()\n",
    "    cut_off = round(threshold * rating_dist.shape[0]) + 1\n",
    "    return set(rating_dist.index[cut_off:])\n",
    "\n",
    "\n",
    "def get_count(data: pd.DataFrame, column: str) -> pd.DataFrame:\n",
    "    grouped_by_column = data.groupby(column, as_index=False)\n",
    "    return grouped_by_column.size()\n",
    "\n",
    "\n",
    "def _filter_ratings(\n",
    "    data: pd.DataFrame,\n",
    "    min_rating: float = 3.0,\n",
    "    min_user_count: int = 3,\n",
    "    min_item_count: int = 3,\n",
    ") -> pd.DataFrame:\n",
    "    if min_rating is not None:\n",
    "        data = data.loc[data[\"values\"] > min_rating]\n",
    "    if min_item_count > 0:\n",
    "        itemcount = get_count(data, column=\"item\")\n",
    "        data = data.loc[\n",
    "            data[\"item\"].isin(itemcount.item[itemcount[\"size\"] >= min_item_count])\n",
    "        ]\n",
    "    if min_user_count > 0:\n",
    "        usercount = get_count(data, column=\"user\")\n",
    "        data = data.loc[\n",
    "            data[\"user\"].isin(usercount.user[usercount[\"size\"] >= min_user_count])\n",
    "        ]\n",
    "    return data\n",
    "\n",
    "\n",
    "def filter_ratings(\n",
    "    data: pd.DataFrame,\n",
    "    min_rating: float = 3.0,\n",
    "    min_user_count: int = 3,\n",
    "    min_item_count: int = 3,\n",
    "    remove_top_items: float = 0.02,\n",
    ") -> pd.DataFrame:\n",
    "    if remove_top_items > 0:\n",
    "        valid_items = valid_elements(data, column=\"item\")\n",
    "        data = data.loc[data[\"item\"].isin(valid_items)]\n",
    "    while True:\n",
    "        cur_num_rows = data.shape[0]\n",
    "        data = _filter_ratings(data, min_rating, min_user_count, min_item_count)\n",
    "        new_num_rows = data.shape[0]\n",
    "        if cur_num_rows == new_num_rows:\n",
    "            break\n",
    "    return data"
   ]
  },
  {
   "cell_type": "code",
   "execution_count": 19,
   "id": "c931d330-c3f4-4814-8989-6559122eaa2b",
   "metadata": {
    "ExecuteTime": {
     "end_time": "2023-04-19T13:28:48.394654Z",
     "start_time": "2023-04-19T13:28:47.472872Z"
    },
    "colab": {
     "base_uri": "https://localhost:8080/"
    },
    "id": "c931d330-c3f4-4814-8989-6559122eaa2b",
    "outputId": "a7c78bf5-090d-4c43-91b7-1c1ea4d6d2eb",
    "tags": []
   },
   "outputs": [
    {
     "name": "stdout",
     "output_type": "stream",
     "text": [
      "Before: (10000054, 4); After: (2335323, 4)\n",
      "Before: (10000054, 4); After: (3996480, 4)\n"
     ]
    }
   ],
   "source": [
    "implicit_filtered_ratings = filter_ratings(ratings)\n",
    "print(f\"Before: {ratings.shape}; After: {implicit_filtered_ratings.shape}\")\n",
    "explicit_filtered_ratings = filter_ratings(ratings, min_rating=None)\n",
    "print(f\"Before: {ratings.shape}; After: {explicit_filtered_ratings.shape}\")"
   ]
  },
  {
   "cell_type": "markdown",
   "id": "6a0119c0-d35e-46ac-a5e4-0b202a317e45",
   "metadata": {
    "id": "6a0119c0-d35e-46ac-a5e4-0b202a317e45"
   },
   "source": [
    "### 3.2 Построим encoder для `user` и `item`\n",
    "\n",
    "Вместо кастомного энкодера можно использовать [sklearn.LabelEncoder](https://scikit-learn.org/stable/modules/generated/sklearn.preprocessing.LabelEncoder.html), однако **pickle —  зло** поэтому напишем свой."
   ]
  },
  {
   "cell_type": "code",
   "execution_count": 20,
   "id": "d28f4a68-5ff6-4dd0-99d7-5ad288d002c8",
   "metadata": {
    "ExecuteTime": {
     "end_time": "2023-04-19T13:28:48.399808Z",
     "start_time": "2023-04-19T13:28:48.398014Z"
    },
    "id": "d28f4a68-5ff6-4dd0-99d7-5ad288d002c8"
   },
   "outputs": [],
   "source": [
    "@dataclass\n",
    "class NamespaceEncoder:\n",
    "    item_to_idx: dict[str, int] = field(default_factory=dict)\n",
    "    idx_to_item: dict[str, str] = field(default_factory=dict)\n",
    "\n",
    "    def __post_init__(self) -> None:\n",
    "        self.add(\"@@OOV@@\")\n",
    "\n",
    "    def __len__(self) -> int:\n",
    "        return len(self.item_to_idx)\n",
    "\n",
    "    def add(self, item: str) -> None:\n",
    "        idx = len(self.item_to_idx)\n",
    "        self.item_to_idx[item] = idx\n",
    "        self.idx_to_item[str(idx)] = item\n",
    "\n",
    "\n",
    "class Encoder:\n",
    "    def __init__(self) -> None:\n",
    "        self.namespaces = {\"user\": NamespaceEncoder(), \"item\": NamespaceEncoder()}\n",
    "\n",
    "    def encode(self, data: Iterable[str], namespace: str = \"user\") -> list[str]:\n",
    "        encoder = self.namespaces[namespace].item_to_idx\n",
    "        return [encoder.get(x, 0) for x in data if x in encoder]\n",
    "\n",
    "    def decode(\n",
    "        self, data: Iterable[Union[str, int]], namespace: str = \"user\"\n",
    "    ) -> list[str]:\n",
    "        decoder = self.namespaces[namespace].idx_to_item\n",
    "        return [decoder.get(x, \"@@OOV@@\") for x in map(str, data) if x in decoder]\n",
    "\n",
    "    def fit(self, data: pd.DataFrame) -> \"Encoder\":\n",
    "        for attr, encoder in self.namespaces.items():\n",
    "            for item in data[attr].unique():\n",
    "                encoder.add(item)\n",
    "        return self\n",
    "\n",
    "    def transform(self, data: pd.DataFrame, decode: bool = False) -> pd.DataFrame:\n",
    "        data_copy = data.copy()\n",
    "        data_copy = data_copy[\n",
    "            data_copy.user.isin(set(self.namespaces[\"user\"].item_to_idx))\n",
    "            & data_copy.item.isin(set(self.namespaces[\"item\"].item_to_idx))\n",
    "        ]\n",
    "        for attr in self.namespaces:\n",
    "            func = self.encode if not decode else self.decode\n",
    "            data_copy[attr] = func(data_copy[attr].values, namespace=attr)\n",
    "        return data_copy"
   ]
  },
  {
   "cell_type": "code",
   "execution_count": 21,
   "id": "f68b368a-7630-4c71-9dea-627aedb08109",
   "metadata": {
    "ExecuteTime": {
     "end_time": "2023-04-19T13:28:51.219218Z",
     "start_time": "2023-04-19T13:28:48.400437Z"
    },
    "id": "f68b368a-7630-4c71-9dea-627aedb08109"
   },
   "outputs": [],
   "source": [
    "encoder = Encoder().fit(explicit_filtered_ratings)\n",
    "implicit_filtered_ratings = encoder.transform(implicit_filtered_ratings)\n",
    "explicit_filtered_ratings = encoder.transform(explicit_filtered_ratings)"
   ]
  },
  {
   "cell_type": "markdown",
   "id": "b844841f-52a8-4064-a452-4f1f21a3f0ac",
   "metadata": {
    "id": "b844841f-52a8-4064-a452-4f1f21a3f0ac"
   },
   "source": [
    "### 3.3 Выберем себе тестовые данные\n",
    "\n",
    "Вот просто так, решили, что для тестирования наших рекомендов возьмём последний **год** из базы. На остальном будем обучаться. В принципе, необязательно подходить именно таким образом для создания тренировочного и тестового датасетов, но мы поступим так."
   ]
  },
  {
   "cell_type": "code",
   "execution_count": 22,
   "id": "ccbcc599-a063-425f-9070-017e3bb298b4",
   "metadata": {
    "ExecuteTime": {
     "end_time": "2023-04-19T13:28:51.376849Z",
     "start_time": "2023-04-19T13:28:51.220964Z"
    },
    "id": "ccbcc599-a063-425f-9070-017e3bb298b4",
    "tags": []
   },
   "outputs": [],
   "source": [
    "ts_split = {\n",
    "    \"implicit\": implicit_filtered_ratings[\"timestamp\"].max()\n",
    "    - pd.Timedelta(365, \"days\"),\n",
    "    \"explicit\": explicit_filtered_ratings[\"timestamp\"].max()\n",
    "    - pd.Timedelta(365, \"days\"),\n",
    "}\n",
    "datasets = {}\n",
    "for key, dataset in (\n",
    "    (\"implicit\", implicit_filtered_ratings),\n",
    "    (\"explicit\", explicit_filtered_ratings),\n",
    "):\n",
    "    datasets[key] = {\n",
    "        \"train\": dataset.loc[dataset[\"timestamp\"] <= ts_split[key]],\n",
    "        \"valid\": dataset.loc[dataset[\"timestamp\"] > ts_split[key]],\n",
    "    }\n",
    "    datasets[key][\"valid\"] = datasets[key][\"valid\"].loc[\n",
    "        datasets[key][\"valid\"].user.isin(datasets[key][\"train\"].user.unique())\n",
    "    ]"
   ]
  },
  {
   "cell_type": "code",
   "execution_count": 23,
   "id": "eacef218-c4b3-43cc-9963-39f0190da68c",
   "metadata": {
    "ExecuteTime": {
     "end_time": "2023-04-19T13:28:51.379519Z",
     "start_time": "2023-04-19T13:28:51.377670Z"
    },
    "id": "eacef218-c4b3-43cc-9963-39f0190da68c"
   },
   "outputs": [],
   "source": [
    "def make_sparse(\n",
    "    dataset: pd.DataFrame, encoder: Encoder, binary: bool = False\n",
    ") -> sps.csr_matrix:\n",
    "    shape = len(encoder.namespaces[\"user\"]), len(encoder.namespaces[\"item\"])\n",
    "    values = dataset[\"values\"].to_numpy()\n",
    "    values = np.ones_like(values) if binary else values\n",
    "    return sps.csr_matrix(\n",
    "        (values, (dataset[\"user\"].to_numpy(), dataset[\"item\"].to_numpy())), shape=shape\n",
    "    )"
   ]
  },
  {
   "cell_type": "code",
   "execution_count": 24,
   "id": "50a84c60-1ab8-4ee0-b350-5d8bcfb6728f",
   "metadata": {
    "ExecuteTime": {
     "end_time": "2023-04-19T13:28:51.382357Z",
     "start_time": "2023-04-19T13:28:51.380844Z"
    },
    "id": "50a84c60-1ab8-4ee0-b350-5d8bcfb6728f"
   },
   "outputs": [],
   "source": [
    "def build_sparse_datasets(\n",
    "    train: pd.DataFrame, valid: pd.DataFrame, encoder: Encoder, binary: bool = True\n",
    ") -> dict[str, dict[str, sps.csr_matrix]]:\n",
    "    train_sparse = make_sparse(train, encoder, binary=binary)\n",
    "    valid_sparse = make_sparse(valid, encoder, binary=binary)\n",
    "    train_mask, valid_mask = (\n",
    "        train_sparse.getnnz(axis=-1) > 0,\n",
    "        valid_sparse.getnnz(axis=-1) > 0,\n",
    "    )\n",
    "    return {\n",
    "        \"train\": {\n",
    "            \"source\": train_sparse[train_mask],\n",
    "            \"target\": train_sparse[train_mask],\n",
    "        },\n",
    "        \"valid\": {\n",
    "            \"source\": train_sparse[valid_mask],\n",
    "            \"target\": valid_sparse[valid_mask],\n",
    "        },\n",
    "    }"
   ]
  },
  {
   "cell_type": "code",
   "execution_count": 25,
   "id": "dc7fafd3-485a-4c21-9c49-6b9c3694c102",
   "metadata": {
    "ExecuteTime": {
     "end_time": "2023-04-19T13:28:51.985570Z",
     "start_time": "2023-04-19T13:28:51.755488Z"
    },
    "colab": {
     "base_uri": "https://localhost:8080/"
    },
    "id": "dc7fafd3-485a-4c21-9c49-6b9c3694c102",
    "outputId": "2972cfc4-a42c-41e0-f5f4-5fb510e7fdfb"
   },
   "outputs": [
    {
     "name": "stdout",
     "output_type": "stream",
     "text": [
      "Explicit\n",
      "{'train': {'source': <41597x6197 sparse matrix of type '<class 'numpy.float64'>'\n",
      "\twith 3677956 stored elements in Compressed Sparse Row format>,\n",
      "           'target': <41597x6197 sparse matrix of type '<class 'numpy.float64'>'\n",
      "\twith 3677956 stored elements in Compressed Sparse Row format>},\n",
      " 'valid': {'source': <2369x6197 sparse matrix of type '<class 'numpy.float64'>'\n",
      "\twith 633168 stored elements in Compressed Sparse Row format>,\n",
      "           'target': <2369x6197 sparse matrix of type '<class 'numpy.float64'>'\n",
      "\twith 56288 stored elements in Compressed Sparse Row format>}}\n",
      "Implicit\n",
      "{'train': {'source': <40613x6197 sparse matrix of type '<class 'numpy.float64'>'\n",
      "\twith 2125713 stored elements in Compressed Sparse Row format>,\n",
      "           'target': <40613x6197 sparse matrix of type '<class 'numpy.float64'>'\n",
      "\twith 2125713 stored elements in Compressed Sparse Row format>},\n",
      " 'valid': {'source': <2259x6197 sparse matrix of type '<class 'numpy.float64'>'\n",
      "\twith 345760 stored elements in Compressed Sparse Row format>,\n",
      "           'target': <2259x6197 sparse matrix of type '<class 'numpy.float64'>'\n",
      "\twith 34351 stored elements in Compressed Sparse Row format>}}\n"
     ]
    }
   ],
   "source": [
    "explicit_datasets = build_sparse_datasets(\n",
    "    **datasets[\"explicit\"], encoder=encoder, binary=False\n",
    ")\n",
    "implicit_datasets = build_sparse_datasets(\n",
    "    **datasets[\"implicit\"], encoder=encoder, binary=True\n",
    ")\n",
    "print(\"Explicit\")\n",
    "pprint(explicit_datasets)\n",
    "print(\"Implicit\")\n",
    "pprint(implicit_datasets)"
   ]
  },
  {
   "cell_type": "markdown",
   "id": "156ec922-f440-4c87-95de-414ac9d7b205",
   "metadata": {
    "id": "156ec922-f440-4c87-95de-414ac9d7b205"
   },
   "source": [
    "### 3.4 Готовим лоадеры для данных\n",
    "\n",
    "Сразу будем писать всё на torch because we can!!!"
   ]
  },
  {
   "cell_type": "code",
   "execution_count": 26,
   "id": "1f349885-bd34-46f8-b0d9-3d628b20f3eb",
   "metadata": {
    "ExecuteTime": {
     "end_time": "2023-04-19T13:28:53.140085Z",
     "start_time": "2023-04-19T13:28:53.127008Z"
    },
    "id": "1f349885-bd34-46f8-b0d9-3d628b20f3eb"
   },
   "outputs": [],
   "source": [
    "class MovieLensDataset(Dataset):\n",
    "    def __init__(self, source: sps.csc_matrix, target: sps.csr_matrix = None) -> None:\n",
    "        self._source = source\n",
    "        self._target = target\n",
    "\n",
    "    def __len__(self):\n",
    "        return self._source.shape[0]\n",
    "\n",
    "    def __getitem__(self, idx: int) -> dict[str, np.ndarray]:\n",
    "        item = {\"source\": self._source[idx]}\n",
    "        if self._target is not None:\n",
    "            item[\"target\"] = self._target[idx]\n",
    "        return item"
   ]
  },
  {
   "cell_type": "code",
   "execution_count": 27,
   "id": "dc506a39-3880-4080-b2b8-3fdfb47d6b13",
   "metadata": {
    "ExecuteTime": {
     "end_time": "2023-04-19T13:28:53.387822Z",
     "start_time": "2023-04-19T13:28:53.371999Z"
    },
    "id": "dc506a39-3880-4080-b2b8-3fdfb47d6b13"
   },
   "outputs": [],
   "source": [
    "class MovieLensCollator:\n",
    "    def __call__(\n",
    "        self, instances: Iterable[dict[str, sps.csr_matrix]]\n",
    "    ) -> dict[str, torch.Tensor]:\n",
    "        batch = self._make_batch(instances)\n",
    "        for key, tensor in batch.items():\n",
    "            batch[key] = (\n",
    "                self._to_sparse(tensor).to_dense().float()\n",
    "                if isinstance(tensor[0], sps.csr_matrix)\n",
    "                else torch.Tensor(tensor)\n",
    "            )\n",
    "        return dict(batch)\n",
    "\n",
    "    @staticmethod\n",
    "    def _make_batch(\n",
    "        instances: Iterable[dict[str, sps.csr_matrix]]\n",
    "    ) -> dict[str, list[sps.csr_matrix]]:\n",
    "        tensor_dict = defaultdict(list)\n",
    "        for instance in instances:\n",
    "            for field, tensor in instance.items():\n",
    "                tensor_dict[field].append(tensor)\n",
    "        return tensor_dict\n",
    "\n",
    "    @staticmethod\n",
    "    def _to_sparse(tensor: list[sps.csr_matrix]) -> torch.sparse.Tensor:\n",
    "        tensor = sps.vstack(tensor)\n",
    "        values = torch.from_numpy(tensor.data)\n",
    "        indices = torch.from_numpy(np.vstack(tensor.nonzero())).long()\n",
    "        sparse_tensor = torch.sparse.FloatTensor(indices, values, tensor.shape)\n",
    "        return sparse_tensor"
   ]
  },
  {
   "cell_type": "markdown",
   "id": "64c5bcc0-56b1-4f30-b949-5c63e14928f4",
   "metadata": {
    "id": "64c5bcc0-56b1-4f30-b949-5c63e14928f4"
   },
   "source": [
    "## 4. Обучаем модели\n",
    "\n",
    "### 4.1 Sparse Model и Runner\n",
    "\n",
    "#### Sparse Model\n",
    "\n",
    "Каждая модель состоит из 2 функций:\n",
    "- Обучение — `.fit()`. Каждая модель обучается только на `train.source` части из датасетов.\n",
    "- Инфер — `.predict_proba()`. Делаем инфер на батче данных из `(train|valid).source` и сравниваем с ответами в `(train|valid).target`, если добавили callback с метриками. Ответ каждой модели — словарь. Мы решили остановиться на dict только с одним ключом **logits**. Однако никто не запрещает добавить что-то ещё. Это очень хорошая практика, когда forward или predict_proba возвращает словарь.\n",
    "\n",
    "И да ещё один важный момент. У каждой модели есть параметр `remove_seen`. С помощью него из предсказний модели, можно убрать айтемы, которые юзер видел во время обучения. В итоге мы всегда будем рекомендовать только что-то новое для клиентов.\n",
    "\n",
    "#### Runner\n",
    "\n",
    "Runner решает только одну задачу — прогон модели на данных. `fit` делаем на всех данных, а `predict_proba` батчевым образом, чтобы сэкономить на памяти."
   ]
  },
  {
   "cell_type": "code",
   "execution_count": 28,
   "id": "7d7a0d14",
   "metadata": {
    "ExecuteTime": {
     "end_time": "2023-04-19T13:28:54.523715Z",
     "start_time": "2023-04-19T13:28:54.503102Z"
    },
    "id": "7d7a0d14"
   },
   "outputs": [],
   "source": [
    "device = torch.device(\"cuda:0\") if torch.cuda.is_available() else torch.device(\"cpu\")"
   ]
  },
  {
   "cell_type": "code",
   "execution_count": 29,
   "id": "3eb7070c-b9ac-40e9-830a-0b5b1864d39e",
   "metadata": {
    "ExecuteTime": {
     "end_time": "2023-04-19T13:28:54.806711Z",
     "start_time": "2023-04-19T13:28:54.798990Z"
    },
    "id": "3eb7070c-b9ac-40e9-830a-0b5b1864d39e"
   },
   "outputs": [],
   "source": [
    "class SparseModel(ABC):\n",
    "    def __init__(self, remove_seen: bool = True) -> None:\n",
    "        self.remove_seen = remove_seen\n",
    "        self.device = torch.device(\"cpu\")\n",
    "\n",
    "    @abstractmethod\n",
    "    def fit(self, data: sps.csr_matrix) -> None:\n",
    "        pass\n",
    "\n",
    "    @abstractmethod\n",
    "    def predict_proba(self, batch: dict[str, Any]) -> dict[str, torch.Tensor]:\n",
    "        pass\n",
    "\n",
    "    def to(self, device: torch.device) -> \"SparseModel\":\n",
    "        self.device = device\n",
    "        return self"
   ]
  },
  {
   "cell_type": "code",
   "execution_count": 30,
   "id": "5de63b45-44cf-4e9c-920d-7dadf4429e7e",
   "metadata": {
    "ExecuteTime": {
     "end_time": "2023-04-19T13:28:54.996756Z",
     "start_time": "2023-04-19T13:28:54.991823Z"
    },
    "id": "5de63b45-44cf-4e9c-920d-7dadf4429e7e"
   },
   "outputs": [],
   "source": [
    "class SparseRunner(IExperiment):\n",
    "    def __init__(\n",
    "        self,\n",
    "        model: SparseModel,\n",
    "        seed: int = 13,\n",
    "        batch_size: int = 32,\n",
    "        device: torch.device = torch.device(\"cpu\"),\n",
    "        callbacks: dict[str, ICallback] = None,\n",
    "        target_threshold: float = 0.0,\n",
    "    ) -> None:\n",
    "        super().__init__()\n",
    "        self.seed = seed\n",
    "        self.model = model.to(device)\n",
    "        self.device = device\n",
    "        self.callbacks = callbacks or defaultdict(None)\n",
    "        self._batch_size = batch_size\n",
    "        self._target_threshold = target_threshold\n",
    "        # Extra variables\n",
    "        self.batch_output: dict[str, torch.Tensor] = None\n",
    "        self.batch_target: torch.Tensor = None\n",
    "\n",
    "    def run_dataset(self) -> None:\n",
    "        if self.is_train_dataset:\n",
    "            self.model.fit(self.dataset[\"source\"])\n",
    "        self.dataset = tqdm(\n",
    "            DataLoader(\n",
    "                MovieLensDataset(**self.dataset),\n",
    "                collate_fn=MovieLensCollator(),\n",
    "                batch_size=self._batch_size,\n",
    "                shuffle=True,\n",
    "                num_workers=1,\n",
    "                pin_memory=True,\n",
    "            ),\n",
    "            desc=f\"Iterating {self.dataset_key}\",\n",
    "        )\n",
    "        # Remove seen items only for validation\n",
    "        self.model.remove_seen = not self.is_train_dataset\n",
    "        super().run_dataset()\n",
    "\n",
    "    def run_batch(self) -> None:\n",
    "        self.batch = {k: v.to(self.device) for k, v in self.batch.items()}\n",
    "        self.batch_target = self.batch[\"target\"].gt(self._target_threshold).float()\n",
    "        self.batch_output = self.model.predict_proba(self.batch)\n",
    "\n",
    "    def run(self, datasets: dict[str, dict[str, sps.csr_matrix]]) -> None:\n",
    "        self.datasets = datasets\n",
    "        super().run()"
   ]
  },
  {
   "cell_type": "code",
   "execution_count": 31,
   "id": "jHIVi_z3eAqH",
   "metadata": {
    "ExecuteTime": {
     "end_time": "2023-04-19T13:28:55.403516Z",
     "start_time": "2023-04-19T13:28:55.397718Z"
    },
    "id": "jHIVi_z3eAqH"
   },
   "outputs": [],
   "source": [
    "dataset_example_train = MovieLensDataset(**implicit_datasets[\"train\"])"
   ]
  },
  {
   "cell_type": "code",
   "execution_count": 32,
   "id": "HaUzLvjgdRnU",
   "metadata": {
    "ExecuteTime": {
     "end_time": "2023-04-19T13:28:55.844282Z",
     "start_time": "2023-04-19T13:28:55.838277Z"
    },
    "id": "HaUzLvjgdRnU"
   },
   "outputs": [],
   "source": [
    "loader_example = DataLoader(\n",
    "    dataset_example_train,\n",
    "    collate_fn=MovieLensCollator(),\n",
    "    batch_size=32,\n",
    "    shuffle=True,\n",
    "    num_workers=1,\n",
    "    pin_memory=True,\n",
    ")"
   ]
  },
  {
   "cell_type": "code",
   "execution_count": 33,
   "id": "QpU6ZV2RelOF",
   "metadata": {
    "ExecuteTime": {
     "end_time": "2023-04-19T13:28:56.325010Z",
     "start_time": "2023-04-19T13:28:56.162444Z"
    },
    "colab": {
     "base_uri": "https://localhost:8080/"
    },
    "id": "QpU6ZV2RelOF",
    "outputId": "c90944b5-2768-41b0-fb2f-5c6cdf753d66"
   },
   "outputs": [
    {
     "data": {
      "text/plain": [
       "{'source': tensor([[0., 0., 0.,  ..., 0., 0., 0.],\n",
       "         [0., 0., 0.,  ..., 0., 0., 0.],\n",
       "         [0., 0., 0.,  ..., 0., 0., 0.],\n",
       "         ...,\n",
       "         [0., 0., 0.,  ..., 0., 0., 0.],\n",
       "         [0., 0., 0.,  ..., 0., 0., 0.],\n",
       "         [0., 0., 0.,  ..., 0., 0., 0.]]),\n",
       " 'target': tensor([[0., 0., 0.,  ..., 0., 0., 0.],\n",
       "         [0., 0., 0.,  ..., 0., 0., 0.],\n",
       "         [0., 0., 0.,  ..., 0., 0., 0.],\n",
       "         ...,\n",
       "         [0., 0., 0.,  ..., 0., 0., 0.],\n",
       "         [0., 0., 0.,  ..., 0., 0., 0.],\n",
       "         [0., 0., 0.,  ..., 0., 0., 0.]])}"
      ]
     },
     "execution_count": 33,
     "metadata": {},
     "output_type": "execute_result"
    }
   ],
   "source": [
    "next(iter(loader_example))"
   ]
  },
  {
   "cell_type": "code",
   "execution_count": 34,
   "id": "oVlOFi9lrhnr",
   "metadata": {
    "ExecuteTime": {
     "end_time": "2023-04-19T13:28:57.002615Z",
     "start_time": "2023-04-19T13:28:56.988717Z"
    },
    "colab": {
     "base_uri": "https://localhost:8080/"
    },
    "id": "oVlOFi9lrhnr",
    "outputId": "56fc65ce-24da-4742-d348-0ba3601f8acd"
   },
   "outputs": [
    {
     "data": {
      "text/plain": [
       "device(type='cpu')"
      ]
     },
     "execution_count": 34,
     "metadata": {},
     "output_type": "execute_result"
    }
   ],
   "source": [
    "device"
   ]
  },
  {
   "cell_type": "markdown",
   "id": "cb83ee00-4865-439e-8ed6-be358e82f1d1",
   "metadata": {
    "id": "cb83ee00-4865-439e-8ed6-be358e82f1d1"
   },
   "source": [
    "### 4.2 Baseline\n",
    "\n",
    "Здесь мы построим модель TopPopular. По названию очень просто догадаться, как она работает. Получаем список самых популярных айтемов по суммированию интеракций (рейтингов). Тут не будет никакой разницы между explicit и implicit, просто суммируем значение интеракции для каждого айтема."
   ]
  },
  {
   "cell_type": "code",
   "execution_count": 35,
   "id": "c02456c9-1e80-469f-8d8c-4825395497b9",
   "metadata": {
    "ExecuteTime": {
     "end_time": "2023-04-19T13:29:03.095092Z",
     "start_time": "2023-04-19T13:29:03.073466Z"
    },
    "id": "c02456c9-1e80-469f-8d8c-4825395497b9"
   },
   "outputs": [],
   "source": [
    "class TopPopularModel(SparseModel):\n",
    "    def __init__(self, remove_seen: bool = True) -> None:\n",
    "        super().__init__(remove_seen=remove_seen)\n",
    "        self._stats = {}\n",
    "\n",
    "    def fit(self, data: sps.csr_matrix) -> None:\n",
    "        self._stats[\"item_freq\"] = self._logits = (\n",
    "            torch.from_numpy(np.array(data.sum(axis=0), dtype=np.float32))\n",
    "            .view(-1)\n",
    "            .to(self.device)\n",
    "        )\n",
    "\n",
    "    def predict_proba(self, batch: dict[str, Any]) -> dict[str, torch.Tensor]:\n",
    "        scores = self._logits.repeat(batch[\"source\"].size(0), 1)\n",
    "        if self.remove_seen:\n",
    "            scores[batch[\"source\"].gt(0)] = -1e13\n",
    "        return {\"logits\": scores}"
   ]
  },
  {
   "cell_type": "code",
   "execution_count": 36,
   "id": "5260ab5d-1b24-4ce1-a136-6b2b2b7e328e",
   "metadata": {
    "ExecuteTime": {
     "start_time": "2023-04-19T13:29:03.359154Z"
    },
    "colab": {
     "base_uri": "https://localhost:8080/"
    },
    "id": "5260ab5d-1b24-4ce1-a136-6b2b2b7e328e",
    "is_executing": true,
    "outputId": "39e349e6-f136-4bd7-e23e-fbf6b619fc1f"
   },
   "outputs": [
    {
     "name": "stdout",
     "output_type": "stream",
     "text": [
      "Implicit\n"
     ]
    },
    {
     "name": "stderr",
     "output_type": "stream",
     "text": [
      "Iterating train: 100%|██████████| 1270/1270 [00:03<00:00, 325.51it/s]\n",
      "Iterating valid: 100%|██████████| 71/71 [00:00<00:00, 304.76it/s]\n"
     ]
    },
    {
     "name": "stdout",
     "output_type": "stream",
     "text": [
      "Explicit\n"
     ]
    },
    {
     "name": "stderr",
     "output_type": "stream",
     "text": [
      "Iterating train: 100%|██████████| 1300/1300 [00:04<00:00, 315.10it/s]\n",
      "Iterating valid: 100%|██████████| 75/75 [00:00<00:00, 269.95it/s]\n"
     ]
    }
   ],
   "source": [
    "top_popular = SparseRunner(model=TopPopularModel(), device=device)\n",
    "print(\"Implicit\")\n",
    "top_popular.run(implicit_datasets)\n",
    "print(\"Explicit\")\n",
    "top_popular.run(explicit_datasets)"
   ]
  },
  {
   "cell_type": "markdown",
   "id": "6a103af1-2f93-48bc-ae16-2f1e4d290e2d",
   "metadata": {
    "id": "6a103af1-2f93-48bc-ae16-2f1e4d290e2d"
   },
   "source": [
    "### 4.3 KNNModel\n",
    "\n",
    "Здесь в одной модели мы решили объединить сразу 2 типа KNN алгоритмов:\n",
    "- user-based\n",
    "- item-based\n",
    "\n",
    "Извините, но тут действительно проще всего описать формулками.\n",
    "\n",
    "Сначала обозначим:\n",
    "- $v \\sim S_k(u;i)$ — список юзеров $v$, которые взаимодействовали с айтемом $i$ и которые похожи на юзера $u$. Таких юзеров будет не больше чем $k$ (отсюда название).\n",
    "- $j \\sim S_k(u;i)$ — список айтемов $j$, с которыми юзер $u$ взаимодействовал и которые похожи на $i$. Таких айтемов будет не больше чем $k$.\n",
    "- $s_{ab}$ — значение similarity между $a$ и $b$.\n",
    "\n",
    "Так-с основные определения готовы, теперь опишем как сделать предсказания для каждой модельки:\n",
    "- user-based\n",
    "$$\n",
    "\\hat{r}_{ui} = \\frac{\\sum_{v \\sim S_k(u;i)}s_{uv} \\cdot r_{vi}}{\\sum_{v \\sim S_k(u;i)}s_{uv}}\n",
    "$$\n",
    "- item-based\n",
    "$$\n",
    "\\hat{r}_{ui} = \\frac{\\sum_{j \\sim S_k(u;i)}s_{ij} \\cdot r_{uj}}{\\sum_{j \\sim S_k(u;i)}s_{ij}}\n",
    "$$\n",
    "\n",
    "Btw, знаменатель можно опустить, если нам неважно значение $r_{ui}$ и лишь достаточно правильно ранжировать. Тогда формулки становится ещё проще:\n",
    "- user-based: $\\hat{R} = WR$, где $R \\in \\text{(num users) x (num items)}$, $W \\in \\text{(num users) x (num users)}$\n",
    "- item-based: $\\hat{R} = RW$, где $R \\in \\text{(num users) x (num items)}$, $W \\in \\text{(num items) x (num items)}$\n",
    "\n",
    "Теперь опишем основные подходы для подсчёта значения $s_{ab}$. Можно выделить 3 типа:\n",
    "- поставим ручками самостоятельно\n",
    "- воспользуемся метриками: euclidean, jaccard, cosine, etc\n",
    "- обучим матрицу $W$"
   ]
  },
  {
   "cell_type": "code",
   "execution_count": 37,
   "id": "bd1eb441-6455-47f8-b9c0-fda577323975",
   "metadata": {
    "ExecuteTime": {
     "start_time": "2023-04-19T12:29:20.555232Z"
    },
    "id": "bd1eb441-6455-47f8-b9c0-fda577323975"
   },
   "outputs": [],
   "source": [
    "class KNNModel(SparseModel):\n",
    "    def __init__(\n",
    "        self,\n",
    "        similarity: str,\n",
    "        topk: int,\n",
    "        count_threshold: int = None,\n",
    "        method: str = \"item\",\n",
    "        remove_seen: bool = True,\n",
    "    ) -> None:\n",
    "        super().__init__(remove_seen=remove_seen)\n",
    "        assert similarity in (\"cooccurrence\", \"cosine\", \"jaccard\")\n",
    "        self._similarity = getattr(self, similarity)\n",
    "        self._topk = topk\n",
    "        self._count_threshold = count_threshold\n",
    "        self._method = method\n",
    "\n",
    "    def cooccurrence(self, data: sps.csr_matrix) -> torch.Tensor:\n",
    "        if self._method == \"user\":\n",
    "            # sim_matrix ~ (num users, num users)\n",
    "            sim_matrix = torch.from_numpy(data.dot(data.T).toarray()).to(self.device)\n",
    "        else:\n",
    "            # sim_matrix ~ (num items, num items)\n",
    "            sim_matrix = torch.from_numpy(data.T.dot(data).toarray()).to(self.device)\n",
    "        if self._count_threshold is not None:\n",
    "            sim_matrix *= sim_matrix > self._count_threshold\n",
    "        return sim_matrix\n",
    "\n",
    "    def cosine(self, data: sps.csr_matrix) -> torch.Tensor:\n",
    "        if self._method == \"user\":\n",
    "            # sim_matrix ~ (num users, num users)\n",
    "            sim_matrix = torch.from_numpy(data.dot(data.T).toarray()).to(self.device)\n",
    "            # sum_of_squares ~ (num users)\n",
    "            sum_of_squares = (\n",
    "                torch.from_numpy(data.power(2).sum(axis=1))\n",
    "                .to(self._device)\n",
    "                .view(-1)\n",
    "                .sqrt()\n",
    "            )\n",
    "        else:\n",
    "            # sim_matrix ~ (num items, num items)\n",
    "            sim_matrix = torch.from_numpy(data.T.dot(data).toarray()).to(self.device)\n",
    "            # sum_of_squares ~ (num items)\n",
    "            sum_of_squares = (\n",
    "                torch.from_numpy(data.power(2).sum(axis=0))\n",
    "                .to(self.device)\n",
    "                .view(-1)\n",
    "                .sqrt()\n",
    "            )\n",
    "        if self._count_threshold is not None:\n",
    "            sim_matrix *= sim_matrix > self._count_threshold\n",
    "        denominator = torch.einsum(\"i,j->ij\", sum_of_squares, sum_of_squares) + 1e-13\n",
    "        sim_matrix = sim_matrix / denominator\n",
    "        sim_matrix.fill_diagonal_(0.0)\n",
    "        return sim_matrix\n",
    "\n",
    "    def jaccard(self, data: sps.csr_matrix) -> torch.Tensor:\n",
    "        if self._method == \"user\":\n",
    "            # intersection ~ (num users, num users)\n",
    "            intersection = torch.from_numpy(data.dot(data.T).toarray()).to(self.device)\n",
    "        else:\n",
    "            # intersection ~ (num items, num items)\n",
    "            intersection = torch.from_numpy(data.T.dot(data).toarray()).to(self.device)\n",
    "        if self._count_threshold is not None:\n",
    "            intersection *= intersection > self._count_threshold\n",
    "        diagonal = intersection.diagonal()\n",
    "        return intersection / (\n",
    "            diagonal.unsqueeze(0) + diagonal.unsqueeze(-1) - intersection\n",
    "        )\n",
    "\n",
    "    def fit(self, data: sps.csr_matrix) -> None:\n",
    "        topk = min(self._topk or data.shape[-1] - 1, data.shape[-1] - 1)\n",
    "        similarity_matrix = self._similarity(data).float()\n",
    "        relevant = torch.topk(similarity_matrix, k=topk, dim=-1)\n",
    "        self._similarity_matrix = torch.zeros_like(similarity_matrix).scatter_(\n",
    "            dim=-1, index=relevant.indices, src=relevant.values\n",
    "        )\n",
    "\n",
    "    def predict_proba(self, batch: dict[str, Any]) -> dict[str, torch.Tensor]:\n",
    "        scores = torch.einsum(\"bi,ij->bj\", batch[\"source\"], self._similarity_matrix)\n",
    "        if self.remove_seen:\n",
    "            scores[batch[\"source\"].gt(0)] = -1e13\n",
    "        return {\"logits\": scores}"
   ]
  },
  {
   "cell_type": "code",
   "execution_count": 38,
   "id": "eef9422c-ca6c-4b72-b6c2-52bd0e2dd930",
   "metadata": {
    "ExecuteTime": {
     "start_time": "2023-04-19T12:29:20.556444Z"
    },
    "colab": {
     "base_uri": "https://localhost:8080/"
    },
    "id": "eef9422c-ca6c-4b72-b6c2-52bd0e2dd930",
    "outputId": "8a008973-c48f-47af-fb44-1f5410fb864e"
   },
   "outputs": [
    {
     "name": "stdout",
     "output_type": "stream",
     "text": [
      "Implicit\n"
     ]
    },
    {
     "name": "stderr",
     "output_type": "stream",
     "text": [
      "Iterating train: 100%|██████████| 1270/1270 [00:45<00:00, 27.67it/s]\n",
      "Iterating valid: 100%|██████████| 71/71 [00:02<00:00, 26.91it/s]\n"
     ]
    },
    {
     "name": "stdout",
     "output_type": "stream",
     "text": [
      "Explicit\n"
     ]
    },
    {
     "name": "stderr",
     "output_type": "stream",
     "text": [
      "Iterating train: 100%|██████████| 1300/1300 [00:47<00:00, 27.56it/s]\n",
      "Iterating valid: 100%|██████████| 75/75 [00:02<00:00, 26.38it/s]\n"
     ]
    }
   ],
   "source": [
    "knn_model = SparseRunner(model=KNNModel(\"cosine\", topk=100), device=device)\n",
    "print(\"Implicit\")\n",
    "knn_model.run(implicit_datasets)\n",
    "print(\"Explicit\")\n",
    "knn_model.run(explicit_datasets)"
   ]
  },
  {
   "cell_type": "markdown",
   "id": "6b7a810f-cd0b-4060-8288-0782eb580544",
   "metadata": {
    "id": "6b7a810f-cd0b-4060-8288-0782eb580544"
   },
   "source": [
    "### 4.4 EASE\n",
    "\n",
    "Эта умная KNN моделька. В Markdown не получится объяснять структуру модели, поэтому предлагаем вам заценить [статью](https://arxiv.org/abs/1905.03375). Она очень даже хорошая, а интерпретация модели — наше почтение."
   ]
  },
  {
   "cell_type": "code",
   "execution_count": 39,
   "id": "a562b001-6285-4208-bc2d-4e4d4c8c781f",
   "metadata": {
    "ExecuteTime": {
     "start_time": "2023-04-19T12:29:20.557585Z"
    },
    "id": "a562b001-6285-4208-bc2d-4e4d4c8c781f"
   },
   "outputs": [],
   "source": [
    "class EASE(SparseModel):\n",
    "    def __init__(self, remove_seen: bool = True, lambda_weight: float = 100.0) -> None:\n",
    "        super().__init__(remove_seen=remove_seen)\n",
    "        self._lambda_weight = lambda_weight\n",
    "        self._item_matrix = None\n",
    "\n",
    "    def fit(self, data: sps.csr_matrix) -> None:\n",
    "        X = torch.sparse.FloatTensor(\n",
    "            torch.from_numpy(np.vstack(data.nonzero())).long(),\n",
    "            torch.from_numpy(data.data),\n",
    "            data.shape,\n",
    "        )\n",
    "        # Вот тут вместо cooccurrence matrix можно попробовать cosine или corr\n",
    "        gram_matrix = torch.sparse.mm(X.transpose(0, 1), X)\n",
    "        gram_matrix += self._lambda_weight * torch.eye(gram_matrix.shape[0]).to_sparse()\n",
    "        gram_matrix = gram_matrix.to_dense().to(self.device)\n",
    "        precision_matrix = torch.linalg.inv(gram_matrix)\n",
    "        item_matrix = precision_matrix / (-torch.diag(precision_matrix))\n",
    "        item_matrix.fill_diagonal_(0.0)\n",
    "        self._item_matrix = item_matrix.float()\n",
    "\n",
    "    def predict_proba(self, batch: dict[str, Any]) -> dict[str, torch.Tensor]:\n",
    "        scores = torch.einsum(\"bi,ij->bj\", batch[\"source\"], self._item_matrix)\n",
    "        if self.remove_seen:\n",
    "            scores[batch[\"source\"].gt(0)] = -1e13\n",
    "        return {\"logits\": scores}"
   ]
  },
  {
   "cell_type": "code",
   "execution_count": 40,
   "id": "2d693eb8-ff5f-4b60-bd3b-738422e889df",
   "metadata": {
    "colab": {
     "base_uri": "https://localhost:8080/"
    },
    "id": "2d693eb8-ff5f-4b60-bd3b-738422e889df",
    "outputId": "cf3607f6-220d-4738-9e27-a29727a8ddc6"
   },
   "outputs": [
    {
     "name": "stderr",
     "output_type": "stream",
     "text": [
      "/var/folders/mv/t2n0032d28x_r1br2h8tqzvw0000gn/T/ipykernel_36365/2342466712.py:14: UserWarning: Sparse CSR tensor support is in beta state. If you miss a functionality in the sparse tensor support, please submit a feature request to https://github.com/pytorch/pytorch/issues. (Triggered internally at /Users/runner/miniforge3/conda-bld/pytorch-recipe_1680607667584/work/aten/src/ATen/SparseCsrTensorImpl.cpp:56.)\n",
      "  gram_matrix = torch.sparse.mm(X.transpose(0, 1), X)\n",
      "Iterating train: 100%|██████████| 80/80 [00:34<00:00,  2.34it/s]\n",
      "Iterating valid: 100%|██████████| 5/5 [00:02<00:00,  2.44it/s]\n"
     ]
    }
   ],
   "source": [
    "runner = SparseRunner(model=EASE(), batch_size=512, device=device)\n",
    "runner.run(implicit_datasets)"
   ]
  },
  {
   "cell_type": "markdown",
   "id": "e0713e69-8a9a-4ab8-9952-82db6a96db60",
   "metadata": {
    "id": "e0713e69-8a9a-4ab8-9952-82db6a96db60"
   },
   "source": [
    "### 4.5 SVD\n",
    "\n",
    "Ойойой. Думаю вам всем знакома эта модель, поэтому описывать её устройства не будем. Разве что только поговорим про инфер. В последних статьях с модельками для explicit данных вы не найдёте бенчмарком с этим типом моделей. Оно и понятно, SVD показывает скромные результаты для предсказания рейтинга $r_{ui}$. Однако SVD обладает хорошими ранжирующими качествами. А для нас это важнее всего :)\n",
    "\n",
    "Ладно, теперь про инфер. В `predict_proba` мы воспользуемся ортогональностью матриц $U \\sim R^{\\text{(num users) x (factors)}}$ и $V \\sim R^{\\text{(num items) x (factors)}}$. Благодаря этому инфер можно записать вот так: $\\hat{r}_u = r_u \\cdot V \\cdot V^T$"
   ]
  },
  {
   "cell_type": "code",
   "execution_count": 41,
   "id": "bb5e411a-5fd3-466f-b4c9-b13ca992bf2a",
   "metadata": {
    "id": "bb5e411a-5fd3-466f-b4c9-b13ca992bf2a"
   },
   "outputs": [],
   "source": [
    "class SvdModel(SparseModel):\n",
    "    def __init__(self, factors: int, remove_seen: bool = True) -> None:\n",
    "        super().__init__(remove_seen=remove_seen)\n",
    "        self._factors = factors\n",
    "        self.factors = {}\n",
    "        self.sigma = None\n",
    "\n",
    "    def fit(self, data: sps.csr_matrix) -> None:\n",
    "        # Torch argues on negative stride with u and sigma\n",
    "        u, sigma, vt = sps.linalg.svds(data, k=self._factors)\n",
    "        self.factors = {\n",
    "            \"user\": torch.from_numpy(u.copy()).float().to(self.device),\n",
    "            \"item\": torch.einsum(\n",
    "                \"fi->if\", torch.from_numpy(vt).float().to(self.device)\n",
    "            ),\n",
    "        }\n",
    "        self.sigma = torch.from_numpy(sigma.copy()).diag().float().to(self.device)\n",
    "\n",
    "    def predict_proba(self, batch: dict[str, Any]) -> dict[str, torch.Tensor]:\n",
    "        scores = torch.einsum(\n",
    "            \"ui,if,jf->uj\", batch[\"source\"], self.factors[\"item\"], self.factors[\"item\"]\n",
    "        )\n",
    "        if self.remove_seen:\n",
    "            scores[batch[\"source\"].gt(0)] = -1e13\n",
    "        return {\"logits\": scores}"
   ]
  },
  {
   "cell_type": "code",
   "execution_count": 42,
   "id": "0283f8b5-9a47-4c77-8f58-a03d545fc650",
   "metadata": {
    "colab": {
     "base_uri": "https://localhost:8080/"
    },
    "id": "0283f8b5-9a47-4c77-8f58-a03d545fc650",
    "outputId": "98a3f0f8-3a35-494b-ecaf-52170b906298"
   },
   "outputs": [
    {
     "name": "stdout",
     "output_type": "stream",
     "text": [
      "Implicit\n"
     ]
    },
    {
     "name": "stderr",
     "output_type": "stream",
     "text": [
      "Iterating train: 100%|██████████| 80/80 [00:03<00:00, 20.06it/s]\n",
      "Iterating valid: 100%|██████████| 5/5 [00:00<00:00, 17.27it/s]\n"
     ]
    },
    {
     "name": "stdout",
     "output_type": "stream",
     "text": [
      "Explicit\n"
     ]
    },
    {
     "name": "stderr",
     "output_type": "stream",
     "text": [
      "Iterating train: 100%|██████████| 82/82 [00:04<00:00, 19.25it/s]\n",
      "Iterating valid: 100%|██████████| 5/5 [00:00<00:00, 17.43it/s]\n"
     ]
    }
   ],
   "source": [
    "runner = SparseRunner(model=SvdModel(factors=128), batch_size=512, device=device)\n",
    "print(\"Implicit\")\n",
    "runner.run(implicit_datasets)\n",
    "print(\"Explicit\")\n",
    "runner.run(explicit_datasets)"
   ]
  },
  {
   "cell_type": "markdown",
   "id": "dd4bb7af-a0d7-4320-bb5b-2784f8c89aa0",
   "metadata": {
    "id": "dd4bb7af-a0d7-4320-bb5b-2784f8c89aa0"
   },
   "source": [
    "## 5. Evaluation\n",
    "\n",
    "Метрики precision, recall, m(n)ap и ndcg (необязательно) считают для бинарного таргета. Поэтому в коде `SparseRunner` вы могли заметить перевод `batch_target` в бинарный формат независимо от implicit или explicit фидбэка. В RecSys есть важная особенность метрик: считаем всё для какого-то top at k.\n",
    "\n",
    "$target_{sort}$ — таргет, сортированный в соответствии с логитами модели по убыванию.\n",
    "\n",
    "Так как мы всё делаем через animus, сделаем второй callback, чтобы красиво визуализировать метрики моделей."
   ]
  },
  {
   "cell_type": "code",
   "execution_count": 43,
   "id": "8c053209-51c0-4caf-b4dd-dcc8d57cca67",
   "metadata": {
    "id": "8c053209-51c0-4caf-b4dd-dcc8d57cca67"
   },
   "outputs": [],
   "source": [
    "class MetricCallback(ICallback):\n",
    "    def __init__(self, func: Callable, topk: list[int], input_key: str) -> None:\n",
    "        self._name = func.__name__\n",
    "        self._func = func\n",
    "        self._topk = topk\n",
    "        self._input_key = input_key\n",
    "        self._total_sum = {k: 0 for k in self._topk}\n",
    "        self._num_batches = 0\n",
    "\n",
    "    def _get_metric(self) -> dict[str, float]:\n",
    "        return {\n",
    "            f\"{self._name}@{k}\": metric_sum / self._num_batches\n",
    "            for k, metric_sum in self._total_sum.items()\n",
    "        }\n",
    "\n",
    "    def on_dataset_start(self, exp: IExperiment) -> None:\n",
    "        self._total_sum = {k: 0 for k in self._topk}\n",
    "        self._num_batches = 0\n",
    "\n",
    "    def on_batch_end(self, exp: IExperiment) -> None:\n",
    "        for k in self._topk:\n",
    "            self._total_sum[k] += self._func(\n",
    "                exp.batch_output[self._input_key], exp.batch_target, topk=k\n",
    "            ).item()\n",
    "        self._num_batches += 1\n",
    "        exp.batch_metrics.update(self._get_metric())\n",
    "\n",
    "    def on_dataset_end(self, exp: IExperiment) -> None:\n",
    "        exp.dataset_metrics.update(self._get_metric())"
   ]
  },
  {
   "cell_type": "code",
   "execution_count": 44,
   "id": "d33c5594-20ec-450c-9fa1-e674d8fa8bfa",
   "metadata": {
    "id": "d33c5594-20ec-450c-9fa1-e674d8fa8bfa"
   },
   "outputs": [],
   "source": [
    "class LoggerCallback(ICallback):\n",
    "    def on_dataset_end(self, exp: IExperiment) -> None:\n",
    "        \"\"\"Run callbacks on dataset end.\"\"\"\n",
    "        print(f\"{exp.dataset_key.capitalize()} metrics:\")\n",
    "        max_length = max(len(x) for x in exp.dataset_metrics)\n",
    "        # Sort by length to make it prettier\n",
    "        for metric in sorted(exp.dataset_metrics, key=self._sort_func):\n",
    "            metric_value = exp.dataset_metrics.get(metric)\n",
    "            if isinstance(metric_value, (float, int)):\n",
    "                print(f\"{metric.ljust(max_length)} | {metric_value:.4f}\")\n",
    "\n",
    "    @staticmethod\n",
    "    def _sort_func(x: str) -> Tuple[int, str, int]:\n",
    "        if \"@\" in x:\n",
    "            metric_key, topk = x.split(\"@\")\n",
    "            return (len(metric_key), metric_key, int(topk))\n",
    "        return (len(x), x, 0)"
   ]
  },
  {
   "cell_type": "code",
   "execution_count": 45,
   "id": "ac654b68-ae10-4d97-9b1e-4b6f41d865c6",
   "metadata": {
    "id": "ac654b68-ae10-4d97-9b1e-4b6f41d865c6"
   },
   "outputs": [],
   "source": [
    "class PrepareTargetResult(NamedTuple):\n",
    "    values: torch.Tensor\n",
    "    indices: torch.Tensor\n",
    "\n",
    "\n",
    "def validate_metric_inputs(output: torch.Tensor, target: torch.Tensor) -> None:\n",
    "    if output.size() != target.size():\n",
    "        raise IndexError(\n",
    "            \"Unequal sizes for output and target: \"\n",
    "            f\"output - {output.size()}, target - {target.size()}.\"\n",
    "        )\n",
    "    if not (target.eq(0) | target.eq(1)).all():\n",
    "        raise ValueError(\n",
    "            \"Target contains values outside of 0 and 1.\" f\"\\nTarget:\\n{target}\"\n",
    "        )\n",
    "\n",
    "\n",
    "def prepare_target(\n",
    "    output: torch.Tensor, target: torch.Tensor, return_indices: bool = False\n",
    ") -> Union[torch.Tensor, PrepareTargetResult]:\n",
    "    validate_metric_inputs(output, target)\n",
    "    # Define order by sorted output scores.\n",
    "    indices = output.argsort(dim=-1, descending=True)\n",
    "    sorted_target = torch.gather(target, index=indices, dim=-1)\n",
    "    return (\n",
    "        PrepareTargetResult(sorted_target, indices) if return_indices else sorted_target\n",
    "    )\n",
    "\n",
    "\n",
    "def nan_to_num(tensor: torch.Tensor, nan: float = 0.0) -> torch.Tensor:\n",
    "    return torch.where(\n",
    "        torch.isnan(tensor) | torch.isinf(tensor),\n",
    "        torch.full_like(tensor, fill_value=nan),\n",
    "        tensor,\n",
    "    )"
   ]
  },
  {
   "cell_type": "code",
   "execution_count": 46,
   "id": "7c369037-0686-4e4f-96f7-324c16133d3a",
   "metadata": {
    "id": "7c369037-0686-4e4f-96f7-324c16133d3a"
   },
   "outputs": [],
   "source": [
    "output, target = (\n",
    "    torch.randn(size=(10, 13)),\n",
    "    torch.randint(low=0, high=2, size=(10, 13)).float(),\n",
    ")"
   ]
  },
  {
   "cell_type": "markdown",
   "id": "f6dcf517-e8df-4957-92d2-c29e948116cd",
   "metadata": {
    "id": "f6dcf517-e8df-4957-92d2-c29e948116cd"
   },
   "source": [
    "### 5.1 Precision\n",
    "\n",
    "$$\n",
    "p@k = \\frac{\\sum_{i=1}^{k}target_{sort}[i]}{k}\n",
    "$$"
   ]
  },
  {
   "cell_type": "code",
   "execution_count": 47,
   "id": "dc7a35ba-cabc-4071-9b84-93e21903d0b4",
   "metadata": {
    "id": "dc7a35ba-cabc-4071-9b84-93e21903d0b4"
   },
   "outputs": [],
   "source": [
    "def precision(output: torch.Tensor, target: torch.Tensor, topk: int) -> torch.Tensor:\n",
    "    topk = min(output.size(-1), topk)\n",
    "    # target_sorted_by_output ~ (users, topk)\n",
    "    target_sorted_by_output = prepare_target(output, target)[:, :topk]\n",
    "    # precision_score ~ (users)\n",
    "    precision_score = target_sorted_by_output.sum(dim=-1) / topk\n",
    "    return precision_score.mean()"
   ]
  },
  {
   "cell_type": "code",
   "execution_count": 48,
   "id": "eaebfb1f-9b44-4161-b38f-f70343a018e4",
   "metadata": {
    "colab": {
     "base_uri": "https://localhost:8080/"
    },
    "id": "eaebfb1f-9b44-4161-b38f-f70343a018e4",
    "outputId": "040ced55-e53f-45b3-9de5-e7cb7dbce44a"
   },
   "outputs": [
    {
     "data": {
      "text/plain": [
       "tensor(0.4667)"
      ]
     },
     "execution_count": 48,
     "metadata": {},
     "output_type": "execute_result"
    }
   ],
   "source": [
    "precision(output, target, topk=3)"
   ]
  },
  {
   "cell_type": "markdown",
   "id": "78531082-a94d-4347-a6ac-4b21f1effaf3",
   "metadata": {
    "id": "78531082-a94d-4347-a6ac-4b21f1effaf3"
   },
   "source": [
    "### 5.2 Recall\n",
    "\n",
    "$$\n",
    "r@k = \\frac{\\sum_{i=1}^{k}target_{sort}[i]}{\\sum target}\n",
    "$$"
   ]
  },
  {
   "cell_type": "code",
   "execution_count": 49,
   "id": "bc1d6167-344f-4041-9c97-d29eeb232f9e",
   "metadata": {
    "id": "bc1d6167-344f-4041-9c97-d29eeb232f9e"
   },
   "outputs": [],
   "source": [
    "def recall(output: torch.Tensor, target: torch.Tensor, topk: int) -> torch.Tensor:\n",
    "    topk = min(output.shape[-1], topk)\n",
    "    # target_sorted_by_output ~ (users, topk)\n",
    "    target_sorted_by_output = prepare_target(output, target)[:, :topk]\n",
    "    # recall_score ~ (users)\n",
    "    recall_score = nan_to_num(target_sorted_by_output.sum(dim=-1) / target.sum(dim=-1))\n",
    "    return recall_score.mean()"
   ]
  },
  {
   "cell_type": "code",
   "execution_count": 50,
   "id": "4804ee24-b4c5-46e2-8c1e-a08a48cba535",
   "metadata": {
    "colab": {
     "base_uri": "https://localhost:8080/"
    },
    "id": "4804ee24-b4c5-46e2-8c1e-a08a48cba535",
    "outputId": "4bb4fcc0-4f85-4229-dd4c-33583b354c80"
   },
   "outputs": [
    {
     "data": {
      "text/plain": [
       "tensor(0.2017)"
      ]
     },
     "execution_count": 50,
     "metadata": {},
     "output_type": "execute_result"
    }
   ],
   "source": [
    "recall(output, target, topk=3)"
   ]
  },
  {
   "cell_type": "markdown",
   "id": "78cffedd-d538-4876-a7af-d569de374a76",
   "metadata": {
    "id": "78cffedd-d538-4876-a7af-d569de374a76"
   },
   "source": [
    "### 5.3 Mean (Normalized) Average Precision\n",
    "\n",
    "$ap@k = \\frac{1}{\\sum_{i=1}^k{target_{sort}[i]}} \\sum_{i=1}^k target_{sort}[i] \\cdot p@i$\n",
    "```python\n",
    "map@k = reduce(ap@k, \"users->\", reduction=\"mean\")\n",
    "```"
   ]
  },
  {
   "cell_type": "code",
   "execution_count": 51,
   "id": "c4327a51-0231-4780-9292-a6001b941765",
   "metadata": {
    "id": "c4327a51-0231-4780-9292-a6001b941765"
   },
   "outputs": [],
   "source": [
    "def mnap(\n",
    "    output: torch.Tensor, target: torch.Tensor, topk: int, normalized: bool = True\n",
    ") -> torch.Tensor:\n",
    "    topk = min(output.size(-1), topk)\n",
    "    # target_sorted_by_output ~ (users, topk)\n",
    "    target_sorted_by_output = prepare_target(output, target)[:, :topk]\n",
    "    # target_cumsum ~ (users, topk)\n",
    "    target_cumsum = target_sorted_by_output.cumsum(dim=-1)\n",
    "    # topk_tensor ~ (topk)\n",
    "    topk_tensor = torch.arange(0, topk, dtype=torch.long, device=output.device)\n",
    "    # precisions ~ (users, topk)\n",
    "    precisions = target_cumsum / (topk_tensor + 1.0)\n",
    "    # relevant_precisions ~ (users, topk)\n",
    "    relevant_precisions = precisions * target_sorted_by_output\n",
    "    # Add  normalization if needed\n",
    "    denominator = (\n",
    "        target.sum(dim=-1).clamp(max=topk)\n",
    "        if normalized\n",
    "        else target_sorted_by_output.sum(dim=-1)\n",
    "    )\n",
    "    # ap_score ~ (users)\n",
    "    ap_score = nan_to_num(relevant_precisions.sum(dim=-1) / denominator)\n",
    "    return ap_score.mean()"
   ]
  },
  {
   "cell_type": "code",
   "execution_count": 52,
   "id": "b46f2fd9-7d29-465c-904d-1789e9a9855f",
   "metadata": {
    "colab": {
     "base_uri": "https://localhost:8080/"
    },
    "id": "b46f2fd9-7d29-465c-904d-1789e9a9855f",
    "outputId": "ae7d8bfc-b3e4-441f-e471-202d45a64585"
   },
   "outputs": [
    {
     "data": {
      "text/plain": [
       "tensor(0.3556)"
      ]
     },
     "execution_count": 52,
     "metadata": {},
     "output_type": "execute_result"
    }
   ],
   "source": [
    "mnap(output, target, topk=3)"
   ]
  },
  {
   "cell_type": "markdown",
   "id": "1e3d382e",
   "metadata": {
    "id": "1e3d382e"
   },
   "source": [
    "### 5.4 Normalized Discounted Cumulative Gain\n",
    "\n",
    "- Cumulative Gain (CG): $CG@k = \\sum_{i=1}^k target_{sort}[i]$\n",
    "- Discounted Cumulative Gain (DCG): $DCG@k = \\sum_{i=1}^k \\frac{2^{target_{sort}[i]} - 1}{\\log(i + 1)}$\n",
    "- Normalized Discounted Cumulative Gain (nDCG): $nDCG@k = \\frac{DCG@k}{idealDCG@k}$"
   ]
  },
  {
   "cell_type": "code",
   "execution_count": 53,
   "id": "3e513c99-38c5-45c5-8c71-cc8ce7fe0f4b",
   "metadata": {
    "id": "3e513c99-38c5-45c5-8c71-cc8ce7fe0f4b"
   },
   "outputs": [],
   "source": [
    "def dcg(tensor: torch.Tensor) -> torch.Tensor:\n",
    "    gains = (2**tensor) - 1\n",
    "    return gains / torch.log2(\n",
    "        torch.arange(0, tensor.size(-1), dtype=torch.float, device=tensor.device) + 2.0\n",
    "    )\n",
    "\n",
    "\n",
    "def ndcg(output: torch.Tensor, target: torch.Tensor, topk: int) -> torch.Tensor:\n",
    "    topk = min(output.size(-1), topk)\n",
    "    # target_sorted_by_output ~ (users, items)\n",
    "    target_sorted_by_output = prepare_target(output, target)\n",
    "    ideal_target = prepare_target(target, target)\n",
    "    # ideal_dcg ~ (users, topk)\n",
    "    ideal_dcg = dcg(ideal_target)[:, :topk]\n",
    "    # prediction_dcg ~ (users, topk)\n",
    "    prediction_dcg = dcg(target_sorted_by_output)[:, :topk]\n",
    "    # ideal_dcg_cumsum ~ (users)\n",
    "    ideal_dcg_score = ideal_dcg.sum(dim=-1)\n",
    "    # prediction_dcg_cumsum ~ (users)\n",
    "    prediction_dcg_score = prediction_dcg.sum(dim=-1)\n",
    "    # ndcg_score ~ (users, items)\n",
    "    ndcg_score = nan_to_num(prediction_dcg_score / ideal_dcg_score)\n",
    "    # ndcg_score[ideal_dcg_score.eq(0)] = 0.0\n",
    "    return ndcg_score.mean()"
   ]
  },
  {
   "cell_type": "code",
   "execution_count": 54,
   "id": "6c95e737-7853-4c7d-bcb4-1e2999ed3ec6",
   "metadata": {
    "colab": {
     "base_uri": "https://localhost:8080/"
    },
    "id": "6c95e737-7853-4c7d-bcb4-1e2999ed3ec6",
    "outputId": "38231d10-868f-4634-b6c6-53e53aeb0a3e"
   },
   "outputs": [
    {
     "data": {
      "text/plain": [
       "tensor(0.4531)"
      ]
     },
     "execution_count": 54,
     "metadata": {},
     "output_type": "execute_result"
    }
   ],
   "source": [
    "ndcg(output, target, topk=3)"
   ]
  },
  {
   "cell_type": "markdown",
   "id": "a7b5c7d2-9d3f-49e2-91da-8a7c7879adde",
   "metadata": {
    "id": "a7b5c7d2-9d3f-49e2-91da-8a7c7879adde"
   },
   "source": [
    "### 5.5 LESSS GOOOOO\n",
    "#### Top Popular"
   ]
  },
  {
   "cell_type": "code",
   "execution_count": 55,
   "id": "1ea63804-2499-4212-b5c7-2c87466ae9e8",
   "metadata": {
    "colab": {
     "base_uri": "https://localhost:8080/"
    },
    "id": "1ea63804-2499-4212-b5c7-2c87466ae9e8",
    "outputId": "8ac7a619-bba6-4e12-b4b8-6eabde7f3b13"
   },
   "outputs": [
    {
     "name": "stderr",
     "output_type": "stream",
     "text": [
      "Iterating train: 100%|██████████| 82/82 [02:13<00:00,  1.63s/it]\n"
     ]
    },
    {
     "name": "stdout",
     "output_type": "stream",
     "text": [
      "Train metrics:\n",
      "mnap@1       | 0.4153\n",
      "mnap@3       | 0.3329\n",
      "mnap@10      | 0.2149\n",
      "ndcg@1       | 0.4153\n",
      "ndcg@3       | 0.3985\n",
      "ndcg@10      | 0.3295\n",
      "recall@1     | 0.0155\n",
      "recall@3     | 0.0429\n",
      "recall@10    | 0.0957\n",
      "precision@1  | 0.4153\n",
      "precision@3  | 0.3918\n",
      "precision@10 | 0.2948\n"
     ]
    },
    {
     "name": "stderr",
     "output_type": "stream",
     "text": [
      "Iterating valid: 100%|██████████| 5/5 [00:10<00:00,  2.01s/it]"
     ]
    },
    {
     "name": "stdout",
     "output_type": "stream",
     "text": [
      "Valid metrics:\n",
      "mnap@1       | 0.1644\n",
      "mnap@3       | 0.1105\n",
      "mnap@10      | 0.0736\n",
      "ndcg@1       | 0.1644\n",
      "ndcg@3       | 0.1403\n",
      "ndcg@10      | 0.1244\n",
      "recall@1     | 0.0179\n",
      "recall@3     | 0.0396\n",
      "recall@10    | 0.0783\n",
      "precision@1  | 0.1644\n",
      "precision@3  | 0.1270\n",
      "precision@10 | 0.0916\n"
     ]
    },
    {
     "name": "stderr",
     "output_type": "stream",
     "text": [
      "\n"
     ]
    }
   ],
   "source": [
    "runner = SparseRunner(\n",
    "    model=TopPopularModel(),\n",
    "    batch_size=512,\n",
    "    callbacks={\n",
    "        \"precision\": MetricCallback(precision, input_key=\"logits\", topk=(1, 3, 10)),\n",
    "        \"recall\": MetricCallback(recall, input_key=\"logits\", topk=(1, 3, 10)),\n",
    "        \"ndcg\": MetricCallback(ndcg, input_key=\"logits\", topk=(1, 3, 10)),\n",
    "        \"map\": MetricCallback(mnap, input_key=\"logits\", topk=(1, 3, 10)),\n",
    "        \"logger\": LoggerCallback(),\n",
    "    },\n",
    "    target_threshold=3.0,\n",
    "    device=device,\n",
    ")\n",
    "runner.run(explicit_datasets)"
   ]
  },
  {
   "cell_type": "code",
   "execution_count": 56,
   "id": "586f03f3-d77b-46af-abea-14fe62425708",
   "metadata": {
    "colab": {
     "base_uri": "https://localhost:8080/"
    },
    "id": "586f03f3-d77b-46af-abea-14fe62425708",
    "outputId": "bdee437b-c8dc-4978-8020-79c80117f03f"
   },
   "outputs": [
    {
     "name": "stderr",
     "output_type": "stream",
     "text": [
      "Iterating train: 100%|██████████| 80/80 [01:41<00:00,  1.27s/it]\n"
     ]
    },
    {
     "name": "stdout",
     "output_type": "stream",
     "text": [
      "Train metrics:\n",
      "mnap@1       | 0.4243\n",
      "mnap@3       | 0.3400\n",
      "mnap@10      | 0.2214\n",
      "ndcg@1       | 0.4243\n",
      "ndcg@3       | 0.4069\n",
      "ndcg@10      | 0.3361\n",
      "recall@1     | 0.0153\n",
      "recall@3     | 0.0427\n",
      "recall@10    | 0.0958\n",
      "precision@1  | 0.4243\n",
      "precision@3  | 0.4005\n",
      "precision@10 | 0.3017\n"
     ]
    },
    {
     "name": "stderr",
     "output_type": "stream",
     "text": [
      "Iterating valid: 100%|██████████| 5/5 [00:07<00:00,  1.44s/it]"
     ]
    },
    {
     "name": "stdout",
     "output_type": "stream",
     "text": [
      "Valid metrics:\n",
      "mnap@1       | 0.1407\n",
      "mnap@3       | 0.0960\n",
      "mnap@10      | 0.0660\n",
      "ndcg@1       | 0.1407\n",
      "ndcg@3       | 0.1228\n",
      "ndcg@10      | 0.1133\n",
      "recall@1     | 0.0151\n",
      "recall@3     | 0.0337\n",
      "recall@10    | 0.0737\n",
      "precision@1  | 0.1407\n",
      "precision@3  | 0.1125\n",
      "precision@10 | 0.0854\n"
     ]
    },
    {
     "name": "stderr",
     "output_type": "stream",
     "text": [
      "\n"
     ]
    }
   ],
   "source": [
    "runner = SparseRunner(\n",
    "    model=TopPopularModel(),\n",
    "    batch_size=512,\n",
    "    callbacks={\n",
    "        \"precision\": MetricCallback(precision, input_key=\"logits\", topk=(1, 3, 10)),\n",
    "        \"recall\": MetricCallback(recall, input_key=\"logits\", topk=(1, 3, 10)),\n",
    "        \"ndcg\": MetricCallback(ndcg, input_key=\"logits\", topk=(1, 3, 10)),\n",
    "        \"map\": MetricCallback(mnap, input_key=\"logits\", topk=(1, 3, 10)),\n",
    "        \"logger\": LoggerCallback(),\n",
    "    },\n",
    "    device=device,\n",
    ")\n",
    "runner.run(implicit_datasets)"
   ]
  },
  {
   "cell_type": "markdown",
   "id": "63ab55e1-2edb-478e-b30f-3604e743d68f",
   "metadata": {
    "id": "63ab55e1-2edb-478e-b30f-3604e743d68f"
   },
   "source": [
    "#### Item KNN"
   ]
  },
  {
   "cell_type": "code",
   "execution_count": 57,
   "id": "a6f197d6-0194-4df3-9023-7060f2fc6e60",
   "metadata": {
    "colab": {
     "base_uri": "https://localhost:8080/"
    },
    "id": "a6f197d6-0194-4df3-9023-7060f2fc6e60",
    "outputId": "d82df92b-6632-4bf2-f8ad-17048b7a99e8"
   },
   "outputs": [
    {
     "name": "stderr",
     "output_type": "stream",
     "text": [
      "Iterating train: 100%|██████████| 80/80 [01:15<00:00,  1.06it/s]\n"
     ]
    },
    {
     "name": "stdout",
     "output_type": "stream",
     "text": [
      "Train metrics:\n",
      "mnap@1       | 0.3266\n",
      "mnap@3       | 0.2944\n",
      "mnap@10      | 0.2370\n",
      "ndcg@1       | 0.3266\n",
      "ndcg@3       | 0.3400\n",
      "ndcg@10      | 0.3327\n",
      "recall@1     | 0.0060\n",
      "recall@3     | 0.0215\n",
      "recall@10    | 0.0759\n",
      "precision@1  | 0.3266\n",
      "precision@3  | 0.3436\n",
      "precision@10 | 0.3293\n"
     ]
    },
    {
     "name": "stderr",
     "output_type": "stream",
     "text": [
      "Iterating valid: 100%|██████████| 5/5 [00:05<00:00,  1.08s/it]"
     ]
    },
    {
     "name": "stdout",
     "output_type": "stream",
     "text": [
      "Valid metrics:\n",
      "mnap@1       | 0.1543\n",
      "mnap@3       | 0.1077\n",
      "mnap@10      | 0.0784\n",
      "ndcg@1       | 0.1543\n",
      "ndcg@3       | 0.1389\n",
      "ndcg@10      | 0.1371\n",
      "recall@1     | 0.0145\n",
      "recall@3     | 0.0363\n",
      "recall@10    | 0.0964\n",
      "precision@1  | 0.1543\n",
      "precision@3  | 0.1306\n",
      "precision@10 | 0.1084\n"
     ]
    },
    {
     "name": "stderr",
     "output_type": "stream",
     "text": [
      "\n"
     ]
    }
   ],
   "source": [
    "runner = SparseRunner(\n",
    "    model=KNNModel(\"cosine\", topk=100),\n",
    "    batch_size=512,\n",
    "    callbacks={\n",
    "        \"precision\": MetricCallback(precision, input_key=\"logits\", topk=(1, 3, 10)),\n",
    "        \"recall\": MetricCallback(recall, input_key=\"logits\", topk=(1, 3, 10)),\n",
    "        \"ndcg\": MetricCallback(ndcg, input_key=\"logits\", topk=(1, 3, 10)),\n",
    "        \"map\": MetricCallback(mnap, input_key=\"logits\", topk=(1, 3, 10)),\n",
    "        \"logger\": LoggerCallback(),\n",
    "    },\n",
    "    device=device,\n",
    ")\n",
    "runner.run(implicit_datasets)"
   ]
  },
  {
   "cell_type": "code",
   "execution_count": 58,
   "id": "68ecabf8-cd92-4c0e-bcea-9fc575c33f81",
   "metadata": {
    "colab": {
     "base_uri": "https://localhost:8080/"
    },
    "id": "68ecabf8-cd92-4c0e-bcea-9fc575c33f81",
    "outputId": "afe0b667-e497-482f-ff0f-970fc0ea6198"
   },
   "outputs": [
    {
     "name": "stderr",
     "output_type": "stream",
     "text": [
      "Iterating train: 100%|██████████| 82/82 [01:23<00:00,  1.01s/it]\n"
     ]
    },
    {
     "name": "stdout",
     "output_type": "stream",
     "text": [
      "Train metrics:\n",
      "mnap@1       | 0.3966\n",
      "mnap@3       | 0.3628\n",
      "mnap@10      | 0.3171\n",
      "ndcg@1       | 0.3966\n",
      "ndcg@3       | 0.4101\n",
      "ndcg@10      | 0.4142\n",
      "recall@1     | 0.0053\n",
      "recall@3     | 0.0181\n",
      "recall@10    | 0.0675\n",
      "precision@1  | 0.3966\n",
      "precision@3  | 0.4138\n",
      "precision@10 | 0.4156\n"
     ]
    },
    {
     "name": "stderr",
     "output_type": "stream",
     "text": [
      "Iterating valid: 100%|██████████| 5/5 [00:06<00:00,  1.20s/it]"
     ]
    },
    {
     "name": "stdout",
     "output_type": "stream",
     "text": [
      "Valid metrics:\n",
      "mnap@1       | 0.2139\n",
      "mnap@3       | 0.1589\n",
      "mnap@10      | 0.1119\n",
      "ndcg@1       | 0.2139\n",
      "ndcg@3       | 0.1981\n",
      "ndcg@10      | 0.1824\n",
      "recall@1     | 0.0155\n",
      "recall@3     | 0.0383\n",
      "recall@10    | 0.0950\n",
      "precision@1  | 0.2139\n",
      "precision@3  | 0.1901\n",
      "precision@10 | 0.1523\n"
     ]
    },
    {
     "name": "stderr",
     "output_type": "stream",
     "text": [
      "\n"
     ]
    }
   ],
   "source": [
    "runner = SparseRunner(\n",
    "    model=KNNModel(\"cosine\", topk=100),\n",
    "    batch_size=512,\n",
    "    callbacks={\n",
    "        \"precision\": MetricCallback(precision, input_key=\"logits\", topk=(1, 3, 10)),\n",
    "        \"recall\": MetricCallback(recall, input_key=\"logits\", topk=(1, 3, 10)),\n",
    "        \"ndcg\": MetricCallback(ndcg, input_key=\"logits\", topk=(1, 3, 10)),\n",
    "        \"map\": MetricCallback(mnap, input_key=\"logits\", topk=(1, 3, 10)),\n",
    "        \"logger\": LoggerCallback(),\n",
    "    },\n",
    "    device=device,\n",
    ")\n",
    "runner.run(explicit_datasets)"
   ]
  },
  {
   "cell_type": "markdown",
   "id": "6cf40a73-c102-4643-9018-2c5f8d09e5eb",
   "metadata": {
    "id": "6cf40a73-c102-4643-9018-2c5f8d09e5eb"
   },
   "source": [
    "#### EASE"
   ]
  },
  {
   "cell_type": "code",
   "execution_count": 59,
   "id": "1e8cce94-5d65-4fd2-921d-42c7ad762c27",
   "metadata": {
    "colab": {
     "base_uri": "https://localhost:8080/"
    },
    "id": "1e8cce94-5d65-4fd2-921d-42c7ad762c27",
    "outputId": "0f0403ac-96c8-4168-f5c9-fa453363f9f4"
   },
   "outputs": [
    {
     "name": "stderr",
     "output_type": "stream",
     "text": [
      "Iterating train: 100%|██████████| 80/80 [03:21<00:00,  2.52s/it]\n"
     ]
    },
    {
     "name": "stdout",
     "output_type": "stream",
     "text": [
      "Train metrics:\n",
      "mnap@1       | 0.6144\n",
      "mnap@3       | 0.5607\n",
      "mnap@10      | 0.4630\n",
      "ndcg@1       | 0.6144\n",
      "ndcg@3       | 0.6106\n",
      "ndcg@10      | 0.5688\n",
      "recall@1     | 0.0212\n",
      "recall@3     | 0.0646\n",
      "recall@10    | 0.1767\n",
      "precision@1  | 0.6144\n",
      "precision@3  | 0.6089\n",
      "precision@10 | 0.5411\n"
     ]
    },
    {
     "name": "stderr",
     "output_type": "stream",
     "text": [
      "Iterating valid: 100%|██████████| 5/5 [00:11<00:00,  2.29s/it]"
     ]
    },
    {
     "name": "stdout",
     "output_type": "stream",
     "text": [
      "Valid metrics:\n",
      "mnap@1       | 0.1718\n",
      "mnap@3       | 0.1191\n",
      "mnap@10      | 0.0845\n",
      "ndcg@1       | 0.1718\n",
      "ndcg@3       | 0.1545\n",
      "ndcg@10      | 0.1496\n",
      "recall@1     | 0.0169\n",
      "recall@3     | 0.0429\n",
      "recall@10    | 0.1050\n",
      "precision@1  | 0.1718\n",
      "precision@3  | 0.1450\n",
      "precision@10 | 0.1157\n"
     ]
    },
    {
     "name": "stderr",
     "output_type": "stream",
     "text": [
      "\n"
     ]
    }
   ],
   "source": [
    "runner = SparseRunner(\n",
    "    model=EASE(),\n",
    "    batch_size=512,\n",
    "    callbacks={\n",
    "        \"precision\": MetricCallback(precision, input_key=\"logits\", topk=(1, 3, 10)),\n",
    "        \"recall\": MetricCallback(recall, input_key=\"logits\", topk=(1, 3, 10)),\n",
    "        \"ndcg\": MetricCallback(ndcg, input_key=\"logits\", topk=(1, 3, 10)),\n",
    "        \"map\": MetricCallback(mnap, input_key=\"logits\", topk=(1, 3, 10)),\n",
    "        \"logger\": LoggerCallback(),\n",
    "    },\n",
    "    device=device,\n",
    ")\n",
    "runner.run(implicit_datasets)"
   ]
  },
  {
   "cell_type": "markdown",
   "id": "86a6c1c2-ea4b-4f75-8ddb-7089fa9a9d11",
   "metadata": {
    "id": "86a6c1c2-ea4b-4f75-8ddb-7089fa9a9d11"
   },
   "source": [
    "#### SVD"
   ]
  },
  {
   "cell_type": "code",
   "execution_count": 60,
   "id": "54f39327-9274-4ff1-a177-8f0fa4507088",
   "metadata": {
    "colab": {
     "base_uri": "https://localhost:8080/"
    },
    "id": "54f39327-9274-4ff1-a177-8f0fa4507088",
    "outputId": "3fe719b4-0265-428b-9693-22daf29dbcfb"
   },
   "outputs": [
    {
     "name": "stderr",
     "output_type": "stream",
     "text": [
      "Iterating train: 100%|██████████| 82/82 [02:54<00:00,  2.13s/it]\n"
     ]
    },
    {
     "name": "stdout",
     "output_type": "stream",
     "text": [
      "Train metrics:\n",
      "mnap@1       | 0.9412\n",
      "mnap@3       | 0.8383\n",
      "mnap@10      | 0.6661\n",
      "ndcg@1       | 0.9412\n",
      "ndcg@3       | 0.8760\n",
      "ndcg@10      | 0.7674\n",
      "recall@1     | 0.0371\n",
      "recall@3     | 0.0901\n",
      "recall@10    | 0.2037\n",
      "precision@1  | 0.9412\n",
      "precision@3  | 0.8568\n",
      "precision@10 | 0.7066\n"
     ]
    },
    {
     "name": "stderr",
     "output_type": "stream",
     "text": [
      "Iterating valid: 100%|██████████| 5/5 [00:10<00:00,  2.01s/it]"
     ]
    },
    {
     "name": "stdout",
     "output_type": "stream",
     "text": [
      "Valid metrics:\n",
      "mnap@1       | 0.2407\n",
      "mnap@3       | 0.1675\n",
      "mnap@10      | 0.1156\n",
      "ndcg@1       | 0.2407\n",
      "ndcg@3       | 0.2108\n",
      "ndcg@10      | 0.1919\n",
      "recall@1     | 0.0199\n",
      "recall@3     | 0.0433\n",
      "recall@10    | 0.1006\n",
      "precision@1  | 0.2407\n",
      "precision@3  | 0.1979\n",
      "precision@10 | 0.1559\n"
     ]
    },
    {
     "name": "stderr",
     "output_type": "stream",
     "text": [
      "\n"
     ]
    }
   ],
   "source": [
    "runner = SparseRunner(\n",
    "    model=SvdModel(factors=32),\n",
    "    batch_size=512,\n",
    "    callbacks={\n",
    "        \"precision\": MetricCallback(precision, input_key=\"logits\", topk=(1, 3, 10)),\n",
    "        \"recall\": MetricCallback(recall, input_key=\"logits\", topk=(1, 3, 10)),\n",
    "        \"ndcg\": MetricCallback(ndcg, input_key=\"logits\", topk=(1, 3, 10)),\n",
    "        \"map\": MetricCallback(mnap, input_key=\"logits\", topk=(1, 3, 10)),\n",
    "        \"logger\": LoggerCallback(),\n",
    "    },\n",
    "    device=device,\n",
    ")\n",
    "runner.run(explicit_datasets)"
   ]
  },
  {
   "cell_type": "code",
   "execution_count": 61,
   "id": "dd4d7596-6e6c-45ef-b995-ee3c5a5196ed",
   "metadata": {
    "colab": {
     "base_uri": "https://localhost:8080/"
    },
    "id": "dd4d7596-6e6c-45ef-b995-ee3c5a5196ed",
    "outputId": "98b1359b-3ce4-4984-c3af-df64bf5b14c1"
   },
   "outputs": [
    {
     "name": "stderr",
     "output_type": "stream",
     "text": [
      "Iterating train: 100%|██████████| 80/80 [02:52<00:00,  2.16s/it]\n"
     ]
    },
    {
     "name": "stdout",
     "output_type": "stream",
     "text": [
      "Train metrics:\n",
      "mnap@1       | 0.9450\n",
      "mnap@3       | 0.8334\n",
      "mnap@10      | 0.6396\n",
      "ndcg@1       | 0.9450\n",
      "ndcg@3       | 0.8716\n",
      "ndcg@10      | 0.7470\n",
      "recall@1     | 0.0573\n",
      "recall@3     | 0.1359\n",
      "recall@10    | 0.2765\n",
      "precision@1  | 0.9450\n",
      "precision@3  | 0.8495\n",
      "precision@10 | 0.6550\n"
     ]
    },
    {
     "name": "stderr",
     "output_type": "stream",
     "text": [
      "Iterating valid: 100%|██████████| 5/5 [00:09<00:00,  1.89s/it]"
     ]
    },
    {
     "name": "stdout",
     "output_type": "stream",
     "text": [
      "Valid metrics:\n",
      "mnap@1       | 0.1417\n",
      "mnap@3       | 0.1003\n",
      "mnap@10      | 0.0706\n",
      "ndcg@1       | 0.1417\n",
      "ndcg@3       | 0.1330\n",
      "ndcg@10      | 0.1300\n",
      "recall@1     | 0.0140\n",
      "recall@3     | 0.0355\n",
      "recall@10    | 0.0912\n",
      "precision@1  | 0.1417\n",
      "precision@3  | 0.1264\n",
      "precision@10 | 0.1012\n"
     ]
    },
    {
     "name": "stderr",
     "output_type": "stream",
     "text": [
      "\n"
     ]
    }
   ],
   "source": [
    "runner = SparseRunner(\n",
    "    model=SvdModel(factors=32),\n",
    "    batch_size=512,\n",
    "    callbacks={\n",
    "        \"precision\": MetricCallback(precision, input_key=\"logits\", topk=(1, 3, 10)),\n",
    "        \"recall\": MetricCallback(recall, input_key=\"logits\", topk=(1, 3, 10)),\n",
    "        \"ndcg\": MetricCallback(ndcg, input_key=\"logits\", topk=(1, 3, 10)),\n",
    "        \"map\": MetricCallback(mnap, input_key=\"logits\", topk=(1, 3, 10)),\n",
    "        \"logger\": LoggerCallback(),\n",
    "    },\n",
    "    device=device,\n",
    ")\n",
    "runner.run(implicit_datasets)"
   ]
  }
 ],
 "metadata": {
  "accelerator": "GPU",
  "colab": {
   "provenance": []
  },
  "gpuClass": "standard",
  "kernelspec": {
   "display_name": "Python 3 (ipykernel)",
   "language": "python",
   "name": "python3"
  },
  "language_info": {
   "codemirror_mode": {
    "name": "ipython",
    "version": 3
   },
   "file_extension": ".py",
   "mimetype": "text/x-python",
   "name": "python",
   "nbconvert_exporter": "python",
   "pygments_lexer": "ipython3",
   "version": "3.9.16"
  },
  "vscode": {
   "interpreter": {
    "hash": "c67d7bf21513af7965fc177235d47b067af53473a91c971089237c6aa21091ef"
   }
  }
 },
 "nbformat": 4,
 "nbformat_minor": 5
}
