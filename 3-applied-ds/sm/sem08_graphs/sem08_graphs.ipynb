{
 "cells": [
  {
   "cell_type": "markdown",
   "id": "horizontal-academy",
   "metadata": {
    "id": "horizontal-academy"
   },
   "source": [
    "# Семинар 8: задачи на графах\n",
    "\n",
    "## Вступление\n",
    "Графы часто возникают в представлении различных данных: социальные сети, интернет страницы, маршруты на картах и так далее. Сегодня мы разберём две задачи: оценка важности веб-страниц при помощи PageRank и построение графовой свёрточной сети (GNN).\n",
    "\n",
    "### План семинара\n",
    "1. PageRank\n",
    "    1. Основные понятия про графы\n",
    "    2. Random surfer\n",
    "    3. Проблемы подхода\n",
    "    4. Реализация\n",
    "2. GraphSAGE\n",
    "\n",
    "## 1. PageRank\n",
    "Вполне естественно рассматривать интернет как ориентированный граф, где узлы — это страницы, а ребра — гиперссылки. Допустим, в Интернете всего 4 страницы, и возьмем, к примеру, следующий веб-граф.\n",
    "\n",
    "### 1.1 Основные понятия про графы"
   ]
  },
  {
   "cell_type": "code",
   "execution_count": 1,
   "id": "78ddcc85",
   "metadata": {
    "ExecuteTime": {
     "end_time": "2023-04-13T07:45:47.147840Z",
     "start_time": "2023-04-13T07:45:46.401861Z"
    }
   },
   "outputs": [],
   "source": [
    "import time\n",
    "\n",
    "import matplotlib.pyplot as plt\n",
    "import networkx as nx\n",
    "import numpy as np"
   ]
  },
  {
   "cell_type": "code",
   "execution_count": 2,
   "id": "acoustic-customer",
   "metadata": {
    "id": "acoustic-customer",
    "outputId": "9eeda07d-4bcd-4f38-db98-9218b2ad3f1f",
    "ExecuteTime": {
     "end_time": "2023-04-13T07:45:47.356012Z",
     "start_time": "2023-04-13T07:45:47.149251Z"
    }
   },
   "outputs": [
    {
     "data": {
      "text/plain": "<Figure size 432x288 with 1 Axes>",
      "image/png": "[encoded data removed]"
     },
     "metadata": {},
     "output_type": "display_data"
    }
   ],
   "source": [
    "G = nx.DiGraph()\n",
    "G.add_nodes_from([0, 1, 2, 3])\n",
    "G.add_edges_from([(1, 3), (3, 2), (2, 1), (1, 0), (0, 1)])\n",
    "nx.draw(G, with_labels=True)"
   ]
  },
  {
   "cell_type": "markdown",
   "id": "external-swiss",
   "metadata": {
    "id": "external-swiss"
   },
   "source": [
    "__Матрица смежности__"
   ]
  },
  {
   "cell_type": "code",
   "execution_count": 3,
   "id": "amber-polls",
   "metadata": {
    "id": "amber-polls",
    "outputId": "63897e04-8a37-45b0-dd03-51f16cbd6f21",
    "ExecuteTime": {
     "end_time": "2023-04-13T07:45:47.479420Z",
     "start_time": "2023-04-13T07:45:47.356466Z"
    }
   },
   "outputs": [
    {
     "data": {
      "text/plain": "array([[0, 1, 0, 0],\n       [1, 0, 1, 0],\n       [0, 0, 0, 1],\n       [0, 1, 0, 0]])"
     },
     "execution_count": 3,
     "metadata": {},
     "output_type": "execute_result"
    }
   ],
   "source": [
    "A = np.array(nx.adjacency_matrix(G).todense()).T\n",
    "A"
   ]
  },
  {
   "cell_type": "markdown",
   "id": "specified-environment",
   "metadata": {
    "ExecuteTime": {
     "end_time": "2022-10-12T09:34:13.336212Z",
     "start_time": "2022-10-12T09:34:13.313201Z"
    },
    "id": "specified-environment"
   },
   "source": [
    "__Матрица степеней__"
   ]
  },
  {
   "cell_type": "code",
   "execution_count": 4,
   "id": "faced-vault",
   "metadata": {
    "id": "faced-vault",
    "outputId": "821aeb0a-7ca7-48fe-b9ca-9da0994ed150",
    "ExecuteTime": {
     "end_time": "2023-04-13T07:45:47.485203Z",
     "start_time": "2023-04-13T07:45:47.480024Z"
    }
   },
   "outputs": [
    {
     "data": {
      "text/plain": "array([[1, 0, 0, 0],\n       [0, 2, 0, 0],\n       [0, 0, 1, 0],\n       [0, 0, 0, 1]])"
     },
     "execution_count": 4,
     "metadata": {},
     "output_type": "execute_result"
    }
   ],
   "source": [
    "degrees = [val // 2 for (node, val) in G.degree()]\n",
    "D = np.diag(degrees)\n",
    "D"
   ]
  },
  {
   "cell_type": "markdown",
   "id": "compliant-curtis",
   "metadata": {
    "id": "compliant-curtis"
   },
   "source": [
    "Эта матрица представляет количество исходящих ребер из каждого узла. Нормируем матрицу смежности А по степени каждого узла, и получим переходную матрицу M, которая представляет вероятность перехода в каждом узле."
   ]
  },
  {
   "cell_type": "markdown",
   "id": "traditional-spirit",
   "metadata": {
    "id": "traditional-spirit"
   },
   "source": [
    "__Матрица перехода__\n",
    "$$M = AD^{-1} $$"
   ]
  },
  {
   "cell_type": "code",
   "execution_count": 5,
   "id": "defined-officer",
   "metadata": {
    "id": "defined-officer",
    "outputId": "9fa38af8-cb6b-48ba-dbcd-f452bb35a6ea",
    "ExecuteTime": {
     "end_time": "2023-04-13T07:45:47.497633Z",
     "start_time": "2023-04-13T07:45:47.489987Z"
    }
   },
   "outputs": [
    {
     "data": {
      "text/plain": "array([[0. , 0.5, 0. , 0. ],\n       [1. , 0. , 1. , 0. ],\n       [0. , 0. , 0. , 1. ],\n       [0. , 0.5, 0. , 0. ]])"
     },
     "execution_count": 5,
     "metadata": {},
     "output_type": "execute_result"
    }
   ],
   "source": [
    "M = A @ np.linalg.inv(D)\n",
    "M"
   ]
  },
  {
   "cell_type": "code",
   "execution_count": 6,
   "id": "objective-madness",
   "metadata": {
    "id": "objective-madness",
    "ExecuteTime": {
     "end_time": "2023-04-13T07:45:47.537064Z",
     "start_time": "2023-04-13T07:45:47.496962Z"
    }
   },
   "outputs": [],
   "source": [
    "def calculate_transition_matrix(G):\n",
    "    A = np.array(nx.adjacency_matrix(G).todense()).T\n",
    "    degrees = [val // 2 for (node, val) in G.degree()]\n",
    "    D = np.diag(degrees)\n",
    "    M = A @ np.linalg.inv(D)\n",
    "    return M"
   ]
  },
  {
   "cell_type": "markdown",
   "id": "dense-palestinian",
   "metadata": {
    "id": "dense-palestinian"
   },
   "source": [
    "Каждый столбец М удовлетворяет аксиомам вероятности: для каждого столбца все элементы неотрицательны, а сумма равна 1."
   ]
  },
  {
   "cell_type": "markdown",
   "id": "wrapped-dryer",
   "metadata": {
    "id": "wrapped-dryer"
   },
   "source": [
    "### 1.2 Random surfer\n",
    "\n",
    "Рассмотрим случайного пользователя, который исследует интернет, просто нажимая на гиперссылки на текущей странице случайным образом. Например, если случайный посетитель просматривает страницу 2, следующей страницей будет страница 0 или 3 с вероятностью 50 на 50. Как часто этот случайный посетитель заходит на каждую страницу? Пусть $v$ — распределение вероятностей по 4 страницам, инициализированное как равномерное распределение. Мы можем получить ответ, умножив матрицу перехода $М$ слева итеративно. Таким образом мы получим цепь Маркова — процесс, характеризующийся состоянием в текущий момент времени.\n",
    "\n",
    "$$v_{k+1} = Mv_k$$"
   ]
  },
  {
   "cell_type": "code",
   "execution_count": 7,
   "id": "golden-relationship",
   "metadata": {
    "id": "golden-relationship",
    "outputId": "cc396238-9f13-4bf9-8014-f4624aa741cc",
    "ExecuteTime": {
     "end_time": "2023-04-13T07:45:47.538839Z",
     "start_time": "2023-04-13T07:45:47.503472Z"
    }
   },
   "outputs": [
    {
     "data": {
      "text/plain": "array([0.25, 0.25, 0.25, 0.25])"
     },
     "execution_count": 7,
     "metadata": {},
     "output_type": "execute_result"
    }
   ],
   "source": [
    "initial = np.ones(len(G.nodes())) / len(G.nodes())\n",
    "\n",
    "initial"
   ]
  },
  {
   "cell_type": "code",
   "execution_count": 8,
   "id": "thrown-gasoline",
   "metadata": {
    "id": "thrown-gasoline",
    "outputId": "eaab0981-998a-4287-86b9-09472ccf962a",
    "scrolled": true,
    "ExecuteTime": {
     "end_time": "2023-04-13T07:45:47.540911Z",
     "start_time": "2023-04-13T07:45:47.514335Z"
    }
   },
   "outputs": [
    {
     "name": "stdout",
     "output_type": "stream",
     "text": [
      "0 [0.25 0.25 0.25 0.25]\n",
      "1 [0.125 0.5   0.25  0.125]\n",
      "2 [0.25  0.375 0.125 0.25 ]\n",
      "3 [0.188 0.375 0.25  0.188]\n",
      "4 [0.188 0.438 0.188 0.188]\n",
      "5 [0.219 0.375 0.188 0.219]\n",
      "6 [0.188 0.406 0.219 0.188]\n",
      "7 [0.203 0.406 0.188 0.203]\n",
      "8 [0.203 0.391 0.203 0.203]\n",
      "9 [0.195 0.406 0.203 0.195]\n",
      "10 [0.203 0.398 0.195 0.203]\n",
      "11 [0.199 0.398 0.203 0.199]\n",
      "12 [0.199 0.402 0.199 0.199]\n",
      "13 [0.201 0.398 0.199 0.201]\n",
      "14 [0.199 0.4   0.201 0.199]\n",
      "15 [0.2   0.4   0.199 0.2  ]\n",
      "16 [0.2   0.399 0.2   0.2  ]\n",
      "17 [0.2 0.4 0.2 0.2]\n",
      "18 [0.2 0.4 0.2 0.2]\n",
      "19 [0.2 0.4 0.2 0.2]\n"
     ]
    }
   ],
   "source": [
    "initial = np.ones(len(G.nodes())) / len(G.nodes())\n",
    "print(0, initial)\n",
    "for i in range(1, 20):\n",
    "    initial = M @ initial\n",
    "    print(i, np.round(initial, 3))"
   ]
  },
  {
   "cell_type": "markdown",
   "id": "bigger-mercury",
   "metadata": {
    "ExecuteTime": {
     "end_time": "2022-10-12T09:49:00.200664Z",
     "start_time": "2022-10-12T09:49:00.193464Z"
    },
    "id": "bigger-mercury"
   },
   "source": [
    "Наконец мы подошли к ответу. Случайный пользователь просматривает страницу 1 в течение 40% времени и страницы 0, 2 и 3 в течение 20% времени. Эта конечная вероятность называется PageRank (некоторые технические детали приведены ниже) и служит мерой важности для веб-страниц. Обратите внимание, что приведенное выше итеративное умножение сходится к постоянному вектору PageRank $v$. Это эквивалентно вычислению собственного вектора, соответствующего собственному значению 1, степенным методом  (a.k.a. **power iteration**). Для понимания, что происходит, также посчитаем pagerank вручную."
   ]
  },
  {
   "cell_type": "code",
   "execution_count": 9,
   "id": "permanent-statement",
   "metadata": {
    "id": "permanent-statement",
    "ExecuteTime": {
     "end_time": "2023-04-13T07:45:47.541280Z",
     "start_time": "2023-04-13T07:45:47.523284Z"
    }
   },
   "outputs": [],
   "source": [
    "iteration_counter = 0\n",
    "\n",
    "\n",
    "def initialize_node_points(G):\n",
    "    initial = [1 / G.number_of_nodes() for _ in range(G.number_of_nodes())]\n",
    "    return G, initial\n",
    "\n",
    "\n",
    "def update_node_points(G, previous_node_points):\n",
    "    global iteration_counter\n",
    "    iteration_counter += 1\n",
    "    updated_node_points = [0 for _ in range(G.number_of_nodes())]\n",
    "    for node in G.nodes():\n",
    "        node_references = G.out_edges(node)\n",
    "        if len(node_references) == 0:\n",
    "            updated_node_points[node] += previous_node_points[node]\n",
    "        else:\n",
    "            share = previous_node_points[node] / len(node_references)\n",
    "            for each_reference in node_references:\n",
    "                updated_node_points[each_reference[1]] += share\n",
    "    return updated_node_points, iteration_counter\n",
    "\n",
    "\n",
    "def keep_updating_until_convergence(G, initial_node_points):\n",
    "    convergence_value = 0.00001\n",
    "    previous_node_points = initial_node_points\n",
    "    while True:\n",
    "        updated_node_points, iteration_counter = update_node_points(\n",
    "            G, previous_node_points\n",
    "        )\n",
    "        for index in range(G.number_of_nodes()):\n",
    "            if (\n",
    "                abs(updated_node_points[index] - previous_node_points[index])\n",
    "                > convergence_value\n",
    "            ):\n",
    "                break\n",
    "        else:\n",
    "            return updated_node_points, iteration_counter\n",
    "        previous_node_points = updated_node_points"
   ]
  },
  {
   "cell_type": "code",
   "execution_count": 10,
   "id": "informal-sphere",
   "metadata": {
    "id": "informal-sphere",
    "outputId": "8f5531cd-dd9c-45b3-ec97-0d6c0bd1b617",
    "ExecuteTime": {
     "end_time": "2023-04-13T07:45:47.723790Z",
     "start_time": "2023-04-13T07:45:47.531455Z"
    }
   },
   "outputs": [
    {
     "data": {
      "text/plain": "<Figure size 432x288 with 1 Axes>",
      "image/png": "[encoded data removed]"
     },
     "metadata": {},
     "output_type": "display_data"
    }
   ],
   "source": [
    "G = nx.DiGraph()\n",
    "nodes = [i for i in range(0, 5)]\n",
    "edges = [(0, 1), (1, 2), (1, 3), (2, 1), (3, 0), (3, 2), (3, 4), (4, 0)]\n",
    "G.add_nodes_from(nodes)\n",
    "G.add_edges_from(edges)\n",
    "nx.draw(G, with_labels=True)"
   ]
  },
  {
   "cell_type": "code",
   "execution_count": 11,
   "id": "facial-stevens",
   "metadata": {
    "id": "facial-stevens",
    "outputId": "8f275718-8ca3-403b-d9b6-d038f2ed7033",
    "ExecuteTime": {
     "end_time": "2023-04-13T07:45:47.728958Z",
     "start_time": "2023-04-13T07:45:47.723061Z"
    }
   },
   "outputs": [
    {
     "name": "stdout",
     "output_type": "stream",
     "text": [
      "Iteration counter: 21\n",
      "Pageranks: [0.1250008  0.3749975  0.25000085 0.1875021  0.06249875]\n"
     ]
    }
   ],
   "source": [
    "G, initial_node_points = initialize_node_points(G)\n",
    "pageranks, iteration_counter = keep_updating_until_convergence(G, initial_node_points)\n",
    "pageranks_array = np.array(pageranks)\n",
    "\n",
    "\n",
    "print(\"Iteration counter:\", iteration_counter)\n",
    "print(\"Pageranks:\", pageranks_array)"
   ]
  },
  {
   "cell_type": "markdown",
   "id": "recovered-parts",
   "metadata": {
    "id": "recovered-parts"
   },
   "source": [
    "### 1.3 Проблемы подхода\n",
    "\n",
    "#### Тупиковые узлы"
   ]
  },
  {
   "cell_type": "code",
   "execution_count": 12,
   "id": "unlimited-account",
   "metadata": {
    "id": "unlimited-account",
    "outputId": "ac4da6b0-ae8f-45b0-c5ab-489755579d9c",
    "ExecuteTime": {
     "end_time": "2023-04-13T07:45:47.888562Z",
     "start_time": "2023-04-13T07:45:47.735094Z"
    }
   },
   "outputs": [
    {
     "data": {
      "text/plain": "<Figure size 432x288 with 1 Axes>",
      "image/png": "[encoded data removed]"
     },
     "metadata": {},
     "output_type": "display_data"
    }
   ],
   "source": [
    "G = nx.DiGraph()\n",
    "G.add_nodes_from([0, 1, 2, 3])\n",
    "G.add_edges_from([(1, 3), (3, 2), (2, 1), (1, 0)])\n",
    "nx.draw(G, with_labels=True)"
   ]
  },
  {
   "cell_type": "markdown",
   "id": "incomplete-harvey",
   "metadata": {
    "ExecuteTime": {
     "end_time": "2022-10-12T09:58:46.767250Z",
     "start_time": "2022-10-12T09:58:46.761084Z"
    },
    "id": "incomplete-harvey"
   },
   "source": [
    "Тупиковые узлы поглощают случайного посетителя и устанавливают PageRank других страниц равным 0. Чтобы избежать этого результата, мы добавляем виртуальные ребра, направленные от этих узлов ко всем остальным узлам. С этой настройкой random surfer, застрявший в узлах приемника, может случайным образом переходить на другие страницы. Матрица перехода для приведенного выше графа:\n",
    "\n",
    "$$M = \\begin{pmatrix}\n",
    "0 & 1/2 & 0 & 0\\\\\n",
    "1/3 & 0 & 1 & 0\\\\\n",
    "1/3 & 0 & 0 & 1\\\\\n",
    "1/3 & 1/2 & 0 & 0\\\\\n",
    "\\end{pmatrix}$$"
   ]
  },
  {
   "cell_type": "markdown",
   "id": "accompanied-cholesterol",
   "metadata": {
    "id": "accompanied-cholesterol"
   },
   "source": [
    "#### Изолированные компоненты графа"
   ]
  },
  {
   "cell_type": "code",
   "execution_count": 13,
   "id": "grateful-botswana",
   "metadata": {
    "id": "grateful-botswana",
    "outputId": "9d81dc61-f365-45a1-bc44-eecf5f2e7b37",
    "ExecuteTime": {
     "end_time": "2023-04-13T07:45:48.068843Z",
     "start_time": "2023-04-13T07:45:47.891088Z"
    }
   },
   "outputs": [
    {
     "data": {
      "text/plain": "<Figure size 432x288 with 1 Axes>",
      "image/png": "[encoded data removed]"
     },
     "metadata": {},
     "output_type": "display_data"
    }
   ],
   "source": [
    "G = nx.DiGraph()\n",
    "G.add_nodes_from([0, 1, 2, 3, 4])\n",
    "G.add_edges_from([(0, 1), (1, 0), (0, 2), (2, 0), (1, 2), (2, 1), (4, 3), (3, 4)])\n",
    "nx.draw(G, with_labels=True)"
   ]
  },
  {
   "cell_type": "markdown",
   "id": "cordless-lighting",
   "metadata": {
    "id": "cordless-lighting"
   },
   "source": [
    "В таких случаях матрица перехода является блочно-диагональной и имеет несколько линейно независимых собственных векторов, соответствующих собственному значению 1."
   ]
  },
  {
   "cell_type": "code",
   "execution_count": 14,
   "id": "crude-edmonton",
   "metadata": {
    "id": "crude-edmonton",
    "outputId": "6afd8c09-b84b-4127-f384-c93205eca994",
    "ExecuteTime": {
     "end_time": "2023-04-13T07:45:48.079512Z",
     "start_time": "2023-04-13T07:45:48.073253Z"
    }
   },
   "outputs": [
    {
     "data": {
      "text/plain": "array([[0. , 0.5, 0.5, 0. , 0. ],\n       [0.5, 0. , 0.5, 0. , 0. ],\n       [0.5, 0.5, 0. , 0. , 0. ],\n       [0. , 0. , 0. , 0. , 1. ],\n       [0. , 0. , 0. , 1. , 0. ]])"
     },
     "execution_count": 14,
     "metadata": {},
     "output_type": "execute_result"
    }
   ],
   "source": [
    "calculate_transition_matrix(G)"
   ]
  },
  {
   "cell_type": "markdown",
   "id": "understanding-workplace",
   "metadata": {
    "id": "understanding-workplace"
   },
   "source": [
    "Чтобы решить эту проблему, создатели PageRank представили damping factor *d*\n",
    "\n",
    "$$M = (1-d)M + \\frac{d}{n}J_n$$\n",
    " \n",
    "где n - количество узлов и $J_n$ - является матрицей единиц. Эта переформулированная матрица перехода также называется Google матрицей. Матрица Google делает все связанные узлы и векторы PageRank уникальными для веб-графов. Это также решает циклический серфинг, который делает нереальным power method. Интуитивно, damping factor позволяет скучающему случайному посетителю перейти на другую случайную страницу с вероятностью d."
   ]
  },
  {
   "cell_type": "markdown",
   "id": "detailed-shopping",
   "metadata": {
    "id": "detailed-shopping"
   },
   "source": [
    "### 1.4 Подсчёт PageRank\n",
    "\n",
    "Выше мы увидели, что итеративный расчет PageRank эквивалентен вычислению собственного вектора, соответствующего собственному значению 1. Но могут возникнуть некоторые вопросы. Всегда ли Google матрица перехода имеет собственное значение 1 кратности один? Всегда ли итеративный расчет сходится к уникальному вектору? Насколько быстро происходит сходимость? Для ответа на эти вопросы воспользуемся теоремой:\n",
    "\n",
    "**Теорема Фробениуса-Перрона** (доказательство [здесь](https://sites.math.northwestern.edu/~clark/354/2002/perron.pdf))\n",
    "\n",
    "Если матрица $M$ положительна и поколоночно стахостична, то:\n",
    "\n",
    "1. $M$ имеет собственное значение 1 единичной кратности\n",
    "2. 1 — наибольшее собственное значение: все остальные собственные значения имеют абсолютные значения меньше 1\n",
    "3. Для собственного значения 1 существует единственный собственный вектор, сумма элементов которого равна 1\n",
    "\n",
    "Говоря проще, нам нужно только вычислить собственный вектор для собственного значения 1, чтобы получить PageRank. Найти такой собственный вектор можно при помощи **power method** или **собственного разложения** матрицы. **Power method** заключается в том, что для фиксированной матрицы $M$ и начального приближения $v_0$ нужно умножать вектор на матрицу, пока значения в векторе не перестанут меняться."
   ]
  },
  {
   "cell_type": "markdown",
   "id": "chronic-clinton",
   "metadata": {
    "id": "chronic-clinton"
   },
   "source": [
    "### 1.5 Реализация"
   ]
  },
  {
   "cell_type": "code",
   "execution_count": 15,
   "id": "greek-fireplace",
   "metadata": {
    "id": "greek-fireplace",
    "ExecuteTime": {
     "end_time": "2023-04-13T07:45:48.125811Z",
     "start_time": "2023-04-13T07:45:48.078130Z"
    }
   },
   "outputs": [],
   "source": [
    "def get_google_matrix(G, d=0.15):\n",
    "    n = G.number_of_nodes()\n",
    "    A = nx.to_numpy_array(G).T\n",
    "    # for sink nodes\n",
    "    is_sink = np.sum(A, axis=0) == 0\n",
    "    B = (np.ones_like(A) - np.identity(n)) / (n - 1)\n",
    "    A[:, is_sink] += B[:, is_sink]\n",
    "\n",
    "    D_inv = np.diag(1 / np.sum(A, axis=0))\n",
    "    M = np.dot(A, D_inv)\n",
    "\n",
    "    # for disconnected components\n",
    "    M = (1 - d) * M + d * np.ones((n, n)) / n\n",
    "    return M\n",
    "\n",
    "\n",
    "def l1(x):\n",
    "    return np.sum(np.abs(x))"
   ]
  },
  {
   "cell_type": "markdown",
   "id": "turkish-hearts",
   "metadata": {
    "id": "turkish-hearts"
   },
   "source": [
    "Первое решение — собственное разложение матрицы Google. L1-нормированный собственный вектор, соответствующий наибольшему собственному значению (=1) — вектор PageRank."
   ]
  },
  {
   "cell_type": "code",
   "execution_count": 16,
   "id": "suspected-offense",
   "metadata": {
    "id": "suspected-offense",
    "ExecuteTime": {
     "end_time": "2023-04-13T07:45:48.126425Z",
     "start_time": "2023-04-13T07:45:48.087172Z"
    }
   },
   "outputs": [],
   "source": [
    "def pagerank_edc(G, d=0.15):\n",
    "    M = get_google_matrix(G, d=d)\n",
    "    eigenvalues, eigenvectors = np.linalg.eig(M)\n",
    "    idx = eigenvalues.argsort()[-1]\n",
    "    largest = np.array(eigenvectors[:, idx]).flatten().real\n",
    "    return largest / l1(largest)"
   ]
  },
  {
   "cell_type": "code",
   "execution_count": 17,
   "id": "supreme-geneva",
   "metadata": {
    "id": "supreme-geneva",
    "outputId": "f0dbc8cf-c95f-4f82-e3df-5dedb997fe54",
    "ExecuteTime": {
     "end_time": "2023-04-13T07:45:48.127577Z",
     "start_time": "2023-04-13T07:45:48.093932Z"
    }
   },
   "outputs": [
    {
     "data": {
      "text/plain": "array([0.20195025, 0.38694178, 0.20915772, 0.20195025])"
     },
     "execution_count": 17,
     "metadata": {},
     "output_type": "execute_result"
    }
   ],
   "source": [
    "G = nx.DiGraph()\n",
    "G.add_nodes_from([0, 1, 2, 3])\n",
    "G.add_edges_from([(1, 3), (3, 2), (2, 1), (1, 0), (0, 1)])\n",
    "pagerank_edc(G)"
   ]
  },
  {
   "cell_type": "markdown",
   "id": "accepted-bulletin",
   "metadata": {
    "id": "accepted-bulletin"
   },
   "source": [
    "Какая сложность у алгоритма? \n",
    "Алгоритмическая сложность $O(n^3)$, поскольку собственное разложение является вычислительно сложной операцией. Такое решение с более чем одним триллионом вершин (веб-страниц) получится слишком дорогим."
   ]
  },
  {
   "cell_type": "markdown",
   "id": "operational-trigger",
   "metadata": {
    "id": "operational-trigger"
   },
   "source": [
    "### Power Method\n",
    "\n",
    "Метод инициализирует вектор $v_0$ из равномерного распределения и итеративно умножает его матрицу Google, пока значения в векторе не сойдутся или алгоритм не достигнет максимального количества итераций."
   ]
  },
  {
   "cell_type": "code",
   "execution_count": 18,
   "id": "flexible-mayor",
   "metadata": {
    "id": "flexible-mayor",
    "ExecuteTime": {
     "end_time": "2023-04-13T07:45:48.127921Z",
     "start_time": "2023-04-13T07:45:48.101100Z"
    }
   },
   "outputs": [],
   "source": [
    "def pagerank_power(G, d=0.15, max_iter=100, eps=1e-9):\n",
    "    M = get_google_matrix(G, d=d)\n",
    "    n = G.number_of_nodes()\n",
    "    V = np.ones(n) / n\n",
    "    for _ in range(max_iter):\n",
    "        V_last = V\n",
    "        V = np.dot(M, V)\n",
    "        if l1(V - V_last) / n < eps:\n",
    "            return V\n",
    "    return V"
   ]
  },
  {
   "cell_type": "code",
   "execution_count": 19,
   "id": "shared-league",
   "metadata": {
    "id": "shared-league",
    "outputId": "4bd4ba55-776a-4143-b113-ead679685313",
    "ExecuteTime": {
     "end_time": "2023-04-13T07:45:48.290739Z",
     "start_time": "2023-04-13T07:45:48.109403Z"
    }
   },
   "outputs": [
    {
     "data": {
      "text/plain": "<Figure size 432x288 with 1 Axes>",
      "image/png": "[encoded data removed]"
     },
     "metadata": {},
     "output_type": "display_data"
    }
   ],
   "source": [
    "G = nx.DiGraph()\n",
    "G.add_nodes_from([0, 1, 2, 3, 4])\n",
    "G.add_edges_from([(0, 1), (1, 0), (0, 2), (2, 0), (1, 2), (2, 1), (3, 4)])\n",
    "nx.draw(G, with_labels=True)"
   ]
  },
  {
   "cell_type": "code",
   "execution_count": 20,
   "id": "random-danish",
   "metadata": {
    "id": "random-danish",
    "outputId": "d311bbb0-6311-4a5c-c4d0-50d2270e6233",
    "ExecuteTime": {
     "end_time": "2023-04-13T07:45:48.295638Z",
     "start_time": "2023-04-13T07:45:48.289561Z"
    }
   },
   "outputs": [
    {
     "data": {
      "text/plain": "array([0.29595728, 0.29595728, 0.29595728, 0.04439359, 0.06773455])"
     },
     "execution_count": 20,
     "metadata": {},
     "output_type": "execute_result"
    }
   ],
   "source": [
    "pagerank_power(G)"
   ]
  },
  {
   "cell_type": "markdown",
   "id": "whole-tumor",
   "metadata": {
    "id": "whole-tumor"
   },
   "source": [
    "Что касается сложности, в этом алгоритме самым сложным является умножение матрицы на вектор, поскольку количество итераций ограничено max_iter. Следовательно, временная сложность $O(n^2)$. Сложность можно свести к $O(n)$, если использовать разреженное матричного умножения. Напоминаем, что матрица Google — это взвешенная сумма матрицы перехода (разреженной!) и матрицы единиц (просто оператора суммы)."
   ]
  },
  {
   "cell_type": "code",
   "execution_count": 21,
   "id": "close-drain",
   "metadata": {
    "id": "close-drain",
    "ExecuteTime": {
     "end_time": "2023-04-13T07:45:48.299944Z",
     "start_time": "2023-04-13T07:45:48.295118Z"
    }
   },
   "outputs": [],
   "source": [
    "def gen_webgraph(n, m):\n",
    "    G = nx.DiGraph(nx.barabasi_albert_graph(n, m))\n",
    "    rands = np.random.choice(n, n // 2, replace=False)\n",
    "    G.remove_edges_from(np.array(G.edges)[rands])\n",
    "    return G"
   ]
  },
  {
   "cell_type": "code",
   "execution_count": 22,
   "id": "conscious-hours",
   "metadata": {
    "id": "conscious-hours",
    "ExecuteTime": {
     "end_time": "2023-04-13T07:45:57.990491Z",
     "start_time": "2023-04-13T07:45:48.310653Z"
    }
   },
   "outputs": [],
   "source": [
    "number_of_nodes = range(100, 1600, 200)\n",
    "times_edc = []\n",
    "times_power = []\n",
    "for n in number_of_nodes:\n",
    "    G = gen_webgraph(n, 50)\n",
    "\n",
    "    st = time.time()\n",
    "    pagerank_edc(G)\n",
    "    times_edc.append(time.time() - st)\n",
    "\n",
    "    st = time.time()\n",
    "    pagerank_power(G)\n",
    "    times_power.append(time.time() - st)"
   ]
  },
  {
   "cell_type": "code",
   "execution_count": 23,
   "id": "absolute-philip",
   "metadata": {
    "id": "absolute-philip",
    "outputId": "4571209a-2551-4430-ab35-8c525e752f2e",
    "ExecuteTime": {
     "end_time": "2023-04-13T07:45:58.191352Z",
     "start_time": "2023-04-13T07:45:57.994474Z"
    }
   },
   "outputs": [
    {
     "data": {
      "text/plain": "<Figure size 432x288 with 1 Axes>",
      "image/png": "[encoded data removed]"
     },
     "metadata": {
      "needs_background": "light"
     },
     "output_type": "display_data"
    }
   ],
   "source": [
    "plt.grid()\n",
    "plt.plot(list(number_of_nodes), times_edc, label=\"edc\")\n",
    "plt.plot(list(number_of_nodes), times_power, label=\"power\")\n",
    "plt.xlabel(\"number of nodes\")\n",
    "plt.ylabel(\"time [s]\")\n",
    "plt.legend()\n",
    "plt.show()"
   ]
  },
  {
   "cell_type": "markdown",
   "id": "acquired-sustainability",
   "metadata": {
    "id": "acquired-sustainability"
   },
   "source": [
    "Как можем видеть, power method быстрее, чем собственное разложение, особенно когда у нас много узлов."
   ]
  },
  {
   "cell_type": "markdown",
   "id": "balanced-championship",
   "metadata": {
    "id": "balanced-championship"
   },
   "source": [
    "Есть некоторые расширения, такие как Personalized PageRank, который использует распределения, предвзятые для каждого пользователя, вместо равномерного распределения $J_n$ для расчета Google матрицы."
   ]
  },
  {
   "cell_type": "code",
   "execution_count": 24,
   "id": "individual-parker",
   "metadata": {
    "id": "individual-parker",
    "ExecuteTime": {
     "end_time": "2023-04-13T07:45:58.200256Z",
     "start_time": "2023-04-13T07:45:58.197227Z"
    }
   },
   "outputs": [],
   "source": [
    "def pagerank_with_personalization(\n",
    "    G,\n",
    "    alpha=0.85,\n",
    "    personalization=None,\n",
    "    max_iter=100,\n",
    "    tol=1.0e-6,\n",
    "    nstart=None,\n",
    "    weight=\"weight\",\n",
    "    dangling=None,\n",
    "):\n",
    "    if len(G) == 0:\n",
    "        return {}\n",
    "\n",
    "    D = G.to_directed()\n",
    "\n",
    "    # Create a copy in (right) stochastic form\n",
    "    W = nx.stochastic_graph(D, weight=weight)\n",
    "    N = W.number_of_nodes()\n",
    "\n",
    "    # Choose fixed starting vector if not given\n",
    "    if nstart is None:\n",
    "        x = dict.fromkeys(W, 1.0 / N)\n",
    "    else:\n",
    "        # Normalized nstart vector\n",
    "        s = sum(nstart.values())\n",
    "        x = {k: v / s for k, v in nstart.items()}\n",
    "\n",
    "    if personalization is None:\n",
    "        # Assign uniform personalization vector if not given\n",
    "        p = dict.fromkeys(W, 1.0 / N)\n",
    "    else:\n",
    "        s = sum(personalization.values())\n",
    "        p = {k: v / s for k, v in personalization.items()}\n",
    "\n",
    "    if dangling is None:\n",
    "        # Use personalization vector if dangling vector not specified\n",
    "        dangling_weights = p\n",
    "    else:\n",
    "        s = sum(dangling.values())\n",
    "        dangling_weights = {k: v / s for k, v in dangling.items()}\n",
    "    dangling_nodes = [n for n in W if W.out_degree(n, weight=weight) == 0.0]\n",
    "\n",
    "    # power iteration: make up to max_iter iterations\n",
    "    for _ in range(max_iter):\n",
    "        xlast = x\n",
    "        x = dict.fromkeys(xlast.keys(), 0)\n",
    "        danglesum = alpha * sum(xlast[n] for n in dangling_nodes)\n",
    "        for n in x:\n",
    "            # this matrix multiply looks odd because it is\n",
    "            # doing a left multiply x^T=xlast^T*W\n",
    "            for _, nbr, wt in W.edges(n, data=weight):\n",
    "                x[nbr] += alpha * xlast[n] * wt\n",
    "            x[n] += danglesum * dangling_weights.get(n, 0) + (1.0 - alpha) * p.get(n, 0)\n",
    "        # check convergence, l1 norm\n",
    "        err = sum(abs(x[n] - xlast[n]) for n in x)\n",
    "        if err < N * tol:\n",
    "            return x"
   ]
  },
  {
   "cell_type": "code",
   "execution_count": 25,
   "id": "explicit-bidding",
   "metadata": {
    "id": "explicit-bidding",
    "outputId": "ba7efe6a-5888-4fc5-fd16-9560394b8ed9",
    "ExecuteTime": {
     "end_time": "2023-04-13T07:45:58.387325Z",
     "start_time": "2023-04-13T07:45:58.205053Z"
    }
   },
   "outputs": [
    {
     "data": {
      "text/plain": "{0: 0.1724140124772394,\n 1: 0.3275859875227606,\n 2: 0.3275859875227606,\n 3: 0.1724140124772394}"
     },
     "execution_count": 25,
     "metadata": {},
     "output_type": "execute_result"
    },
    {
     "data": {
      "text/plain": "<Figure size 432x288 with 1 Axes>",
      "image/png": "[encoded data removed]"
     },
     "metadata": {},
     "output_type": "display_data"
    }
   ],
   "source": [
    "G = nx.DiGraph(nx.path_graph(4))\n",
    "\n",
    "nx.draw(G, with_labels=True)\n",
    "nx.pagerank(G, alpha=0.9)"
   ]
  },
  {
   "cell_type": "markdown",
   "id": "vanilla-worry",
   "metadata": {
    "id": "vanilla-worry"
   },
   "source": [
    "## 2. GraphSAGE\n",
    "\n",
    "В этой секции поговорим о графовых свёрточных сетях для классификации вершин.\n",
    "\n",
    "В GCN (Graph Convolution Network) \"свертка\" — это почти та же операция: умножение входных нейронов на набор весов, которые обычно известны как фильтры или ядра. Фильтры действуют как скользящие окна по всему изображению и позволяют CNN изучать эмбеддинги из соседних клеток. В том же слое один и тот же фильтр будет использоваться по всему изображению. Например, используя CNN для классификации изображений кошек и не кошек, один и тот же фильтр слоя будет использоваться для обнаружения носа и ушей кошки. GCN выполняют аналогичные операции, когда модель изучает особенности, проверя соседние узлы. Основное различие между CNN и GNN заключается в том, что CNN специально построены для работы с обычными структурированными данными, в то время как GNN являются их обобщенной версией, где количество рёбер варьируется, а вершины не упорядочены.\n",
    "\n",
    "[![1.jpg](https://i.postimg.cc/mkxWbctf/1.jpg)](https://postimg.cc/G8j5KmFq)\n",
    "Иллюстрация 2D сверточных нейронных сетей и графических сверточных сетей.\n",
    "\n",
    "[источник](https://arxiv.org/pdf/1901.00596.pdf)\n",
    "\n",
    "В ячейках ниже реализуем слой **GraphSAGE** ([Hamilton et al. (2017)](https://arxiv.org/abs/1706.02216)) напрямую. Затем мы запустим наши модели в наборе данных CORA, который является стандартным набором данных для анализа графов. В этом датасете примерно 2700 статей и около 5500 ссылок между ними. Все статьи разбиты на 7 классов."
   ]
  },
  {
   "cell_type": "code",
   "execution_count": 26,
   "id": "freelance-description",
   "metadata": {
    "id": "freelance-description",
    "ExecuteTime": {
     "end_time": "2023-04-13T07:45:58.392219Z",
     "start_time": "2023-04-13T07:45:58.385400Z"
    }
   },
   "outputs": [],
   "source": [
    "# !pip install torch-scatter -f https://pytorch-geometric.com/whl/torch-1.12.0+cu111.html\n",
    "# !pip install torch-geometric\n",
    "# !pip install git+ssh://git@github.com/snap-stanford/deepsnap.git"
   ]
  },
  {
   "cell_type": "code",
   "execution_count": 27,
   "id": "72f37486",
   "metadata": {
    "ExecuteTime": {
     "end_time": "2023-04-13T07:46:02.672789Z",
     "start_time": "2023-04-13T07:45:58.391274Z"
    }
   },
   "outputs": [],
   "source": [
    "import copy\n",
    "\n",
    "import pandas as pd\n",
    "import torch\n",
    "import torch.nn as nn\n",
    "import torch.nn.functional as F\n",
    "import torch.optim as optim\n",
    "import torch_geometric\n",
    "import torch_scatter\n",
    "from torch_geometric.data import DataLoader\n",
    "from torch_geometric.datasets import Planetoid\n",
    "from torch_geometric.nn.conv import MessagePassing\n",
    "from tqdm import trange"
   ]
  },
  {
   "cell_type": "markdown",
   "id": "92378723",
   "metadata": {},
   "source": [
    "Ниже приведена реализация общего модуля GNN, куда мы можем подключить любой слой GNN."
   ]
  },
  {
   "cell_type": "code",
   "execution_count": 28,
   "id": "opening-vessel",
   "metadata": {
    "id": "opening-vessel",
    "ExecuteTime": {
     "end_time": "2023-04-13T07:46:02.681333Z",
     "start_time": "2023-04-13T07:46:02.678802Z"
    }
   },
   "outputs": [],
   "source": [
    "class GNNStack(torch.nn.Module):\n",
    "    def __init__(self, input_dim, hidden_dim, output_dim, args, emb=False):\n",
    "        super().__init__()\n",
    "        conv_model = self.build_conv_model(args.model_type)\n",
    "        self.convs = nn.ModuleList()\n",
    "        self.convs.append(conv_model(input_dim, hidden_dim))\n",
    "        assert args.num_layers >= 1, \"Number of layers is not >=1\"\n",
    "        for l in range(args.num_layers - 1):\n",
    "            self.convs.append(conv_model(args.heads * hidden_dim, hidden_dim))\n",
    "\n",
    "        # post-message-passing\n",
    "        self.post_mp = nn.Sequential(\n",
    "            nn.Linear(args.heads * hidden_dim, hidden_dim),\n",
    "            nn.Dropout(args.dropout),\n",
    "            nn.Linear(hidden_dim, output_dim),\n",
    "        )\n",
    "\n",
    "        self.dropout = args.dropout\n",
    "        self.num_layers = args.num_layers\n",
    "\n",
    "        self.emb = emb\n",
    "\n",
    "    def build_conv_model(self, model_type):\n",
    "        if model_type == \"GraphSage\":\n",
    "            return GraphSage\n",
    "        elif model_type == \"Conv\":\n",
    "            return torch_geometric.nn.GCNConv\n",
    "        else:\n",
    "            raise Exception(\"Not implemented!\")\n",
    "\n",
    "    def forward(self, data):\n",
    "        x, edge_index, batch = data.x, data.edge_index, data.batch\n",
    "\n",
    "        for i in range(self.num_layers):\n",
    "            x = self.convs[i](x, edge_index)\n",
    "            x = F.relu(x)\n",
    "            x = F.dropout(x, p=self.dropout, training=self.training)\n",
    "\n",
    "        x = self.post_mp(x)\n",
    "\n",
    "        if self.emb == True:\n",
    "            return x\n",
    "\n",
    "        return F.log_softmax(x, dim=1)\n",
    "\n",
    "    def loss(self, pred, label):\n",
    "        return F.nll_loss(pred, label)"
   ]
  },
  {
   "cell_type": "markdown",
   "id": "located-lesson",
   "metadata": {
    "id": "located-lesson"
   },
   "source": [
    "Теперь приступим к реализации наших собственных Message Passing слоев. Для этого мы будем работать и реализовывать 3 функции, необходимые для передачи и обработки сообщений: `forward`, `message`, и `aggregate`.\n",
    "\n",
    "Пройдемся по ключевым компонентам процесса передачи сообщений. Для этого мы сосредоточимся на передаче сообщений относительно одной центральной вершины $x$. Перед передачей сообщения $x$ связывается с вектором признаков $x^{l-1}$, и целью передачи сообщения является обновление этого вектора признаков как $x^l$. Для этого реализуем следующие шаги:\n",
    "1. Каждый соседний узел $v$ передает свое текущее сообщение $v^{l-1}$ через ребро $(x, v)$.\n",
    "2. Для узла $x$ мы объединяем все сообщения соседних узлов (например, через сумму или среднее значение).\n",
    "3. Преобразуем агрегированную информацию, например, применяя линейные и нелинейные преобразования. В целом процесс передачи сообщений применяется таким образом, что каждый узел $u$ в нашем графе обновляет свое вложение, действуя как центральный узел $x$ на шагах 1-3, описанных выше.\n",
    "\n",
    "Теперь, расширив этот процесс до одного уровня передачи сообщений, задача уровня передачи сообщений заключается в обновлении текущего представления функций или внедрении каждой вершины в граф путем распространения и преобразования информации в графе. В целом, общая парадигма уровней передачи сообщений: 1) предварительная обработка -> 2) **передача сообщения**/распространение -> 3) постобработка.\n",
    "\n",
    "Функция `propagate` инкапсулирует процесс передачи сообщения. Она делает это, вызывая три функции: 1) `message`, 2)  `aggregate`, и 3) `update`. Наша реализация будет немного отличаться от этой, так как мы не будем явно реализовывать `update`, а вместо этого поместим логику для обновления эмбеддингов узлов после передачи сообщения и внутри функции `forward`. После передачи сообщения мы можем дополнительно преобразовать вложения узлов, полученные с помощью `propagate`. И так, выходы из `forward` — это эмбеддинги вершин после одного слоя GNN.\n"
   ]
  },
  {
   "cell_type": "markdown",
   "id": "governmental-guidance",
   "metadata": {
    "id": "governmental-guidance"
   },
   "source": [
    "Обсудим подробнее:\n",
    "\n",
    "1. \n",
    "\n",
    "```\n",
    "def propagate(edge_index, x=(x_i, x_j), extra=(extra_i, extra_j), size=size):\n",
    "```\n",
    "Вызов `propagate` инициирует процесс передачи сообщения. Глядя на параметры функции, мы выделим пару ключевых параметров.\n",
    "\n",
    "   - `edge_index` передается forward функции и получает структуру ребер графа.\n",
    "   - `x=(x_i, x_j)` представляет эмбеддинги вершин, которые будут использоваться при передаче сообщений. Чтобы объяснить, почему мы передаем `(x_i, x_j)`, мы сначала посмотрим, как представлены наши ребра. Для каждого ребра $(i, j) \\in \\mathcal{E}$ мы можем дифференцировать $i$ как исходный или центральный узел ($x_{central}$) и j как соседний узел ($x_{neighbor}$).\n",
    "   \n",
    "Взяв пример передачи сообщений выше, для центрального узла $u$ мы будем агрегировать и преобразовывать все сообщения, связанные с узлами $v$ и т.д.  $(u, v) \\in \\mathcal{E}$ (т. е. $v \\in \\mathcal{N}_{u}$). Таким образом, мы видим, что индексы `_i` и `_j` позволяют нам конкретно различать эмбеддинги, связанные с центральными узлами (т. е. узлами, получающими информацию о сообщениях) и соседними узлами (т. е. узлами, передающими сообщения).\n",
    "\n",
    "Одна ключевая вещь, которую следует понимать, заключается в том, что в зависимости от точки зрения узел $x$ действует как центральный узел или соседний узел. Фактически, в неориентированных графах мы храним оба направления ребер (т. е. $(i, j)$ и $(j, i)$). С точки зрения центрального узла, `x_i`, x собирает соседнюю информацию для обновления своего внедрения. С точки зрения соседнего узла, `x_j`, x передает информацию о своем сообщении вдоль ребра, соединяющего его с другим центральным узлом.\n",
    "\n",
    "  - `extra=(extra_i, extra_j)` представляет дополнительную информацию, которую мы можем связать с каждым узлом помимо его текущего внедрения функций. На самом деле, мы можем включить столько дополнительных параметров вида `param=(param_i, param_j)`, сколько захотим. Опять же, мы подчеркиваем, что индексирование с помощью `_i` и `_j` позволяет нам различать центральные и соседние узлы.\n",
    "\n",
    "  Выход функции `propagate` представляет собой матрицу эмбеддингов вершин после процесса передачи сообщения и имеет форму $[N, d]$.\n",
    "\n",
    "2. \n",
    "```\n",
    "def message(x_j, ...):\n",
    "```\n",
    "Функция `message` вызывается функцией propagate и создает сообщения из соседних вершин $j$ с центральными узлами $i$ для каждого ребра $(i, j)$ в *edge_index*. Эта функция может принимать любой аргумент, который изначально был передан в функцию `propagate`. Кроме того, мы снова можем различать центральные узлы и соседние узлы, добавляя `_i` или `_j` к имени переменной, т.е. `x_i` и `x_j`. Глядя более конкретно на переменные, мы имеем:\n",
    "\n",
    "   - `x_j` представляет собой матрицу эмбеддингов признаков для всех соседних узлов, передающих свои сообщения по соответствующему ребру (т. е. все узлы $j$ для рёбер $(i, j) \\in \\mathcal{E}$). Таким образом, его форма равна $[|\\mathcal{E}|, d]$!\n",
    "\n",
    "  Важно, что выход `message` функции представляет собой матрицу эмбеддингов соседних узлов, готовую к агрегированию, имеющую форму $[|\\mathcal{E}|, d]$.\n",
    "\n",
    "3. \n",
    "```\n",
    "def aggregate(self, inputs, index, dim_size = None):\n",
    "```\n",
    "Наконец, функция `aggregate` используется для агрегирования сообщений от соседних вершин:\n",
    "\n",
    "   - `inputs` представляют собой матрицу сообщений, переданных от соседних узлов (т.е. вывод функции `message`).\n",
    "   - `index` имеет ту же форму, что и `inputs`, и сообщает нам центральный узел, соответствующий каждой из строк/сообщений $j$ в матрице `inputs`. Таким образом, `index` говорит нам, какие строки/сообщения агрегировать для каждого центрального узла.\n",
    "\n",
    "   Выход `aggregate` имеет форму $[N, d]$.\n",
    "   \n",
    "Дополнительные ресурсы см. в документации PyG для реализации своих Message Passing слоев: https://pytorch-geometric.readthedocs.io/en/latest/notes/create_gnn.html."
   ]
  },
  {
   "cell_type": "markdown",
   "id": "verbal-mentor",
   "metadata": {
    "id": "verbal-mentor"
   },
   "source": [
    "Теперь реализуем свой слой GraphSage.\n",
    "\n",
    "Для данного *центрального* узла $v$ с текущим эмбеддингом $h_v^{l-1}$ правило обновления передачи сообщений для преобразования $h_v^{l-1} \\rightarrow h_v^l$ выглядит следующим образом:\n",
    "\n",
    "\\begin{equation}\n",
    "h_v^{(l)} = W_1\\cdot h_v^{(l-1)} + W_2 \\cdot AGG(\\{h_u^{(l-1)}, \\forall u \\in N(v) \\})\n",
    "\\end{equation}\n",
    "\n",
    "где $W_1$ и $W_2$ — обучаемые матрицы весов, а узлы $u$ — *соседние* узлы. Кроме того, для простоты мы используем среднее агрегирование:\n",
    "\n",
    "\\begin{equation}\n",
    "AGG(\\{h_u^{(l-1)}, \\forall u \\in N(v) \\}) = \\frac{1}{|N(v)|} \\sum_{u\\in N(v)} h_u^{(l-1)}\n",
    "\\end{equation}\n",
    "\n",
    "Следует отметить, что мы добавляем **skip connections** в нашу реализацию GraphSage через $W_1\\cdot h_v^{(l-1)}$.\n",
    "\n",
    "Наконец, после каждой итерации применяется $L_2$ нормализация эмбеддингов вершин."
   ]
  },
  {
   "cell_type": "code",
   "execution_count": 29,
   "id": "endangered-sudan",
   "metadata": {
    "id": "endangered-sudan",
    "ExecuteTime": {
     "end_time": "2023-04-13T07:46:02.689455Z",
     "start_time": "2023-04-13T07:46:02.686895Z"
    }
   },
   "outputs": [],
   "source": [
    "class GraphSage(MessagePassing):\n",
    "    def __init__(self, in_channels, out_channels, normalize=True, bias=False, **kwargs):\n",
    "        super().__init__(**kwargs)\n",
    "\n",
    "        self.in_channels = in_channels\n",
    "        self.out_channels = out_channels\n",
    "        self.normalize = normalize\n",
    "\n",
    "        self.lin_l = torch.nn.Linear(in_channels, out_channels, bias=bias)\n",
    "        self.lin_r = torch.nn.Linear(in_channels, out_channels, bias=bias)\n",
    "\n",
    "        self.reset_parameters()\n",
    "\n",
    "    def reset_parameters(self):\n",
    "        self.lin_l.reset_parameters()\n",
    "        self.lin_r.reset_parameters()\n",
    "\n",
    "    def forward(self, x, edge_index, size=None):\n",
    "        # x is shape (N, in_c)\n",
    "        neighbor_out = self.propagate(edge_index, x=(x, x), size=size)\n",
    "        out = self.lin_l(x) + self.lin_r(neighbor_out)\n",
    "        if self.normalize:\n",
    "            out = torch.nn.functional.normalize(out, p=2)\n",
    "\n",
    "        return out\n",
    "\n",
    "    def message(self, x_j):\n",
    "        # x_j has shape (E, d)\n",
    "        out = x_j\n",
    "        return out\n",
    "\n",
    "    def aggregate(self, inputs, index):\n",
    "        node_dim = self.node_dim\n",
    "\n",
    "        out = torch_scatter.scatter(inputs, index, dim=node_dim, reduce=\"mean\")\n",
    "\n",
    "        return out"
   ]
  },
  {
   "cell_type": "code",
   "execution_count": 30,
   "id": "considered-letter",
   "metadata": {
    "id": "considered-letter",
    "ExecuteTime": {
     "end_time": "2023-04-13T07:46:02.715699Z",
     "start_time": "2023-04-13T07:46:02.693441Z"
    }
   },
   "outputs": [],
   "source": [
    "def build_optimizer(args, params):\n",
    "    weight_decay = args.weight_decay\n",
    "    filter_fn = filter(lambda p: p.requires_grad, params)\n",
    "    if args.opt == \"adam\":\n",
    "        optimizer = optim.Adam(filter_fn, lr=args.lr, weight_decay=weight_decay)\n",
    "    elif args.opt == \"sgd\":\n",
    "        optimizer = optim.SGD(\n",
    "            filter_fn, lr=args.lr, momentum=0.95, weight_decay=weight_decay\n",
    "        )\n",
    "    elif args.opt == \"rmsprop\":\n",
    "        optimizer = optim.RMSprop(filter_fn, lr=args.lr, weight_decay=weight_decay)\n",
    "    elif args.opt == \"adagrad\":\n",
    "        optimizer = optim.Adagrad(filter_fn, lr=args.lr, weight_decay=weight_decay)\n",
    "    if args.opt_scheduler is None:\n",
    "        return None, optimizer\n",
    "    elif args.opt_scheduler == \"step\":\n",
    "        scheduler = optim.lr_scheduler.StepLR(\n",
    "            optimizer, step_size=args.opt_decay_step, gamma=args.opt_decay_rate\n",
    "        )\n",
    "    elif args.opt_scheduler == \"cos\":\n",
    "        scheduler = optim.lr_scheduler.CosineAnnealingLR(\n",
    "            optimizer, T_max=args.opt_restart\n",
    "        )\n",
    "    return scheduler, optimizer"
   ]
  },
  {
   "cell_type": "markdown",
   "id": "southern-lottery",
   "metadata": {
    "id": "southern-lottery"
   },
   "source": [
    "### Обучение GNN"
   ]
  },
  {
   "cell_type": "code",
   "execution_count": 31,
   "id": "raised-elements",
   "metadata": {
    "id": "raised-elements",
    "ExecuteTime": {
     "end_time": "2023-04-13T07:46:02.716726Z",
     "start_time": "2023-04-13T07:46:02.696498Z"
    }
   },
   "outputs": [],
   "source": [
    "def train(dataset, args):\n",
    "\n",
    "    print(\"Node task. test set size:\", np.sum(dataset[0][\"test_mask\"].numpy()))\n",
    "    print()\n",
    "    test_loader = loader = DataLoader(\n",
    "        dataset, batch_size=args.batch_size, shuffle=False\n",
    "    )\n",
    "\n",
    "    # build model\n",
    "    model = GNNStack(\n",
    "        dataset.num_node_features, args.hidden_dim, dataset.num_classes, args\n",
    "    )\n",
    "    scheduler, opt = build_optimizer(args, model.parameters())\n",
    "\n",
    "    # train\n",
    "    losses = []\n",
    "    test_accs = []\n",
    "    best_acc = 0\n",
    "    best_model = None\n",
    "    for epoch in trange(args.epochs, desc=\"Training\", unit=\"Epochs\"):\n",
    "        total_loss = 0\n",
    "        model.train()\n",
    "        for batch in loader:\n",
    "            opt.zero_grad()\n",
    "            pred = model(batch)\n",
    "            label = batch.y\n",
    "            pred = pred[batch.train_mask]\n",
    "            label = label[batch.train_mask]\n",
    "            loss = model.loss(pred, label)\n",
    "            loss.backward()\n",
    "            opt.step()\n",
    "            total_loss += loss.item() * batch.num_graphs\n",
    "        total_loss /= len(loader.dataset)\n",
    "        losses.append(total_loss)\n",
    "\n",
    "        if epoch % 10 == 0:\n",
    "            test_acc = test(test_loader, model)\n",
    "            test_accs.append(test_acc)\n",
    "            if test_acc > best_acc:\n",
    "                best_acc = test_acc\n",
    "                best_model = copy.deepcopy(model)\n",
    "        else:\n",
    "            test_accs.append(test_accs[-1])\n",
    "\n",
    "    return test_accs, losses, best_model, best_acc, test_loader\n",
    "\n",
    "\n",
    "def test(\n",
    "    loader, test_model, is_validation=False, save_model_preds=False, model_type=None\n",
    "):\n",
    "    test_model.eval()\n",
    "\n",
    "    correct = 0\n",
    "    # Note that Cora is only one graph!\n",
    "    for data in loader:\n",
    "        with torch.no_grad():\n",
    "            # max(dim=1) returns values, indices tuple; only need indices\n",
    "            pred = test_model(data).max(dim=1)[1]\n",
    "            label = data.y\n",
    "\n",
    "        mask = data.val_mask if is_validation else data.test_mask\n",
    "        # node classification: only evaluate on nodes in test set\n",
    "        pred = pred[mask]\n",
    "        label = label[mask]\n",
    "\n",
    "        if save_model_preds:\n",
    "            print(\"Saving Model Predictions for Model Type\", model_type)\n",
    "\n",
    "            data = {}\n",
    "            data[\"pred\"] = pred.view(-1).cpu().detach().numpy()\n",
    "            data[\"label\"] = label.view(-1).cpu().detach().numpy()\n",
    "\n",
    "            df = pd.DataFrame(data=data)\n",
    "            # Save locally as csv\n",
    "            df.to_csv(\"CORA-Node-\" + model_type + \".csv\", sep=\",\", index=False)\n",
    "\n",
    "        correct += pred.eq(label).sum().item()\n",
    "\n",
    "    total = 0\n",
    "    for data in loader.dataset:\n",
    "        total += torch.sum(data.val_mask if is_validation else data.test_mask).item()\n",
    "\n",
    "    return correct / total\n",
    "\n",
    "\n",
    "class ObjectView(object):\n",
    "    def __init__(self, d):\n",
    "        self.__dict__ = d"
   ]
  },
  {
   "cell_type": "code",
   "execution_count": 32,
   "id": "fuzzy-worthy",
   "metadata": {
    "id": "fuzzy-worthy",
    "ExecuteTime": {
     "end_time": "2023-04-13T07:46:02.717014Z",
     "start_time": "2023-04-13T07:46:02.710326Z"
    }
   },
   "outputs": [],
   "source": [
    "args = {\n",
    "    \"model_type\": \"GraphSage\",\n",
    "    \"dataset\": \"cora\",\n",
    "    \"num_layers\": 2,\n",
    "    \"heads\": 1,\n",
    "    \"batch_size\": 32,\n",
    "    \"hidden_dim\": 32,\n",
    "    \"dropout\": 0.5,\n",
    "    \"epochs\": 500,\n",
    "    \"opt\": \"adam\",\n",
    "    \"opt_scheduler\": None,\n",
    "    \"opt_restart\": 0,\n",
    "    \"weight_decay\": 5e-3,\n",
    "    \"lr\": 0.01,\n",
    "}"
   ]
  },
  {
   "cell_type": "code",
   "execution_count": 33,
   "id": "compliant-leather",
   "metadata": {
    "id": "compliant-leather",
    "ExecuteTime": {
     "end_time": "2023-04-13T07:46:02.717223Z",
     "start_time": "2023-04-13T07:46:02.713934Z"
    }
   },
   "outputs": [],
   "source": [
    "args = ObjectView(args)"
   ]
  },
  {
   "cell_type": "code",
   "execution_count": 34,
   "id": "rapid-neighbor",
   "metadata": {
    "id": "rapid-neighbor",
    "outputId": "5b8e9975-19cd-40b4-f519-f9951117087b",
    "scrolled": true,
    "ExecuteTime": {
     "end_time": "2023-04-13T07:46:58.956417Z",
     "start_time": "2023-04-13T07:46:02.720216Z"
    }
   },
   "outputs": [
    {
     "name": "stderr",
     "output_type": "stream",
     "text": [
      "/usr/local/anaconda3/envs/ml/lib/python3.9/site-packages/torch_geometric/deprecation.py:22: UserWarning: 'data.DataLoader' is deprecated, use 'loader.DataLoader' instead\n",
      "  warnings.warn(out)\n"
     ]
    },
    {
     "name": "stdout",
     "output_type": "stream",
     "text": [
      "Node task. test set size: 1000\n",
      "\n"
     ]
    },
    {
     "name": "stderr",
     "output_type": "stream",
     "text": [
      "Training: 100%|██████████| 500/500 [00:55<00:00,  8.95Epochs/s]\n"
     ]
    },
    {
     "name": "stdout",
     "output_type": "stream",
     "text": [
      "Maximum test set accuracy: 0.80\n",
      "Minimum loss: 0.13\n",
      "Saving Model Predictions for Model Type GraphSage\n",
      "\n"
     ]
    },
    {
     "data": {
      "text/plain": "<Figure size 432x288 with 1 Axes>",
      "image/png": "[encoded data removed]"
     },
     "metadata": {
      "needs_background": "light"
     },
     "output_type": "display_data"
    }
   ],
   "source": [
    "model = \"GraphSage\"\n",
    "if args.dataset == \"cora\":\n",
    "    dataset = Planetoid(root=\"/tmp/cora\", name=\"Cora\")\n",
    "else:\n",
    "    raise NotImplementedError(\"Unknown dataset\")\n",
    "test_accs, losses, best_model, best_acc, test_loader = train(dataset, args)\n",
    "\n",
    "print(f\"Maximum test set accuracy: {max(test_accs):.2f}\")\n",
    "print(f\"Minimum loss: {min(losses):.2f}\")\n",
    "\n",
    "# Run test for our best model to save the predictions!\n",
    "test(\n",
    "    test_loader,\n",
    "    best_model,\n",
    "    is_validation=False,\n",
    "    save_model_preds=True,\n",
    "    model_type=model,\n",
    ")\n",
    "print()\n",
    "\n",
    "plt.title(dataset.name)\n",
    "plt.plot(losses, label=\"training loss\" + \" - \" + args.model_type)\n",
    "plt.plot(test_accs, label=\"test accuracy\" + \" - \" + args.model_type)\n",
    "plt.legend()\n",
    "plt.show()"
   ]
  },
  {
   "cell_type": "code",
   "execution_count": 35,
   "id": "residential-pittsburgh",
   "metadata": {
    "id": "residential-pittsburgh",
    "outputId": "13aed60d-2c89-4d83-8fda-bbcf3a295d87",
    "ExecuteTime": {
     "end_time": "2023-04-13T07:47:57.061342Z",
     "start_time": "2023-04-13T07:46:58.956612Z"
    }
   },
   "outputs": [
    {
     "name": "stdout",
     "output_type": "stream",
     "text": [
      "Node task. test set size: 1000\n",
      "\n"
     ]
    },
    {
     "name": "stderr",
     "output_type": "stream",
     "text": [
      "Training: 100%|██████████| 500/500 [00:57<00:00,  8.65Epochs/s]\n"
     ]
    },
    {
     "name": "stdout",
     "output_type": "stream",
     "text": [
      "Maximum test set accuracy: 0.803\n",
      "Minimum loss: 0.05740823596715927\n",
      "Saving Model Predictions for Model Type Conv\n",
      "\n"
     ]
    },
    {
     "data": {
      "text/plain": "<Figure size 432x288 with 1 Axes>",
      "image/png": "[encoded data removed]"
     },
     "metadata": {
      "needs_background": "light"
     },
     "output_type": "display_data"
    }
   ],
   "source": [
    "args = {\n",
    "    \"model_type\": \"GraphSage\",\n",
    "    \"dataset\": \"cora\",\n",
    "    \"num_layers\": 4,\n",
    "    \"heads\": 1,\n",
    "    \"batch_size\": 32,\n",
    "    \"hidden_dim\": 32,\n",
    "    \"dropout\": 0.3,\n",
    "    \"epochs\": 500,\n",
    "    \"opt\": \"adam\",\n",
    "    \"opt_scheduler\": None,\n",
    "    \"opt_restart\": 0,\n",
    "    \"weight_decay\": 5e-3,\n",
    "    \"lr\": 0.01,\n",
    "}\n",
    "args = ObjectView(args)\n",
    "model = \"Conv\"\n",
    "if args.dataset == \"cora\":\n",
    "    dataset = Planetoid(root=\"/tmp/cora\", name=\"Cora\")\n",
    "else:\n",
    "    raise NotImplementedError(\"Unknown dataset\")\n",
    "test_accs, losses, best_model, best_acc, test_loader = train(dataset, args)\n",
    "\n",
    "print(\"Maximum test set accuracy: {0}\".format(max(test_accs)))\n",
    "print(\"Minimum loss: {0}\".format(min(losses)))\n",
    "\n",
    "# Run test for our best model to save the predictions!\n",
    "test(\n",
    "    test_loader,\n",
    "    best_model,\n",
    "    is_validation=False,\n",
    "    save_model_preds=True,\n",
    "    model_type=model,\n",
    ")\n",
    "print()\n",
    "\n",
    "plt.title(dataset.name)\n",
    "plt.plot(losses, label=\"training loss\" + \" - \" + args.model_type)\n",
    "plt.plot(test_accs, label=\"test accuracy\" + \" - \" + args.model_type)\n",
    "plt.legend()\n",
    "plt.show()"
   ]
  }
 ],
 "metadata": {
  "colab": {
   "provenance": []
  },
  "kernelspec": {
   "display_name": "Python 3 (ipykernel)",
   "language": "python",
   "name": "python3"
  },
  "language_info": {
   "codemirror_mode": {
    "name": "ipython",
    "version": 3
   },
   "file_extension": ".py",
   "mimetype": "text/x-python",
   "name": "python",
   "nbconvert_exporter": "python",
   "pygments_lexer": "ipython3",
   "version": "3.9.10"
  }
 },
 "nbformat": 4,
 "nbformat_minor": 5
}
