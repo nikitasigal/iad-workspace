{
 "cells": [
  {
   "cell_type": "markdown",
   "metadata": {
    "id": "vKdcvMtSMpSg"
   },
   "source": [
    "# Майнор ИАД. Домашнее задание 3. YOLO.\n",
    "\n",
    "В этом задании вы напишете и обучите свой собственный YOLO детектор. Нужно будет разобраться со статьей: понять какого формата должна быть обучающая пара (x, y), как перевести лосс из математической формулы в питоновский код - ну и конечно понять и реализовать саму архитектуру модели.\n",
    "\n",
    "Выборка на котрой мы будем обучать модель состоит из разнообразных фотографий яблок, бананов и апельсинов. Данные скачиваем [отсюда](https://drive.google.com/file/d/1d8GSfZoWbraWCSUhX78yl4CnMFYE-5n3/view?usp=sharing).\n",
    "\n",
    "Баллы за ДЗ распределены следующим образом: \n",
    "- Выборка для YoloV1 - 2 балла\n",
    "- YOLO модель - 2 балла\n",
    "- YOLO Loss - 3 балла\n",
    "- Вспомогательные функции - 2 балла\n",
    "- Обучение и расчет метрик - 2 балла\n",
    "\n",
    "Для построения и обучения можно использовать как pytorch, так и pytorch-lightning.\n",
    "\n",
    "Да-да, баллов в сумме получается 11"
   ]
  },
  {
   "cell_type": "code",
   "execution_count": 2,
   "metadata": {
    "colab": {
     "base_uri": "https://localhost:8080/"
    },
    "id": "TY4niK1xMpSg",
    "outputId": "1810d5cf-5d4d-4b5b-db31-5a220ee2b74d"
   },
   "outputs": [],
   "source": [
    "import itertools\n",
    "# Данная библиотека понадобится нам, чтобы обработать разметку\n",
    "# !pip install xmltodict pytorch-lightning"
   ]
  },
  {
   "cell_type": "markdown",
   "metadata": {
    "id": "hNSQ7FNss30F"
   },
   "source": [
    "Скачаем данные"
   ]
  },
  {
   "cell_type": "code",
   "execution_count": 3,
   "metadata": {
    "colab": {
     "base_uri": "https://localhost:8080/"
    },
    "id": "lN1dE6eY7PjV",
    "outputId": "beb005ec-2b9b-42ab-c294-127ee4ec4b39"
   },
   "outputs": [],
   "source": [
    "# !wget --quiet --load-cookies / tmp / cookies.txt \"https://docs.google.com/uc?export=download&confirm=$(wget --quiet --save-cookies /tmp/cookies.txt --keep-session-cookies --no-check-certificate 'https://drive.google.com/uc?export=download&id=1d8GSfZoWbraWCSUhX78yl4CnMFYE-5n3' -O- | sed -rn 's/.*confirm=([0-9A-Za-z_]+).*/\\1\\n/p')&id=1d8GSfZoWbraWCSUhX78yl4CnMFYE-5n3\" -O data.zip & & rm -rf / tmp / cookies.txt\n",
    "# !unzip -q data.zip\n",
    "# !rm data.zip\n",
    "# !ls -l"
   ]
  },
  {
   "cell_type": "markdown",
   "metadata": {
    "id": "Ep38vdW_s-Rz"
   },
   "source": [
    "Посмотрим как выглядит один из файлов разметки"
   ]
  },
  {
   "cell_type": "code",
   "execution_count": 4,
   "metadata": {
    "colab": {
     "base_uri": "https://localhost:8080/"
    },
    "id": "OqwaHl3ntBaN",
    "outputId": "77ce5c63-e716-4a57-90a9-2179534fa789"
   },
   "outputs": [],
   "source": [
    "# !cat data/train/apple_3.xml"
   ]
  },
  {
   "cell_type": "markdown",
   "metadata": {
    "id": "QdQxrA5_MpSg"
   },
   "source": [
    "## Релизуйте выборку для YoloV1 - 2 балла"
   ]
  },
  {
   "cell_type": "code",
   "execution_count": 5,
   "metadata": {
    "id": "QXG9reop-BkS"
   },
   "outputs": [],
   "source": [
    "import os\n",
    "import cv2\n",
    "import json\n",
    "import glob\n",
    "import tqdm\n",
    "import xmltodict\n",
    "\n",
    "from IPython.core.display import struct\n",
    "\n",
    "from typing import List\n",
    "\n",
    "import pandas as pd\n",
    "import numpy as np\n",
    "\n",
    "import torch\n",
    "import torchvision\n",
    "from torch import nn\n",
    "from torch.nn import functional as F\n",
    "from torch.utils.data import Dataset, DataLoader\n",
    "\n",
    "import pytorch_lightning as pl\n",
    "\n",
    "import albumentations as A\n",
    "import albumentations.pytorch\n",
    "\n",
    "from PIL import Image\n",
    "\n",
    "import matplotlib.pyplot as plt\n",
    "\n",
    "from sklearn.metrics import auc\n",
    "# Добавьте необходимые вам библиотеки, если их не окажется в списке выше"
   ]
  },
  {
   "cell_type": "markdown",
   "metadata": {
    "id": "2gL8_CyyTYJ-"
   },
   "source": [
    "Так как в этом домашнем задании использовать аугментации для обучения __обязательно__ - советуем воспользоваться библиотекой albumentations.\n",
    "\n",
    "Она  особенно удобна, поскольку умеет сама вычислять новые координаты bounding box'ов после трансформаций картинки. Для знакомства с этим механизмом советуем следующий [гайд](https://albumentations.ai/docs/getting_started/bounding_boxes_augmentation/). \n",
    "\n",
    "Вы все еще можете избрать путь torchvision.transforms, вам потребуется знакомый нам метод `__getitem__`, однако вычислять новые координаты bounding box'ов после трансформаций вам придётся вручную\n",
    "\n",
    "__Обратите внимание__ на то, что в статье коробки предсказаний параметризуются через: _(x_center, y_center, width, height)_ (причем эти значения _относительные_), а в наших файлах - это _(x_min, y_min, x_max, y_max)_\n",
    "\n",
    "Также, помните что модель должна предсказывать как прямоугольник с обьектом, так и вероятности каждого класса!"
   ]
  },
  {
   "cell_type": "code",
   "execution_count": 6,
   "metadata": {
    "id": "tjZkU0vzMpSh"
   },
   "outputs": [],
   "source": [
    "from math import floor\n",
    "\n",
    "class2tag = {'apple': 0, 'orange': 1, 'banana': 2}\n",
    "\n",
    "\n",
    "class FruitDataset(Dataset):\n",
    "    def __init__(self, data_dir, S=7, B=2, C=3, transforms=None):\n",
    "        self.S = S\n",
    "        self.B = B\n",
    "        self.C = C\n",
    "\n",
    "        self.image_paths = sorted(glob.glob(os.path.join(data_dir, '*.jpg')))\n",
    "        self.box_paths = sorted(glob.glob(os.path.join(data_dir, '*.xml')))\n",
    "\n",
    "        assert len(self.image_paths) == len(self.box_paths)\n",
    "\n",
    "        self.transforms = transforms\n",
    "\n",
    "    # Координаты прямоугольников советуем вернуть именно в формате (x_center, y_center, width, height)\n",
    "    def __getitem__(self, idx):\n",
    "        image = np.array(Image.open(self.image_paths[idx]).convert('RGB'))\n",
    "        boxes, class_labels = self.__get_boxes_from_xml(self.box_paths[idx])\n",
    "\n",
    "        # Переводим координаты боксов в формат YOLO\n",
    "        boxes = list(map(lambda coords: self.__convert_to_yolo_box_params(coords,\n",
    "                                                                          image.shape[1],\n",
    "                                                                          image.shape[0]),\n",
    "                         boxes))\n",
    "\n",
    "        # Применяем преобразования\n",
    "        if self.transforms:\n",
    "            transformed = self.transforms(image=image, bboxes=boxes, class_labels=class_labels)\n",
    "            image = transformed['image']\n",
    "            boxes = transformed['bboxes']\n",
    "            class_labels = transformed['class_labels']\n",
    "\n",
    "        # Делаем не совсем корректное предположение, что в одной ячейке может быть только один объект\n",
    "        target_tensor = torch.zeros((self.S, self.S, 5 * self.B + self.C))\n",
    "        for box, label in zip(boxes, class_labels):\n",
    "            x, y, w, h = box\n",
    "\n",
    "            # Получаем номер ячейки\n",
    "            xn, yn = int(x * self.S), int(y * self.S)\n",
    "\n",
    "            # Пересчитываем координаты относительно ячейки\n",
    "            x, y = self.S * x - xn, self.S * y - yn\n",
    "            w, h = w * self.S, h * self.S\n",
    "\n",
    "            # Сохраняем в формате [class1, class2, class3, confidence, x, y, w, h, ...]\n",
    "            target_tensor[xn][yn][label] = 1\n",
    "            target_tensor[xn][yn][self.C:self.C + 5] = torch.Tensor([1, x, y, w, h])\n",
    "\n",
    "        # Переводим картинку в тензор\n",
    "        image = torch.from_numpy(image).float().permute((2, 0, 1))\n",
    "        return image, target_tensor\n",
    "\n",
    "    def __len__(self):\n",
    "        return len(self.image_paths)\n",
    "\n",
    "    def __get_boxes_from_xml(self, xml_filename: str):\n",
    "        \"\"\"\n",
    "        Метод, который считает и распарсит (с помощью xmltodict) переданный xml\n",
    "        файл и вернет координаты прямоугольников обьектов на соответсвующей фотографии\n",
    "        и название класса обьекта в каждом прямоугольнике\n",
    "\n",
    "        Обратите внимание, что обьектов может быть как несколько, так и один единственный\n",
    "        \"\"\"\n",
    "        boxes = []\n",
    "        class_labels = []\n",
    "\n",
    "        with open(xml_filename) as f:\n",
    "            contents = xmltodict.parse(f.read())['annotation']['object']\n",
    "\n",
    "        if isinstance(contents, dict):\n",
    "            contents = [contents]\n",
    "        for obj in contents:\n",
    "            class_labels.append(class2tag[obj['name']])\n",
    "            boxes.append(list(map(int, obj['bndbox'].values())))\n",
    "\n",
    "        return boxes, class_labels\n",
    "\n",
    "    def __convert_to_yolo_box_params(self, box_coordinates: List[int], im_w, im_h):\n",
    "        \"\"\"\n",
    "        Перейти от [xmin, ymin, xmax, ymax] к [x_center, y_center, width, height].\n",
    "\n",
    "        Обратите внимание, что параметры [x_center, y_center, width, height] - это\n",
    "        относительные значение в отрезке [0, 1]\n",
    "\n",
    "        :param: box_coordinates - координаты коробки в формате [xmin, ymin, xmax, ymax]\n",
    "        :param: im_w - ширина исходного изображения\n",
    "        :param: im_h - высота исходного изображения\n",
    "\n",
    "        :return: координаты коробки в формате [x_center, y_center, width, height]\n",
    "        \"\"\"\n",
    "        ans = []\n",
    "\n",
    "        ans.append((box_coordinates[0] + box_coordinates[2]) / 2 / im_w)  # x_center\n",
    "        ans.append((box_coordinates[1] + box_coordinates[3]) / 2 / im_h)  # y_center\n",
    "\n",
    "        ans.append((box_coordinates[2] - box_coordinates[0]) / im_w)  # width\n",
    "        ans.append((box_coordinates[3] - box_coordinates[1]) / im_h)  # height\n",
    "        return ans\n"
   ]
  },
  {
   "cell_type": "code",
   "execution_count": 7,
   "metadata": {
    "id": "OwXeSiAjdGeq"
   },
   "outputs": [],
   "source": [
    "SIZE = 448\n",
    "\n",
    "train_transform = A.Compose([\n",
    "    A.SmallestMaxSize(SIZE),\n",
    "    A.RandomCrop(width=SIZE, height=SIZE),\n",
    "    A.HorizontalFlip(p=0.5),\n",
    "    A.RandomBrightnessContrast(p=0.2)],  ## YOUR CODE\n",
    "    bbox_params=A.BboxParams(format='yolo',\n",
    "                             label_fields=['class_labels']))\n",
    "test_transform = A.Compose([\n",
    "    A.SmallestMaxSize(SIZE),\n",
    "    A.CenterCrop(width=SIZE, height=SIZE)],  ## YOUR CODE\n",
    "    bbox_params=A.BboxParams(format='yolo',\n",
    "                             label_fields=['class_labels']))"
   ]
  },
  {
   "cell_type": "code",
   "execution_count": 8,
   "metadata": {
    "colab": {
     "base_uri": "https://localhost:8080/"
    },
    "id": "ayPwbRKocdCE",
    "outputId": "c7ec7134-c763-435c-a575-de2e16122a82"
   },
   "outputs": [
    {
     "name": "stdout",
     "output_type": "stream",
     "text": [
      "Тесты успешно пройдены\n"
     ]
    }
   ],
   "source": [
    "train_dataset = FruitDataset(\n",
    "    transforms=train_transform,\n",
    "    data_dir=\"./data/train\"\n",
    ")\n",
    "\n",
    "val_dataset = FruitDataset(\n",
    "    transforms=test_transform,\n",
    "    data_dir=\"./data/test\"\n",
    ")\n",
    "\n",
    "# Немного проверок, чтобы убедиться в правильности направления решения\n",
    "assert isinstance(train_dataset[0], tuple)\n",
    "assert len(train_dataset[0]) == 2\n",
    "assert isinstance(train_dataset[0][0], torch.Tensor)\n",
    "print(\"Тесты успешно пройдены\")"
   ]
  },
  {
   "cell_type": "code",
   "execution_count": 9,
   "metadata": {
    "id": "9V1Tl_GAdeIv"
   },
   "outputs": [],
   "source": [
    "train_dataloader = DataLoader(\n",
    "    dataset=train_dataset,\n",
    "    batch_size=4,\n",
    "    shuffle=True)\n",
    "\n",
    "val_dataloader = DataLoader(\n",
    "    dataset=val_dataset,\n",
    "    batch_size=4,\n",
    "    shuffle=False\n",
    ")"
   ]
  },
  {
   "cell_type": "markdown",
   "metadata": {
    "id": "0fRR9ns6MpSh"
   },
   "source": [
    "Теперь определим функцию для рассчета Intersection Over Union по 4 углам двух прямоугольников"
   ]
  },
  {
   "cell_type": "code",
   "execution_count": 10,
   "metadata": {
    "id": "Rd88hnZiMpSh"
   },
   "outputs": [],
   "source": [
    "def intersection_over_union(pr_bboxes, gt_bboxes) -> torch.Tensor:\n",
    "    pr_x, pr_y = pr_bboxes[..., 0], pr_bboxes[..., 1]\n",
    "    pr_w, pr_h = pr_bboxes[..., 2], pr_bboxes[..., 3]\n",
    "\n",
    "    pr_xmin, pr_xmax = pr_x - pr_w / 2, pr_x + pr_w / 2\n",
    "    pr_ymin, pr_ymax = pr_y - pr_h / 2, pr_y + pr_h / 2\n",
    "\n",
    "    gt_x, gt_y = gt_bboxes[..., 0], gt_bboxes[..., 1]\n",
    "    gt_w, gt_h = gt_bboxes[..., 2], gt_bboxes[..., 3]\n",
    "\n",
    "    gt_xmin, gt_xmax = gt_x - gt_w / 2, gt_x + gt_w / 2\n",
    "    gt_ymin, gt_ymax = gt_y - gt_h / 2, gt_y + gt_h / 2\n",
    "\n",
    "    it_xmin, it_xmax = torch.min(pr_xmin, gt_xmin), torch.max(pr_xmax, gt_xmax)\n",
    "    it_ymin, it_ymax = torch.min(pr_ymin, gt_ymin), torch.max(pr_ymax, gt_ymax)\n",
    "\n",
    "    it_area = (it_xmax - it_xmin).clamp(0) * (it_ymin - it_ymax).clamp(0)\n",
    "    pr_area = (pr_xmax - pr_xmin) * (pr_ymax - pr_ymin)\n",
    "    gt_area = (gt_xmax - gt_xmin) * (gt_ymax - gt_ymin)\n",
    "\n",
    "    return it_area / (pr_area + gt_area - it_area + 1e-6)"
   ]
  },
  {
   "cell_type": "markdown",
   "metadata": {
    "id": "dVJWo3xbMpSh"
   },
   "source": [
    "Теперь начинается основная часть домашнего задания: обучите модель YOLO для object detection на __обучающем__ датасете. \n",
    "\n",
    " - Создайте модель и функцию ошибки YoloV1 прочитав [оригинальную статью](https://paperswithcode.com/paper/you-only-look-once-unified-real-time-object)\n",
    " - Напишите функцию обучения модели\n",
    " - Используйте аугментации"
   ]
  },
  {
   "cell_type": "markdown",
   "metadata": {
    "id": "RxfMVwzHW2MJ"
   },
   "source": [
    "## Реализуйте Модель - 2 балла\n",
    "\n",
    "Копировать точное количество слоев и параметры сверток необязательно. Главное - чтобы модель работала по принципу, описанному в статье и делала предсказание в представленном формате.\n",
    "\n",
    "\n",
    "В качестве подсказки напомним, что выходом модели __для каждого обьекта__ должен быть тензор размера\n",
    "__S * S * (B * 5 + С)__, где все параметры имеют такое же значение, как и в статье: \n",
    "\n",
    "- S - количество ячеек на которое разбивается изображение по вертикали/горизонтали\n",
    "- В - количество предсказываемых прямоугольников в каждой ячейке\n",
    "- 5 - количество параметров для определения каждого прямоугольника (x_center, y_center, width, height, confidence)\n",
    "- С - количество классов (apple, banana, orange)\n",
    "\n",
    "Таким образом, мы для каждого окна размера __S x S__ предсказываем __В__ коробо и один класс"
   ]
  },
  {
   "cell_type": "code",
   "execution_count": 11,
   "outputs": [],
   "source": [
    "CONV_ARCH = [\n",
    "    (7, 64, 2, 3, True),\n",
    "\n",
    "    (3, 192, 1, 1, True),\n",
    "\n",
    "    (1, 128, 1, 0),\n",
    "    (3, 256, 1, 1),\n",
    "    (1, 256, 1, 0),\n",
    "    (3, 512, 1, 1, True),\n",
    "\n",
    "    [4, (1, 256, 1, 0), (3, 512, 1, 1)],\n",
    "    (1, 512, 1, 0),\n",
    "    (3, 1024, 1, 1, True),\n",
    "\n",
    "    [2, (1, 512, 1, 0), (3, 1024, 1, 1)],\n",
    "    (3, 1024, 1, 1),\n",
    "    (3, 1024, 2, 1),\n",
    "\n",
    "    [2, (3, 1024, 1, 1)]\n",
    "]"
   ],
   "metadata": {
    "collapsed": false
   }
  },
  {
   "cell_type": "code",
   "execution_count": 12,
   "metadata": {
    "id": "3PJwrvcWW1n7"
   },
   "outputs": [],
   "source": [
    "class CNNBlock(nn.Module):  # можно поменять на Lightning\n",
    "    def __init__(self, in_channels, out_channels, is_max_pool: bool = False, **kwargs):\n",
    "        super().__init__()\n",
    "\n",
    "        self.conv = nn.Conv2d(in_channels, out_channels, **kwargs)\n",
    "        self.batchnorm = nn.BatchNorm2d(out_channels)  # в статье еще не знали про батчнорм, но мы то из будущего ...\n",
    "        self.leakyrelu = nn.LeakyReLU(0.1)\n",
    "\n",
    "        self.is_maxpool = is_max_pool  # не после каждой свертки нужно делать maxpool\n",
    "        self.maxpool = nn.MaxPool2d(2, stride=2)\n",
    "\n",
    "    def forward(self, x):\n",
    "        x = self.leakyrelu(self.batchnorm(self.conv(x)))\n",
    "\n",
    "        if self.is_maxpool:\n",
    "            x = self.maxpool(x)\n",
    "\n",
    "        return x\n",
    "\n",
    "\n",
    "class YOLO(nn.Module):\n",
    "    def __init__(self, S=7, B=2, C=3):\n",
    "        \"\"\"\n",
    "        :param: S * S - количество ячеек на которые разбивается изображение\n",
    "        :param: B - количество предсказанных прямоугольников в каждой ячейке\n",
    "        :param: C - количество классов\n",
    "        \"\"\"\n",
    "\n",
    "        super(YOLO, self).__init__()\n",
    "\n",
    "        self.S = S\n",
    "        self.B = B\n",
    "        self.C = C\n",
    "\n",
    "        layers = []\n",
    "        in_channels = 3\n",
    "\n",
    "        # Сверточные слои\n",
    "        for convLayer in CONV_ARCH:\n",
    "            if isinstance(convLayer, list):\n",
    "                n, *l = convLayer\n",
    "            else:\n",
    "                n, l = 1, [convLayer]\n",
    "\n",
    "            block = []\n",
    "            for layer in l:\n",
    "                kernel_size, out_channels, stride, padding, *pool = layer\n",
    "                block.append(CNNBlock(in_channels=in_channels,\n",
    "                                      out_channels=out_channels,\n",
    "                                      kernel_size=kernel_size,\n",
    "                                      stride=stride,\n",
    "                                      padding=padding,\n",
    "                                      is_max_pool=pool))\n",
    "                in_channels = out_channels\n",
    "            layers.extend(block * n)\n",
    "\n",
    "        # Полносвязные слои\n",
    "        layers += [\n",
    "            nn.Flatten(),\n",
    "            nn.Linear(7 * 7 * 1024, 4096),\n",
    "            nn.Dropout(0.5),\n",
    "            nn.LeakyReLU(0.1),\n",
    "            nn.Linear(4096, self.S * self.S * (self.C + 5 * self.B))\n",
    "        ]\n",
    "\n",
    "        self.model = nn.Sequential(*layers)\n",
    "\n",
    "    def forward(self, x):\n",
    "        return self.model(x)\n",
    "\n",
    "\n",
    "# Убедитесь на одном изображении, что предсказания вашей модели имеют верное количество значений\n",
    "\n",
    "temp_model = YOLO()\n",
    "expected_output_shape = temp_model.S * temp_model.S * (5 * temp_model.B + temp_model.C)\n",
    "\n",
    "testing_image = train_dataset[0][0].unsqueeze(dim=0)\n",
    "temp_model.eval()\n",
    "assert temp_model(testing_image).reshape(-1).shape[0] == expected_output_shape"
   ]
  },
  {
   "cell_type": "markdown",
   "metadata": {
    "id": "OJIjWKbcYUYe"
   },
   "source": [
    "## Реализуйте YoloLoss - 3 балла"
   ]
  },
  {
   "cell_type": "code",
   "execution_count": 25,
   "outputs": [
    {
     "data": {
      "text/plain": "tensor(nan, grad_fn=<AddBackward0>)"
     },
     "execution_count": 25,
     "metadata": {},
     "output_type": "execute_result"
    }
   ],
   "source": [
    "class YoloLoss(nn.Module):\n",
    "    def __init__(self, S=7, B=2, C=3):\n",
    "        \"\"\"\n",
    "        :param: S * S - количество ячеек на которые разбивается изображение\n",
    "        :param: B - количество предсказанных прямоугольников в каждой ячейке\n",
    "        :param: C - количество классов\n",
    "        \"\"\"\n",
    "\n",
    "        super().__init__()\n",
    "        self.mse = nn.MSELoss(reduction=\"sum\")\n",
    "\n",
    "        self.S = S\n",
    "        self.B = B\n",
    "        self.C = C\n",
    "\n",
    "        self.lambda_noobj = 0.5\n",
    "        self.lambda_coord = 5\n",
    "\n",
    "    def forward(self, prediction, target):\n",
    "        prediction = prediction.reshape(self.S, self.S, self.C + self.B * 5)\n",
    "\n",
    "        temp = [intersection_over_union(prediction[..., self.C + 1 + 5 * t:self.C + 5 + 5 * t],\n",
    "                                        target[..., self.C + 1:self.C + 5])\n",
    "                for t in range(self.B)]\n",
    "        ious = torch.stack(temp).permute((1, 2, 0))\n",
    "        max_ious, _ = torch.max(ious, dim=2)\n",
    "        temp = [torch.stack([ious[i][j] == max_ious[i][j]\n",
    "                 for i in range(self.S)])\n",
    "                for j in range(self.S)]\n",
    "        is_best_bbox = torch.stack(temp)\n",
    "\n",
    "        I_i = target[..., self.C].unsqueeze(dim=2)\n",
    "        I_ij = I_i * is_best_bbox\n",
    "\n",
    "        term1 = sum(I_ij[...,t].unsqueeze(dim=2) * (prediction[...,self.C +1 + 5*t:self.C+3+5*t] - target[..., self.C+1:self.C+3])**2\n",
    "                    for t in range(self.B))\n",
    "\n",
    "        term2 = sum(I_ij[...,t].unsqueeze(dim=2) * (torch.sqrt(prediction[...,self.C +3 + 5*t:self.C+5+5*t]) - torch.sqrt(target[..., self.C+3:self.C+5]))**2\n",
    "                    for t in range(self.B))\n",
    "\n",
    "        term3 = sum(I_ij[...,t].unsqueeze(dim=2) * (prediction[...,self.C + 5*t] - target[..., self.C])**2\n",
    "                    for t in range(self.B))\n",
    "\n",
    "        term4 = sum((1 - I_ij[...,t]) * (prediction[...,self.C + 5*t] - target[..., self.C])**2\n",
    "                    for t in range(self.B))\n",
    "\n",
    "        term5 = sum(I_i * (prediction[..., :self.C] - target[..., :self.C])**2)\n",
    "\n",
    "        return self.lambda_coord * (term1.sum() + term2.sum()) + term3.sum() + self.lambda_noobj * term4.sum() + term5.sum()\n",
    "\n",
    "loss = YoloLoss()\n",
    "model = YOLO()\n",
    "image, label = train_dataloader.dataset[0]\n",
    "image = image.unsqueeze(dim=0)\n",
    "loss(model(image), label)"
   ],
   "metadata": {
    "collapsed": false
   }
  },
  {
   "cell_type": "markdown",
   "source": [
    "## Реализуйте дополнительные функции из статьи - 2 балла"
   ],
   "metadata": {
    "collapsed": false
   }
  },
  {
   "cell_type": "code",
   "execution_count": null,
   "metadata": {
    "id": "OMF8e6yXU6QV"
   },
   "outputs": [],
   "source": [
    "def non_max_suppression(bboxes, iou_threshold, threshold):\n",
    "    ## YOUR CODE\n",
    "    pass\n",
    "\n",
    "\n",
    "def mean_average_precision(pred_boxes, true_boxes, iou_threshold=0.5):\n",
    "    ## YOUR CODE\n",
    "    pass\n",
    "\n",
    "\n",
    "def get_bound_boxes(loader, model, iou_threshold=.5, threshold=.4):\n",
    "    ## YOUR CODE\n",
    "    return all_pred_boxes, all_true_boxes"
   ]
  },
  {
   "cell_type": "markdown",
   "metadata": {
    "id": "z38hYLM6haDk"
   },
   "source": [
    "## Обучите модель и посчитайте метрики для задачи детекции - 2 балла \n",
    "\n",
    "Несмотря на то, что в этом блоке ничего сильно нового для вас не ожидается и за него формально дается лишь два балла - провести обучение очень важно для понимания того, насколько правильно реализована ваша модель и лосс.\n",
    "\n",
    "В процессе обучения будет видно все ли размерности совпадают, падает ли лосс и растут ли метрики целевой задачи, поэтому на практике этот пункт гораздо оказывается гораздо важнее."
   ]
  },
  {
   "cell_type": "code",
   "execution_count": null,
   "metadata": {
    "id": "6BTNHNqtMpSi"
   },
   "outputs": [],
   "source": [
    "class YOLOLearner(pl.LightningModule):\n",
    "    def __init__(self) -> None:\n",
    "        super().__init__()\n",
    "\n",
    "        self.model = YOLO()\n",
    "        self.loss = YoloLoss()\n",
    "        self.optimizer = torch.optim.Adam(self.model.parameters(), lr=1e-3)\n",
    "\n",
    "    def forward(self, x) -> torch.Tensor:\n",
    "        return self.model(x)\n",
    "\n",
    "    def configure_optimizers(self):\n",
    "        return self.optimizer\n",
    "\n",
    "    def training_step(self, train_batch, batch_idx) -> torch.Tensor:\n",
    "        ## YOUR CODE\n",
    "        pass\n",
    "\n",
    "    def validation_step(self, val_batch, batch_idx) -> None:\n",
    "        ## YOUR CODE\n",
    "        pass"
   ]
  },
  {
   "cell_type": "code",
   "execution_count": null,
   "metadata": {
    "id": "sRl42I2xMpSi"
   },
   "outputs": [],
   "source": [
    "model =  # YOUR CODE\n",
    "n_epochs =  # YOUR CODE\n",
    "\n",
    "yolo_learner = YOLOLearner(...)  ## YOUR CODE\n",
    "\n",
    "device = \"gpu\" if torch.cuda.is_available() else \"cpu\"\n",
    "trainer = pl.Trainer(accelerator=device, max_epochs=n_epochs)\n",
    "\n",
    "trainer.fit(yolo_learner, train_dataloader, val_dataloader)"
   ]
  },
  {
   "cell_type": "markdown",
   "metadata": {
    "id": "eb7ioohR96vu"
   },
   "source": [
    "## Посчитайте метрики задачи детекции на валидационной выборке\n",
    "\n",
    "Попробуйте понять насколько хороши ваши показатели. Если числа кажутся подозрительно низкими - возможно вам стоит перепроверить ваше решение. "
   ]
  },
  {
   "cell_type": "code",
   "execution_count": null,
   "metadata": {
    "id": "WUnlNeot98un"
   },
   "outputs": [],
   "source": [
    "## YOUR CODE"
   ]
  },
  {
   "cell_type": "markdown",
   "metadata": {
    "id": "o_YG71pYMpSi"
   },
   "source": [
    "## Визуализируйте предсказанные bounding box'ы для любых пяти картинок из __валидационного__ датасета."
   ]
  },
  {
   "cell_type": "code",
   "execution_count": null,
   "metadata": {
    "id": "WgVdVzvMMpSi"
   },
   "outputs": [],
   "source": [
    "image, targets = next(iter(val_dataset))\n",
    "preds = ## YOUR CODE"
   ]
  },
  {
   "cell_type": "code",
   "execution_count": null,
   "metadata": {
    "id": "tpp4jHs0MpSi"
   },
   "outputs": [],
   "source": [
    "from PIL import ImageDraw\n",
    "\n",
    "image = torchvision.transform.ToPILImage()(image)\n",
    "draw = ImageDraw.Draw(image)\n",
    "\n",
    "for box in targets[0]:\n",
    "    ## YOUR CODE\n",
    "    draw.rectangle([(box[0], box[1]), (box[2], box[3])])\n",
    "\n",
    "for box in preds[0]:\n",
    "    ## YOUR CODE\n",
    "    draw.rectangle([(box[0], box[1]), (box[2], box[3])], outline='red')\n",
    "image"
   ]
  }
 ],
 "metadata": {
  "colab": {
   "provenance": []
  },
  "kernelspec": {
   "display_name": "Python 3 (ipykernel)",
   "language": "python",
   "name": "python3"
  },
  "language_info": {
   "codemirror_mode": {
    "name": "ipython",
    "version": 3
   },
   "file_extension": ".py",
   "mimetype": "text/x-python",
   "name": "python",
   "nbconvert_exporter": "python",
   "pygments_lexer": "ipython3",
   "version": "3.10.8"
  }
 },
 "nbformat": 4,
 "nbformat_minor": 1
}
