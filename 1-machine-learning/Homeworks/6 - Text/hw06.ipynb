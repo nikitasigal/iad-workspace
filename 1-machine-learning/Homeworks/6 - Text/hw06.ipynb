{
 "cells": [
  {
   "cell_type": "markdown",
   "metadata": {},
   "source": [
    "# Домашнее задание 6: классификация текстов"
   ]
  },
  {
   "cell_type": "markdown",
   "metadata": {},
   "source": [
    "В этом домашнем задании вам предстоит построить классификатор текстов!\n",
    "\n",
    "Данные мы будем использовать из Kaggle соревнования: https://www.kaggle.com/competitions/nlp-getting-started/data Оттуда надо скачать файл train.csv. На обучающую и тестовую выборки его поделим кодом ниже, менять его не надо!"
   ]
  },
  {
   "cell_type": "markdown",
   "metadata": {},
   "source": [
    "Мы будем работать с датасетом постов из твиттера. Нам предстоит решать задачу бинарной классификации - определять содержатся ли в твитте информация о настоящей катастрофе/инциденте или нет."
   ]
  },
  {
   "cell_type": "code",
   "execution_count": 1,
   "metadata": {},
   "outputs": [],
   "source": [
    "import pandas as pd\n"
   ]
  },
  {
   "cell_type": "code",
   "execution_count": 2,
   "metadata": {},
   "outputs": [],
   "source": [
    "data = pd.read_csv('train.csv')\n"
   ]
  },
  {
   "cell_type": "code",
   "execution_count": 3,
   "metadata": {},
   "outputs": [
    {
     "data": {
      "text/plain": "   id keyword location                                               text  \\\n0   1     NaN      NaN  Our Deeds are the Reason of this #earthquake M...   \n1   4     NaN      NaN             Forest fire near La Ronge Sask. Canada   \n2   5     NaN      NaN  All residents asked to 'shelter in place' are ...   \n3   6     NaN      NaN  13,000 people receive #wildfires evacuation or...   \n4   7     NaN      NaN  Just got sent this photo from Ruby #Alaska as ...   \n\n   target  \n0       1  \n1       1  \n2       1  \n3       1  \n4       1  ",
      "text/html": "<div>\n<style scoped>\n    .dataframe tbody tr th:only-of-type {\n        vertical-align: middle;\n    }\n\n    .dataframe tbody tr th {\n        vertical-align: top;\n    }\n\n    .dataframe thead th {\n        text-align: right;\n    }\n</style>\n<table border=\"1\" class=\"dataframe\">\n  <thead>\n    <tr style=\"text-align: right;\">\n      <th></th>\n      <th>id</th>\n      <th>keyword</th>\n      <th>location</th>\n      <th>text</th>\n      <th>target</th>\n    </tr>\n  </thead>\n  <tbody>\n    <tr>\n      <th>0</th>\n      <td>1</td>\n      <td>NaN</td>\n      <td>NaN</td>\n      <td>Our Deeds are the Reason of this #earthquake M...</td>\n      <td>1</td>\n    </tr>\n    <tr>\n      <th>1</th>\n      <td>4</td>\n      <td>NaN</td>\n      <td>NaN</td>\n      <td>Forest fire near La Ronge Sask. Canada</td>\n      <td>1</td>\n    </tr>\n    <tr>\n      <th>2</th>\n      <td>5</td>\n      <td>NaN</td>\n      <td>NaN</td>\n      <td>All residents asked to 'shelter in place' are ...</td>\n      <td>1</td>\n    </tr>\n    <tr>\n      <th>3</th>\n      <td>6</td>\n      <td>NaN</td>\n      <td>NaN</td>\n      <td>13,000 people receive #wildfires evacuation or...</td>\n      <td>1</td>\n    </tr>\n    <tr>\n      <th>4</th>\n      <td>7</td>\n      <td>NaN</td>\n      <td>NaN</td>\n      <td>Just got sent this photo from Ruby #Alaska as ...</td>\n      <td>1</td>\n    </tr>\n  </tbody>\n</table>\n</div>"
     },
     "execution_count": 3,
     "metadata": {},
     "output_type": "execute_result"
    }
   ],
   "source": [
    "data.head()\n"
   ]
  },
  {
   "cell_type": "markdown",
   "metadata": {},
   "source": [
    "## Задание 1 (0.5 балла)\n",
    "\n",
    "Выведете на экран информацию о пропусках в данных. Если пропуски присутствуют заполните их пустой строкой."
   ]
  },
  {
   "cell_type": "code",
   "execution_count": 4,
   "metadata": {},
   "outputs": [
    {
     "data": {
      "text/plain": "id          False\nkeyword      True\nlocation     True\ntext        False\ntarget      False\ndtype: bool"
     },
     "execution_count": 4,
     "metadata": {},
     "output_type": "execute_result"
    }
   ],
   "source": [
    "data.isna().any()\n"
   ]
  },
  {
   "cell_type": "code",
   "execution_count": 5,
   "metadata": {},
   "outputs": [
    {
     "data": {
      "text/plain": "False"
     },
     "execution_count": 5,
     "metadata": {},
     "output_type": "execute_result"
    }
   ],
   "source": [
    "data = data.fillna('')\n",
    "data.isna().any(axis=None)\n"
   ]
  },
  {
   "cell_type": "markdown",
   "metadata": {},
   "source": [
    "## Задание 2 (1 балл)\n",
    "Давайте немного посмотрим на наши данные. Визуализируйте (где явно просят) или выведете информацию о следующем:\n",
    "\n",
    "1. Какое распределение классов в обучающей выборке?\n",
    "2. Посмотрите на колонку \"keyword\" - возьмите 10 наиболее встречающихся значений, постройте ступенчатую диаграмму распределения классов в зависимости от значения keyword, сделайте выводы."
   ]
  },
  {
   "cell_type": "code",
   "execution_count": 6,
   "metadata": {},
   "outputs": [
    {
     "name": "stdout",
     "output_type": "stream",
     "text": [
      "Доля подтвержденных катастроф: 0.4296597924602653\n"
     ]
    }
   ],
   "source": [
    "print(f'Доля подтвержденных катастроф: {data[\"target\"].mean()}')\n"
   ]
  },
  {
   "cell_type": "code",
   "execution_count": 7,
   "metadata": {},
   "outputs": [
    {
     "data": {
      "text/plain": "               61\nfatalities     45\ndeluge         42\narmageddon     42\nsinking        41\ndamage         41\nharm           41\nbody%20bags    41\nevacuate       40\nfear           40\nName: keyword, dtype: int64"
     },
     "execution_count": 7,
     "metadata": {},
     "output_type": "execute_result"
    }
   ],
   "source": [
    "top_keywords = data['keyword'].value_counts()[:10]\n",
    "top_keywords\n"
   ]
  },
  {
   "cell_type": "code",
   "execution_count": 8,
   "metadata": {},
   "outputs": [
    {
     "data": {
      "text/plain": "keyword\n               0.688525\nfatalities     0.577778\ndeluge         0.142857\narmageddon     0.119048\nsinking        0.195122\ndamage         0.463415\nharm           0.097561\nbody%20bags    0.024390\nevacuate       0.625000\nfear           0.125000\nName: target, dtype: float64"
     },
     "execution_count": 8,
     "metadata": {},
     "output_type": "execute_result"
    }
   ],
   "source": [
    "confirmed_cases = data.groupby('keyword')['target'].mean().filter(\n",
    "    items=top_keywords.index, axis=0)\n",
    "confirmed_cases\n"
   ]
  },
  {
   "cell_type": "code",
   "execution_count": 9,
   "metadata": {},
   "outputs": [
    {
     "data": {
      "text/plain": "(-0.008816473410635746, 1.0)"
     },
     "execution_count": 9,
     "metadata": {},
     "output_type": "execute_result"
    },
    {
     "data": {
      "text/plain": "<Figure size 1500x500 with 1 Axes>",
      "image/png": "[encoded data removed]"
     },
     "metadata": {},
     "output_type": "display_data"
    }
   ],
   "source": [
    "import matplotlib.pyplot as plt\n",
    "\n",
    "plt.figure(figsize=(15, 5))\n",
    "plt.step(confirmed_cases.index, confirmed_cases, where='post')\n",
    "plt.ylim(top=1)\n"
   ]
  },
  {
   "cell_type": "markdown",
   "metadata": {},
   "source": [
    "> О первой категории ничего скааать нельзя, так как это пропущенные значения и там может быть что угодно. Тем не менее подтвержденных случаев в ней больше всего   \n",
    "> Наиболее выделяются из оставшихся ключевых слов `evacuate`, `fatalities` и `damage`. Высокий уровень подтвержденных случаев скорее всего связан с тем, что эти слова очень редко встречаются вне контекста катастроф и чрезвычайных ситуаций в отличии например от `fear` или `sinking`"
   ]
  },
  {
   "cell_type": "markdown",
   "metadata": {},
   "source": [
    "## Задание 3 (0.5 балла) \n",
    "\n",
    "В этом задании предлагается объединить все три текстовых столбца в один (просто сконкатенировать cтроки) и убрать столбец с индексом."
   ]
  },
  {
   "cell_type": "code",
   "execution_count": 10,
   "metadata": {},
   "outputs": [
    {
     "data": {
      "text/plain": "                                                   text  target\n0       Our Deeds are the Reason of this #earthquake...       1\n1                Forest fire near La Ronge Sask. Canada       1\n2       All residents asked to 'shelter in place' ar...       1\n3       13,000 people receive #wildfires evacuation ...       1\n4       Just got sent this photo from Ruby #Alaska a...       1\n...                                                 ...     ...\n7608    Two giant cranes holding a bridge collapse i...       1\n7609    @aria_ahrary @TheTawniest The out of control...       1\n7610    M1.94 [01:04 UTC]?5km S of Volcano Hawaii. h...       1\n7611    Police investigating after an e-bike collide...       1\n7612    The Latest: More Homes Razed by Northern Cal...       1\n\n[7613 rows x 2 columns]",
      "text/html": "<div>\n<style scoped>\n    .dataframe tbody tr th:only-of-type {\n        vertical-align: middle;\n    }\n\n    .dataframe tbody tr th {\n        vertical-align: top;\n    }\n\n    .dataframe thead th {\n        text-align: right;\n    }\n</style>\n<table border=\"1\" class=\"dataframe\">\n  <thead>\n    <tr style=\"text-align: right;\">\n      <th></th>\n      <th>text</th>\n      <th>target</th>\n    </tr>\n  </thead>\n  <tbody>\n    <tr>\n      <th>0</th>\n      <td>Our Deeds are the Reason of this #earthquake...</td>\n      <td>1</td>\n    </tr>\n    <tr>\n      <th>1</th>\n      <td>Forest fire near La Ronge Sask. Canada</td>\n      <td>1</td>\n    </tr>\n    <tr>\n      <th>2</th>\n      <td>All residents asked to 'shelter in place' ar...</td>\n      <td>1</td>\n    </tr>\n    <tr>\n      <th>3</th>\n      <td>13,000 people receive #wildfires evacuation ...</td>\n      <td>1</td>\n    </tr>\n    <tr>\n      <th>4</th>\n      <td>Just got sent this photo from Ruby #Alaska a...</td>\n      <td>1</td>\n    </tr>\n    <tr>\n      <th>...</th>\n      <td>...</td>\n      <td>...</td>\n    </tr>\n    <tr>\n      <th>7608</th>\n      <td>Two giant cranes holding a bridge collapse i...</td>\n      <td>1</td>\n    </tr>\n    <tr>\n      <th>7609</th>\n      <td>@aria_ahrary @TheTawniest The out of control...</td>\n      <td>1</td>\n    </tr>\n    <tr>\n      <th>7610</th>\n      <td>M1.94 [01:04 UTC]?5km S of Volcano Hawaii. h...</td>\n      <td>1</td>\n    </tr>\n    <tr>\n      <th>7611</th>\n      <td>Police investigating after an e-bike collide...</td>\n      <td>1</td>\n    </tr>\n    <tr>\n      <th>7612</th>\n      <td>The Latest: More Homes Razed by Northern Cal...</td>\n      <td>1</td>\n    </tr>\n  </tbody>\n</table>\n<p>7613 rows × 2 columns</p>\n</div>"
     },
     "execution_count": 10,
     "metadata": {},
     "output_type": "execute_result"
    }
   ],
   "source": [
    "data['text'] = data['keyword'] + ' ' + data['location'] + ' ' + data['text']\n",
    "data.drop(columns=['id', 'keyword', 'location'], inplace=True)\n",
    "data\n"
   ]
  },
  {
   "cell_type": "code",
   "execution_count": 11,
   "metadata": {},
   "outputs": [],
   "source": [
    "from sklearn.model_selection import train_test_split\n",
    "\n",
    "train, test = train_test_split(data, test_size=0.3, random_state=42)\n"
   ]
  },
  {
   "cell_type": "markdown",
   "metadata": {},
   "source": [
    "## Задание 4 (0.5 балла)\n",
    "\n",
    "Далее мы будем пока работать только с train частью.\n",
    "\n",
    "1. Предобработайте данные (train часть) с помощью CountVectorizer.\n",
    "2. Какого размера получилась матрица?\n"
   ]
  },
  {
   "cell_type": "code",
   "execution_count": 12,
   "metadata": {},
   "outputs": [
    {
     "data": {
      "text/plain": "(5329, 18455)"
     },
     "execution_count": 12,
     "metadata": {},
     "output_type": "execute_result"
    }
   ],
   "source": [
    "from sklearn.feature_extraction.text import CountVectorizer\n",
    "\n",
    "cv = CountVectorizer()\n",
    "train_vec = cv.fit_transform(train['text'])\n",
    "train_vec.shape\n"
   ]
  },
  {
   "cell_type": "markdown",
   "metadata": {},
   "source": [
    "## Задание 5 (1 балл)\n",
    "\n",
    "В предыдущем пункте у вас должна была получиться достаточно большая матрица.\n",
    "Если вы взгляните на текст, то увидете, что там есть множество специальных символов, ссылок и прочего мусора.\n",
    "\n",
    "Давайте также посмотрим на словарь, который получился в результате построения CountVectorizer, его можно найти в поле vocabulary_ инстанса этого класса. Давайте напишем функцию, которая печает ответы на следующие вопросы:\n",
    "\n",
    "1. Найдите в этом словаре все слова, которые содержат цифры. Сколько таких слов нашлось?\n",
    "\n",
    "2. Найдите все слова, которые содержат символы пунктуации. Сколько таких слов нашлось? \n",
    "\n",
    "3. Сколько хэштегов (токен начинается на #) и упоминаний (токен начинается на @) осталось в словаре?"
   ]
  },
  {
   "cell_type": "code",
   "execution_count": 13,
   "metadata": {},
   "outputs": [],
   "source": [
    "from string import punctuation\n",
    "\n",
    "def analyse(cv):\n",
    "    cnt_numbers = 0\n",
    "    cnt_punctuation = 0\n",
    "    cnt_athash = 0\n",
    "    for word in cv.vocabulary_:\n",
    "        cnt_numbers += any(map(str.isdigit, word))\n",
    "        cnt_punctuation += any(map(lambda x: x in punctuation, word))\n",
    "        cnt_athash += int(word[0] in '@#')\n",
    "\n",
    "    print(f'Слова с цифрами: {cnt_numbers}')\n",
    "    print(f'Слова с пунктуацией: {cnt_punctuation}')\n",
    "    print(f'Хэштеги и упоминания: {cnt_athash}')\n"
   ]
  },
  {
   "cell_type": "code",
   "execution_count": 14,
   "metadata": {},
   "outputs": [
    {
     "name": "stdout",
     "output_type": "stream",
     "text": [
      "Слова с цифрами: 3812\n",
      "Слова с пунктуацией: 315\n",
      "Хэштеги и упоминания: 0\n"
     ]
    }
   ],
   "source": [
    "analyse(cv)"
   ]
  },
  {
   "cell_type": "markdown",
   "metadata": {},
   "source": [
    "## Задание 6 (0.5 балла)\n",
    "\n",
    "Вспомним, что на семинаре по текстам мы узнали, что в nltk есть специальный токенизатор для текстов - TweetTokenizer. Попробуем применить CountVectorizer с этим токенизатором. Ответьте на все вопросы из предыдущего пункта для TweetTokenizer и сравните результаты."
   ]
  },
  {
   "cell_type": "code",
   "execution_count": 15,
   "metadata": {},
   "outputs": [
    {
     "data": {
      "text/plain": "(5329, 19670)"
     },
     "execution_count": 15,
     "metadata": {},
     "output_type": "execute_result"
    }
   ],
   "source": [
    "from nltk.tokenize import TweetTokenizer\n",
    "# Чтобы узнать, какие параметры есть у этого токенайзера - используйте help(TweetTokenizer)\n",
    "# Для того, чтобы передать токенайзер в CountVectorizer используйте параметр tokenizer\n",
    "\n",
    "cv_twt = CountVectorizer(tokenizer=TweetTokenizer().tokenize)\n",
    "train_vec_nltk = cv_twt.fit_transform(train['text'])\n",
    "train_vec_nltk.shape\n"
   ]
  },
  {
   "cell_type": "code",
   "execution_count": 16,
   "metadata": {},
   "outputs": [
    {
     "name": "stdout",
     "output_type": "stream",
     "text": [
      "Слова с цифрами: 3939\n",
      "Слова с пунктуацией: 7338\n",
      "Хэштеги и упоминания: 3149\n"
     ]
    }
   ],
   "source": [
    "analyse(cv_twt)"
   ]
  },
  {
   "cell_type": "code",
   "execution_count": 17,
   "metadata": {},
   "outputs": [
    {
     "name": "stdout",
     "output_type": "stream",
     "text": [
      "dict_keys(['war', 'elonmusk', 'annihilated', 'usa', 'one', 'thing', 'for', 'sure', 'god', 'has', 'promised', 'israel', 'will', 'not', 'be', 'but', 'the', 'horror', 'of', 'iran', 'nukes', 'https', 'co', 'xn09mx6sxy'])\n",
      "dict_keys(['#war', '@elonmusk', 'annihilated', 'usa', 'one', 'thing', 'for', 'sure-god', 'has', 'promised', 'israel', 'will', 'not', 'be', '.', 'but', '...', 'the', 'horror', 'of', 'iran', 'w', '/', 'nukes', 'https://t.co/xn09mx6sxy'])\n"
     ]
    }
   ],
   "source": [
    "s = '#war @elonmusk annihilated USA One thing for sure-God has promised Israel will not be annihilated. But...the horror of Iran w/nukes. https://t.co/xn09Mx6sxy'\n",
    "cv.fit_transform([s])\n",
    "cv_twt.fit_transform([s])\n",
    "\n",
    "print(cv.vocabulary_.keys())\n",
    "print(cv_twt.vocabulary_.keys())"
   ]
  },
  {
   "cell_type": "markdown",
   "metadata": {},
   "source": [
    "> Здесь для демонстрации приведен чуть модифицированный твит из нашего датасета. Дефолтный токенайзер попросту выкинул практически все с намеком на пунктуацию, включая хэштеги и упоминания, поэтому мы их и не нашли.   \n",
    "> Новый же токенайзер оставляет и хэштеги, и упоминания, и ссылки, и другую пунктуацию, поэтому и в целом фич у нас больше, и различной пунктуации мы нашли больше."
   ]
  },
  {
   "cell_type": "markdown",
   "metadata": {},
   "source": [
    "## Задание 7 (2 балла)\n",
    "\n",
    "В scikit-learn мы можем оценивать процесс подсчета матрицы через CountVectorizer. У CountVectorizer, как и у других наследников \\_VectorizerMixin, есть аргумент tokenizer и preprocessor. preprocessor применится в самом начале к каждой строке вашего датасета, tokenizer же должен принять строку и вернуть токены.\n",
    "Давайте напишем кастомный токенайзер, которые сделает все, что нам нужно: \n",
    "\n",
    "0. Приведет все буквы к нижнему регистру\n",
    "1. Разобьет текст на токены с помощью TweetTokenizer из пакета nltk\n",
    "2. Удалит все токены содержащие не латинские буквы, кроме смайликов (будем считать ими токены содержащие только пунктуацию и, как минимум, одну скобочку) и хэштегов, которые после начальной # содержат только латинские буквы.\n",
    "3. Удалит все токены, которые перечислены в nltk.corpus.stopwords.words('english')\n",
    "4. Проведет стемминг с помощью SnowballStemmer\n",
    "\n",
    "Продемонстрируйте работу вашей функции на первых десяти текстах в обучающей выборке."
   ]
  },
  {
   "cell_type": "code",
   "execution_count": 18,
   "metadata": {},
   "outputs": [
    {
     "name": "stderr",
     "output_type": "stream",
     "text": [
      "[nltk_data] Downloading package stopwords to\n",
      "[nltk_data]     /Users/nikitasigal/nltk_data...\n",
      "[nltk_data]   Unzipping corpora/stopwords.zip.\n"
     ]
    }
   ],
   "source": [
    "import re\n",
    "import nltk\n",
    "from nltk.corpus import stopwords\n",
    "from nltk.stem.snowball import SnowballStemmer\n",
    "\n",
    "nltk.download('stopwords')\n",
    "\n",
    "\n",
    "def custom_tokenizer(s: str):\n",
    "    vec = TweetTokenizer(preserve_case=False).tokenize(s)\n",
    "    vec = filter(lambda w: None != re.search(\n",
    "        f'^#?[a-z]*$|^[{punctuation}]*[()]+[{punctuation}]*$', w), vec)\n",
    "    vec = filter(lambda w: w not in stopwords.words('english'), vec)\n",
    "    \n",
    "    stemmer = SnowballStemmer('english')\n",
    "    vec = [stemmer.stem(x) for x in vec]\n",
    "    return vec\n"
   ]
  },
  {
   "cell_type": "code",
   "execution_count": 19,
   "metadata": {},
   "outputs": [
    {
     "name": "stdout",
     "output_type": "stream",
     "text": [
      "['bridg', 'ash', 'australia', 'collaps', 'trent', 'bridg', 'among', 'worst', 'histori', 'england', 'bundl', 'australia']\n",
      "['hail', 'carol', 'stream', 'illinoi', 'great', 'michigan', 'techniqu', 'camp', 'thank', '#goblu', '#wrestleon']\n",
      "['polic', 'houston', 'cnn', 'tennesse', 'movi', 'theater', 'shoot', 'suspect', 'kill', 'polic']\n",
      "['riot', 'still', 'riot', 'coupl', 'hour', 'left', 'class']\n",
      "['wound', 'lake', 'highland', 'crack', 'path', 'wipe', 'morn', 'beach', 'run', 'surfac', 'wound', 'left', 'elbow', 'right', 'knee']\n",
      "['airplan', 'somewher', 'expert', 'franc', 'begin', 'examin', 'airplan', 'debri', 'found', 'reunion', 'island', 'french', 'air', 'accid', 'expert', '#mlb']\n",
      "['bloodi', 'isol', 'citi', 'world', 'perth', 'came', 'kill', 'indian', 'fun', 'video', 'smirk', 'remorseless', 'pakistani', 'killer', 'show', 'boast']\n",
      "['burn', 'except', 'idk', 'realli', 'burn']\n",
      "['destroy', '(', 'ask', ')', 'destroy', 'hous']\n",
      "['wound', 'maracay', 'nirgua', 'venezuela', 'polic', 'offic', 'wound', 'suspect', 'dead', 'exchang', 'shot']\n"
     ]
    }
   ],
   "source": [
    "for s in train['text'][:10]:\n",
    "    print(custom_tokenizer(s))\n"
   ]
  },
  {
   "cell_type": "markdown",
   "metadata": {},
   "source": [
    "## Задание 8 (1 балл)\n",
    "\n",
    "1. Примените CountVectorizer с реализованным выше токенизатором к обучающим и тестовым выборкам.\n",
    "2. Обучите LogisticRegression на полученных признаках.\n",
    "3. Посчитайте метрику f1-score на тестовых данных."
   ]
  },
  {
   "cell_type": "code",
   "execution_count": 20,
   "metadata": {},
   "outputs": [],
   "source": [
    "from sklearn.linear_model import LogisticRegression\n",
    "from sklearn.metrics import f1_score\n",
    "\n",
    "\n",
    "def test_vectorizer(train: pd.DataFrame, test: pd.DataFrame, vectorizer: callable, max_iter=1000):\n",
    "    train_vec = vectorizer.fit_transform(train['text'])\n",
    "    test_vec = vectorizer.transform(test['text'])\n",
    "    if hasattr(vectorizer, 'vocabulary_'):\n",
    "        print(f'Number of features: {len(vectorizer.vocabulary_)}')\n",
    "\n",
    "    lg = LogisticRegression(max_iter=max_iter).fit(train_vec, train['target'])\n",
    "\n",
    "    print(\n",
    "        f\"Train F1-score: {f1_score(train['target'], lg.predict(train_vec))}\")\n",
    "    print(f\"Test F1-score: {f1_score(test['target'], lg.predict(test_vec))}\")\n"
   ]
  },
  {
   "cell_type": "code",
   "execution_count": 21,
   "metadata": {},
   "outputs": [
    {
     "name": "stdout",
     "output_type": "stream",
     "text": [
      "Number of features: 10482\n",
      "Train F1-score: 0.9521264751725673\n",
      "Test F1-score: 0.752953813104189\n"
     ]
    }
   ],
   "source": [
    "test_vectorizer(train, test, CountVectorizer(tokenizer=custom_tokenizer))\n"
   ]
  },
  {
   "cell_type": "markdown",
   "metadata": {},
   "source": [
    "## Задание 9 (1 балл)\n",
    "\n",
    "1. Повторите 7 задание, но с tf-idf векторизатором. Как изменилось качество?\n",
    "2. Мы можем еще сильнее уменьшить размер нашей матрицы, если отбросим значения df близкие к единице. Скорее всего такие слова не несут много информации о категории, так как встречаются достаточно часто. Ограничьте максимальный df в параметрах TfIdfVectorizer, поставьте верхнюю границу равную 0.9. Как изменился размер матрицы, как изменилось качество?\n",
    "3. Также мы можем уменьшить размер матрицы, удаляя слова со слишком маленьким df. Удалось ли добиться улучшения качества? "
   ]
  },
  {
   "cell_type": "code",
   "execution_count": 22,
   "metadata": {},
   "outputs": [
    {
     "name": "stdout",
     "output_type": "stream",
     "text": [
      "Number of features: 10482\n",
      "Train F1-score: 0.8424753867791844\n",
      "Test F1-score: 0.7422222222222221\n"
     ]
    }
   ],
   "source": [
    "from sklearn.feature_extraction.text import TfidfVectorizer\n",
    "test_vectorizer(train, test, TfidfVectorizer(tokenizer=custom_tokenizer))\n"
   ]
  },
  {
   "cell_type": "markdown",
   "metadata": {},
   "source": [
    "> По сравнению с [CountVectorizer](#задание-8-1-балл) стало хуже, но незначительно. Возможно множитель IDF добавил важности некоторым словам, которые в реальности большой смысловой нагрузки не несут, но встречаются очень редко. В конце концов документами являются реальные твиты, а там могут быть и очепятки, и слэнг, и еще бог весть что.."
   ]
  },
  {
   "cell_type": "code",
   "execution_count": 23,
   "metadata": {},
   "outputs": [
    {
     "name": "stdout",
     "output_type": "stream",
     "text": [
      "Number of features: 10482\n",
      "Train F1-score: 0.8424753867791844\n",
      "Test F1-score: 0.7422222222222221\n"
     ]
    }
   ],
   "source": [
    "test_vectorizer(train, test, TfidfVectorizer(\n",
    "    tokenizer=custom_tokenizer, max_df=0.9))\n"
   ]
  },
  {
   "cell_type": "markdown",
   "metadata": {},
   "source": [
    "> Число фич не изменилось, а значит DF ни одной из них не превышает 90%. Качество, очевидно, также не изменилось."
   ]
  },
  {
   "cell_type": "code",
   "execution_count": 24,
   "metadata": {},
   "outputs": [
    {
     "name": "stdout",
     "output_type": "stream",
     "text": [
      "Number of features: 4523\n",
      "Train F1-score: 0.8251455180442374\n",
      "Test F1-score: 0.7466666666666668\n"
     ]
    }
   ],
   "source": [
    "test_vectorizer(train, test, TfidfVectorizer(\n",
    "    tokenizer=custom_tokenizer, min_df=0.0002, max_df=0.9))\n"
   ]
  },
  {
   "cell_type": "markdown",
   "metadata": {},
   "source": [
    "> Путем тяжелых математических операций (минута ручного бинарного поиска) удалось выяснить, что больше чем у половины слов DF меньше чем 0.02 процента, что кстати подтверждает гипотезу о большом количестве редких слов. После отсечения качество немного улучшается, но все еще не достигает уровня обычного [CountVectorizer](#задание-8-1-балл)"
   ]
  },
  {
   "cell_type": "markdown",
   "metadata": {},
   "source": [
    "## Задание 10 (1 балл)\n",
    "\n",
    "Еще один популяпный трюк, который позволит уменьшить количество признаков называется hashing trick. Его суть в том, то мы случайно группируем признаки ииии  ..... складываем их! А потом удаляем исходные признаки. В итоге все наши признаки это просто суммы исходных. Звучит странно, но это отлично работает. Давайте проверим этот трюк в нашем сеттинге.\n",
    "Также при таком подходе вам не нужно хранить словарь token->index, что тоже иногда полезно.\n",
    "\n",
    "1. Повторите задание 7 с HashingVectorizer, укажите количество фичей равное 5000.\n",
    "2. Какой из подходов показал самый высокий результат?"
   ]
  },
  {
   "cell_type": "code",
   "execution_count": 25,
   "metadata": {},
   "outputs": [
    {
     "name": "stderr",
     "output_type": "stream",
     "text": [
      "/opt/homebrew/Caskroom/miniforge/base/lib/python3.10/site-packages/sklearn/feature_extraction/text.py:524: UserWarning: The parameter 'token_pattern' will not be used since 'tokenizer' is not None'\n",
      "  warnings.warn(\n"
     ]
    },
    {
     "name": "stdout",
     "output_type": "stream",
     "text": [
      "Train F1-score: 0.7992547741034001\n",
      "Test F1-score: 0.7190635451505016\n"
     ]
    }
   ],
   "source": [
    "from sklearn.feature_extraction.text import HashingVectorizer\n",
    "\n",
    "test_vectorizer(train, test, HashingVectorizer(\n",
    "    tokenizer=custom_tokenizer, n_features=5000))\n"
   ]
  },
  {
   "cell_type": "markdown",
   "metadata": {},
   "source": [
    "> Качество стало еще хуже. Вспомним, что у [CountVectorizer](#задание-8-1-балл) было `10482` фич. Сокращая количество фич в 2 раза, причем рандомно, получить что-то хорошее довольно трудно. Возвращаясь к тому, что это твиттер и большинство слов очень редкие, получившиеся суммы фич вряд-ли несут адекватную нагрузку. Соответсвенно и делать на основе таких признаков предсказания становится значительно труднее."
   ]
  },
  {
   "cell_type": "markdown",
   "metadata": {},
   "source": [
    "## Задание 11 (1 балл)\n",
    "\n",
    "В этом задании нужно добиться f1 меры хотя в 0.75 на тестовых данных."
   ]
  },
  {
   "cell_type": "markdown",
   "metadata": {},
   "source": [
    "> Начнем с того, что и обычный [CountVectorizer](#задание-8-1-балл) уже справляется с задаей, выдавая `~0.753` на тестовых данных, поэтому попробуем добиться хотя бы `0.76`   \n",
    "\n",
    "> После долгих экспериментов с включением и выключением фильтров, различными токенайзерами, применением лемминизации и чтением твитов получилась функция `opt_tokenizer()`   \n",
    "> Что мы в ней делаем:   \n",
    "> 1. Ссылки. Наш старый `custom_tokenizer` попросту выбрасывает их, так как они содержат пунктуацию. В то же время просто оставлять в оригинале (как это делает `TweetTokenizer`) тоже не вариант, так как все ссылки уникальны, но при этом информацию о содержимом не несут. Тем не менее, наличие или отсутсвие ссылок в твите может иметь для нас ценность, поэтому все ссылки мы просто замением на слово `link` (а лучше на что-то такое, что не встретится нам в качестве реального токена в тексте)   \n",
    "> 2. Пробелы. В столбце `keyword` пробелы заменены на `%20`. Нам нет никакого смысла рассматривать подобные записи как один склеенный токен, поэтому мы их разбиваем.   \n",
    "> 3. Опускаем все буквы, тут и так понятно.   \n",
    "> 4. Токенизация. Путем экспериментов был выбран `TreebankWordTokenizer`. По не до конца понятному мне принципу, он разделяет слова и пунктуцию, но не везде (пример ниже). Фич при этом, логично, становится больше, но они видимо все-таки несут некоторую информацию.   \n",
    "> 5. Фильтры. А фильтров никаких нет, даже на стоп-слова. Опять же, фич больше, но мы надеемся, что они дадут нам дополнительную информацию.\n",
    "> 6. Стэмминг. Неожиданно, при попытке применить применить лемминизацию nltk качество заментно упало. С чем это связано я даже не берусь сказать, так что просто оставим все как есть.\n",
    "> В конечном итоге получаем `0.765`, прирост на `0.012`. Не так уж и много, но все же прирост. Вопрос лишь в том, стоил ли такой прирост затраченных усилий..."
   ]
  },
  {
   "cell_type": "code",
   "execution_count": 26,
   "metadata": {},
   "outputs": [],
   "source": [
    "from nltk.tokenize import TreebankWordTokenizer\n",
    "\n",
    "def opt_tokenizer(s: str):\n",
    "    s = re.sub('https?://t.co/[a-zA-Z0-9]*', 'link', s)\n",
    "    s = s.replace('%20', ' ')\n",
    "    s = s.lower()\n",
    "\n",
    "    vec = TreebankWordTokenizer().tokenize(s)\n",
    "\n",
    "    stemmer = SnowballStemmer('english')\n",
    "    vec = [stemmer.stem(w) for w in vec]\n",
    "    return vec\n"
   ]
  },
  {
   "cell_type": "code",
   "execution_count": 27,
   "metadata": {},
   "outputs": [
    {
     "name": "stdout",
     "output_type": "stream",
     "text": [
      "Number of features: 14612\n",
      "Train F1-score: 0.9663865546218487\n",
      "Test F1-score: 0.7652838427947598\n"
     ]
    }
   ],
   "source": [
    "test_vectorizer(train, test, CountVectorizer(tokenizer=opt_tokenizer), 10000)\n"
   ]
  },
  {
   "cell_type": "code",
   "execution_count": 28,
   "metadata": {},
   "outputs": [
    {
     "name": "stdout",
     "output_type": "stream",
     "text": [
      "['#war', 'annihil', 'usa', 'one', 'thing', 'promis', 'israel', 'annihil', 'horror', 'iran', 'w', 'nuke']\n",
      "['#', 'war', '@', 'elonmusk', 'annihil', 'usa', 'one', 'thing', 'for', 'sure-god', 'has', 'promis', 'israel', 'will', 'not', 'be', 'annihilated.', 'but', '...', 'the', 'horror', 'of', 'iran', 'w/nukes.', 'link']\n"
     ]
    }
   ],
   "source": [
    "s = '#war @elonmusk annihilated USA One thing for sure-God has promised Israel will not be annihilated. But...the horror of Iran w/nukes. https://t.co/xn09Mx6sxy'\n",
    "print(custom_tokenizer(s))\n",
    "print(opt_tokenizer(s))\n",
    "\n"
   ]
  }
 ],
 "metadata": {
  "kernelspec": {
   "display_name": "Python 3 (ipykernel)",
   "language": "python",
   "name": "python3"
  },
  "language_info": {
   "codemirror_mode": {
    "name": "ipython",
    "version": 3
   },
   "file_extension": ".py",
   "mimetype": "text/x-python",
   "name": "python",
   "nbconvert_exporter": "python",
   "pygments_lexer": "ipython3",
   "version": "3.9.7"
  }
 },
 "nbformat": 4,
 "nbformat_minor": 2
}
